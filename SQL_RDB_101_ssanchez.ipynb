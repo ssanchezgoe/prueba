{
  "nbformat": 4,
  "nbformat_minor": 0,
  "metadata": {
    "colab": {
      "name": "SQL_RDB_101_ssanchez.ipynb",
      "provenance": [],
      "collapsed_sections": [
        "ZQwDggRhu2g-",
        "z_KIupRo_83V",
        "LpFoLC_0GYBz",
        "hS8PfMR4pbGd",
        "MtJUQV1G6KIK",
        "1srV9dNMYySs",
        "00E_w10CH26z",
        "OmxCaVdOPecT",
        "9GX20CEUZxB_",
        "NAJ0xMy9zAjo",
        "AZS0c-Ju4f8E",
        "xCCQEnPw-3Vj",
        "jJN7mXMTAXky",
        "Shb7P6VaBnWh",
        "yZEskF-qDNqO",
        "8zO0U1xlFj6z",
        "cODeVuGpNJFf",
        "HzOda29gHCfn",
        "JGljWB4DXxy9",
        "_LqEd5F1QhjJ",
        "Bv_XHaSZSoRM",
        "KXT5xogufJn4"
      ],
      "authorship_tag": "ABX9TyODE5PumDU2Iv2C3WLPFDEu",
      "include_colab_link": true
    },
    "kernelspec": {
      "name": "python3",
      "display_name": "Python 3"
    }
  },
  "cells": [
    {
      "cell_type": "markdown",
      "metadata": {
        "id": "view-in-github",
        "colab_type": "text"
      },
      "source": [
        "<a href=\"https://colab.research.google.com/github/ssanchezgoe/prueba/blob/master/SQL_RDB_101_ssanchez.ipynb\" target=\"_parent\"><img src=\"https://colab.research.google.com/assets/colab-badge.svg\" alt=\"Open In Colab\"/></a>"
      ]
    },
    {
      "cell_type": "markdown",
      "metadata": {
        "id": "IKOVpM8H3xSe",
        "colab_type": "text"
      },
      "source": [
        "#**MODULO 2: Bases de datos**\n",
        "#**Notebook: SQL**\n",
        "#**CLASE 1: Secciones A, B, C y G**"
      ]
    },
    {
      "cell_type": "markdown",
      "metadata": {
        "id": "X6kHYKZEE7wE",
        "colab_type": "text"
      },
      "source": [
        "#**A. SQL y Bases de datos relacionales**"
      ]
    },
    {
      "cell_type": "markdown",
      "metadata": {
        "id": "ZQwDggRhu2g-",
        "colab_type": "text"
      },
      "source": [
        "##**1. ¿Qué es SQL las bases de datos relacionales?**\n",
        "\n",
        "**¿Qué es SQL?**\n",
        "\n",
        "SQL es un lenguaje usado en las bases de datos relacionales con el fin de crear, modificar y consultar los datos que en ellas se almacenan. SQL es el acrónimo en inglés de **Structured Query Language**, o, **Lenguaje de consulta estructurada**.\n",
        "\n",
        "**¿Que son los Datos?**\n",
        "\n",
        "Los datos corresponden a colecciones de hechos en forma de:\n",
        "\n",
        "- Palabras: que pueden representar categorias, reseñas, etc.\n",
        "- Números: Como la edad de una persona, el ingreso mensual, etc.\n",
        "- Imágenes.\n",
        "- Entre otros.\n",
        "\n",
        "Tenemos que tener en cuenta que **los datos representan el activo más importante para cualquier negocio**. Existen varios ejemplos del uso de datos por parte de compañías:\n",
        "\n",
        "- **Los bancos**, por ejemplo, guardan de cada uno de nosotros un perfil con datos como el NOMBRE, DIRECCION, MOVIL, NUMERO DE CUENTA, etc.\n",
        "\n",
        "- Ciertas compañias de servicios pueden almacenar datos de personas como su CUPO DE ENDEUDAMIENTO, ESTRATO, un estimado de INGRESOS mensuales, etc.\n",
        "\n",
        "Con el fin de tener acceso a estos datos de forma fácil y segura es que se crean las bases de datos.\n",
        "\n",
        "**¿Qué es una base de datos?**\n",
        "\n",
        "Una base de datos es un repositorio que almacena información de forma estructurada o no. Corresponde entonces, a un programa que almacena datos. Una base de datos proporciona, a su vez, las funcionalidades necesarias para **adicionar, modificar y consultar los datos**. \n",
        "\n",
        "Existen diferentes tipos de bases de datos que tienen como fin satisfacer diferentes necesidades, de tal forma que pueden ser guardadas de varias formas. \n",
        "\n",
        "**Bases de datos relacionales**\n",
        "\n",
        "En el caso de tener diferentes datos almacenados en una forma tabular (organizados en tablas) como en el caso de una hoja de cálculo, hablamos de una báse de datos relacional. La siguiente figura ilustra un elemento de este tipo de base de datos, con el que muchos de ustedes estarán familiarizados.\n",
        "\n",
        "<center>\n",
        "    <img height=\"200px\" src=\"https://github.com/ssanchezgoe/flask_vscode_tutorial/blob/master/imagenes/tabla_ejemplo.png?raw=true\" />\n",
        "</center>\n",
        "\n",
        "Cada una de las columnas contienen propiedades sobre los ítems como el Nombre, la Ciudad, la Edad, el e-mail y el País. \n",
        "\n",
        "Definimos, entonces, a una tabla como una colección de elementos relacionados, como una lista de empleados, o una lista de autores de artículos, etc. En la bases de datos relacionales podemos formar relaciones entre tablas. Así, **una base de datos es un repositorio de datos**.\n",
        "\n",
        "Dentro de las bases de datos se define a un **sistema de gestión de bases de datos**, para dotarla de funcionalidad operativa (en inglés DBMS - Data Base Managment System). A menudo, al DBMS se le denomina como \n",
        "\n",
        "- *Base de datos*\n",
        "- *Servidor de base de datos* \n",
        "- *Servidor de datos*\n",
        "- *Gestor de base de datos*. \n",
        "\n",
        "En el caso de una base de datos relacional, se le conoce, en inglés, como RDBMS (Relational Data Base Managment System). \n",
        "\n",
        "---\n",
        "**RDBMS:** Conjunto de herramientas de software que controla aspectos de los datos como acceso, organización y almacenamiento.\n",
        "\n",
        "Algunos ejemplos de *RDBMS* son:\n",
        "\n",
        "- MySQL\n",
        "- SQLite\n",
        "- Oracle\n",
        "- DB2 Express-C\n",
        "---\n",
        "\n",
        "Para la mayoria de personas que usan una base de datos, existen cinco comandos de uso común los cuales son:\n",
        "\n",
        "- CREATE: Para crear tablas.\n",
        "- INSERT: Para insertar datos en las tablas. \n",
        "- SELECT: Para seleccionar datos de una tabla\n",
        "- UPDATE: Para actualizar datos de una tabla\n",
        "- DELETE: Para borrar datos de una tabla\n",
        "\n",
        "que representan los pilares en SQL y las bases de datos relacionales.\n",
        "\n",
        "\n"
      ]
    },
    {
      "cell_type": "markdown",
      "metadata": {
        "id": "GQGGv54YwAvs",
        "colab_type": "text"
      },
      "source": [
        "## **2. Información y Modelos de datos**\n",
        "\n",
        "Objetivos de la unidad:\n",
        "\n",
        "1. Descripcion de diferencias entre modelo de información y modelo de datos\n",
        "2. Explicación de la ventaja de un modelo relacional.\n",
        "3. Descripción de la diferencia entre una entidad y un atributo.\n",
        "\n"
      ]
    },
    {
      "cell_type": "markdown",
      "metadata": {
        "id": "z_KIupRo_83V",
        "colab_type": "text"
      },
      "source": [
        "###**Modelo de información vs Modelo de datos**\n",
        "\n",
        "Un **modelo de información** es una representanción abstracta y formal de **entidades**(Tablas) que incluye a sus propiedades, relaciones y operaciones que pueden ser realizadas en estas. Las **entidades** que son modeladas pueden provenir del mundo real, como un hospital, una inmobiliaria, etc.\n",
        "\n",
        "Los **modelos de información** y los **modelos de datos** son diferentes y sirven para propósitos diferentes. El **modelo de información** se encuentra más a un nivel conceptual que define las relaciones entre los objetos, independiente del sistema de base de datos. Los **modelos de datos** se definen a un nivel más concreto, son específicos e incluye detalles específicos. Un modelo de datos es un cianotipo de cualquier sistema de bases de datos. El más popular es el **modelo de datos de tipo jerárquico**, usado para mostrar organigramas.  Como se muestra en la siguiente figura, el modelo jerárquico organiza sus datos usando una estructura de árbol. La raíz del arbol es el **nodo padre** segido de los **nodos hijos**, Un nodo hijo no puede tener más de un padre, no obstante, un nodo padre puede tener varios nodos hijos.\n",
        "\n",
        "<center>\n",
        "    <img height=\"330px\" src=\"https://github.com/ssanchezgoe/flask_vscode_tutorial/blob/master/imagenes/organigrama-de-una-empresa.png?raw=true\n",
        "\" />\n",
        "</center>\n",
        "\n"
      ]
    },
    {
      "cell_type": "markdown",
      "metadata": {
        "id": "LpFoLC_0GYBz",
        "colab_type": "text"
      },
      "source": [
        "###**Modelo de datos Relacional o Modelo relacional**\n",
        "\n",
        "El **modelo relacional** es el modelo de datos más usado en bases de datos, ya que este modelo permite la indepencencia entre datos. Como se ha mencionado anteriormente, los datos son almacenados en una estructura simple, como una tabla. Esta estructura proporciona una independencia lógida de los datos, una independencia física, y una independencia en su almacenamiento físico. "
      ]
    },
    {
      "cell_type": "markdown",
      "metadata": {
        "id": "hS8PfMR4pbGd",
        "colab_type": "text"
      },
      "source": [
        "###**Modelo de datos entidad-relación**\n",
        "\n",
        "Un modelo de datos **entidad-relación**, o modelo de datos ER, es una representación del a través entidades y sus relaciones. Este modelo postula que una base de datos debe ser pensada como una colección de entidades. En lugar de utilizarse este modelo como un modelo de datos en si mismo, el modelo ER se usa como herramienta para diseñar base de datos relacionales. En el modelo ER, las entidades son objetos que existen independientes de cualquier otra entidad en la base de datos. Es sencillo convertir un diagrama de ER en una colección de tablas. Los componentes básicos de un diagrama de ER son **entidades**, **relaciones** y **atributos**. Las entidades tienen atributos que corresponden a elementos de datos que la caracterizan, es decir que los atributos nos brindan más información de la entidad. En un diagrama ER, las entidades se dibujan como rectángulos y los atributos como ovalos. Las entidades pueden ser un sustantivo (persona, animal, lugar o cosa). En la siguiente figura se ilustra diagrama ER de forma general.\n",
        "\n",
        "\n",
        "<center>\n",
        "    <img height=\"330px\" src=\"https://github.com/ssanchezgoe/flask_vscode_tutorial/blob/master/imagenes/ERC.png?raw=true\n",
        "\" />\n",
        "</center>\n",
        "\n",
        "Para convertir un modelo ER a una tabla, las entidades corresponderían al nombre de la tabla, y los atributos a la columna, como se especifica en la figura. En el caso concreto de una base de datos de casas, un diagrama ER tendría la siguiente siguiente forma.\n",
        "\n",
        "<center>\n",
        "    <img height=\"330px\" src=\"https://github.com/ssanchezgoe/flask_vscode_tutorial/blob/master/imagenes/ERD_casa.png?raw=true\" />\n",
        "</center>\n",
        "\n",
        "En el proceso de construcción de una base de datos de casas, que puede poseer una inmoviliaria, por ejemplo, lo primero sería identificar cada una de las entidades, y cada una de las entidades deben estar compuestas por sus respectivos atributos. Cada una de las entidades se convertirá entonces en una tabla:\n",
        "\n",
        "\n",
        "<center>\n",
        "    <img height=\"500px\" src=\"https://github.com/ssanchezgoe/flask_vscode_tutorial/blob/master/imagenes/ERD_inmoviliaria.png?raw=true\" />\n",
        "</center>\n",
        "\n",
        "\n"
      ]
    },
    {
      "cell_type": "markdown",
      "metadata": {
        "id": "dfvREj_8we0_",
        "colab_type": "text"
      },
      "source": [
        "##**3. Tipos de relaciones**\n",
        "\n",
        "En esta sección se estudiarán los tipos de **relaciones existentes entre las entidades**. Los objetivos de esta sección son los siguitens:\n",
        "\n",
        "- Descripción de los elementos constitutivos de una relación.\n",
        "- Compresión de los simbolos usados en un conjunto de relaciones.\n",
        "- Comprensión de las diferencias de las relaciones uno-contra-uno o varios-contra-varios."
      ]
    },
    {
      "cell_type": "markdown",
      "metadata": {
        "id": "MtJUQV1G6KIK",
        "colab_type": "text"
      },
      "source": [
        "###**Building Blocks - Elementos constitutivos en las relaciones**\n",
        "\n",
        "Los elementos constitutivos (Building Blocks) en una relación están dados por\n",
        "\n",
        "- Entidades\n",
        "\n",
        "  <center>\n",
        "    <img height=\"80px\" src=\"https://github.com/ssanchezgoe/flask_vscode_tutorial/blob/master/imagenes/BB_Entidad.png?raw=true\" />\n",
        "</center>\n",
        "\n",
        "- Conjuntos de relaciones, con líneas conectando las entidades\n",
        "\n",
        "  <center>\n",
        "    <img height=\"200px\" src=\"https://github.com/ssanchezgoe/flask_vscode_tutorial/blob/master/imagenes/BB_Conjunto_relaciones.png?raw=true\" />\n",
        "</center>\n",
        "\n",
        "\n",
        "- Anotaciones de patas de gallo\n",
        "\n",
        "  <center>\n",
        "    <img height=\"80px\" src=\"https://github.com/ssanchezgoe/flask_vscode_tutorial/blob/master/imagenes/BB_pataGallo.png?raw=true\" />\n",
        "</center>\n",
        "\n",
        "\n",
        "Veamos un ejemplo que trabajamos en la sección anterior de entidades y atributos que se resumen en la siguiente tabla: \n",
        "\n",
        "\n",
        "\n",
        "Entidad | Atributos\n",
        "-- | --\n",
        "Vivienda | - Tipo <br> - Precio <br> - Habitaciones <br> - Barrio <br> - Parqueadero <br> - Estrato <br> - Ciudad <br> - Área\n",
        "Propietario | - ID propietario <br> - Nombre <br> - Apellido <br> - e-mail <br> - País <br> - Ciudad\n",
        "\n",
        "**¿Qué relación existe entre las entidades Vivien y Propietario?**\n",
        "\n",
        "1. Una vivienda tiene que tener al menos un propietario.\n",
        "2. Un propietario tendrá al menos una casa\n",
        "\n",
        "De estos ejemplos vemos que una vivienda necesita al menos un propietario. El conjunto de relaciones que se da aquí es de propietario. Una vivienta debe tener al menos un propietario.\n",
        "\n",
        "- **Relación uno a uno** \n",
        "\n",
        "En el siguiente esquema se ilustra dicha relación en donde una vivienda tiene un solo propietario. Las líneas gruesas indican que cada entidad en el conjunto de entidades está relacionada mediante una relación. A esto se le llama relación uno a uno. En los diagramas de relaciones solo se utilizan entidades. Los atributos se omiten porque pueden saturar los diagramas.\n",
        "\n",
        "<center>\n",
        "    <img height=\"200px\" src=\"https://github.com/ssanchezgoe/flask_vscode_tutorial/blob/master/imagenes/one-to-one.png?raw=true\" />\n",
        "</center>\n",
        "\n",
        "- **Relación uno a varios**\n",
        "\n",
        "En el siguiente esquema se ilustra dicha relación en donde una vivienda tiene más de un propietario. Este caso se representa usando el esquema de pata de gato para representar una relación de **uno-a-varios** (one-to-many)\n",
        "\n",
        "\n",
        "<center>\n",
        "    <img height=\"200px\" src=\"https://github.com/ssanchezgoe/flask_vscode_tutorial/blob/master/imagenes/one-to-many.png?raw=true\" />\n",
        "</center>\n",
        "\n",
        "- **Relación varios a varios**\n",
        "\n",
        "En el siguiente esquema se ilustra dicha relación en donde una varias viviendas con varios propietarios. Este caso se representa usando dos esquemas de pata de gato para representar las relacion de **varios-a-varios** (many-to-many)\n",
        "\n",
        "\n",
        "<center>\n",
        "    <img height=\"200px\" src=\"https://github.com/ssanchezgoe/flask_vscode_tutorial/blob/master/imagenes/varios-a-varios.png?raw=true\" />\n",
        "</center>\n",
        "\n",
        "\n"
      ]
    },
    {
      "cell_type": "markdown",
      "metadata": {
        "id": "W6QOwS4CAjXm",
        "colab_type": "text"
      },
      "source": [
        "##**4. Mapeo de entidades a tablas**\n",
        "\n",
        "En esta sección se expondrá como pasar de un diagrama Entidad-Relación a una tabla de una base de datos relacional compuesta por filas y columnas."
      ]
    },
    {
      "cell_type": "markdown",
      "metadata": {
        "id": "1srV9dNMYySs",
        "colab_type": "text"
      },
      "source": [
        "### **Diagramas ER**\n",
        "\n",
        "Los diagramas de Entidad-Relación representan los cimientos para construir una base de datos. En el diseño de una base de datos relacional, se debe empezar con un diagrama ER, para luego mapearlo a tablas en una base de datos.\n",
        "\n",
        "Veamos los dos casos expuestos de las entidades `Vivienda` y `Propietario`:\n",
        "\n",
        "Entidad <br> Tabla | Atributos <br> Columnas\n",
        "-- | --\n",
        "Vivienda |- ID_Vivienda <br> - Tipo <br> - Precio <br> - Habitaciones <br> - Barrio <br> - Parqueadero <br> - Estrato <br> - Ciudad <br> - Área\n",
        "Propietario | - ID propietario <br> - Nombre <br> - Apellido <br> - e-mail <br> - País <br> - Ciudad\n",
        "\n",
        "Las dos tablas derivadas de estas dos entidades serían las siguientes\n",
        "\n",
        "- Entidad Vivienda\n",
        "\n",
        "ID_Vivienda | Tipo | Precio | Habitaciones | Barrio | Parqueadero | Estrato | Ciudad | Área\n",
        "-- | -- | -- | -- | -- | -- | -- | -- | --\n",
        "0001A| Apartamento | 280.000.000| 2 | El portal | Si | 4 | Envigado | 80 m$^2$\n",
        "0002A|Casa | 580.000.000| 4 | Usaquén | Si | 6 | Bogotá | 220 m$^2$\n",
        "0003A|Aparta Estudio | 200.000.000| 1 | Estadio | No | 5 | Medellín | 50 m$^2$\n",
        "0004A|Apartamento | 160.000.000| 2 | Aranjuez | No | 3 | Medellín | 85 m$^2$\n",
        "0005A|Casa | 770.000.000| 3 | Cedritos | Si | 6 | Bogotá | 310 m$^2$\n",
        "\n",
        "- Entidad Propietario\n",
        "\n",
        "ID Propietario | Nombre | Apellido | e-mail | País | Ciudad \n",
        "-- | -- | -- | -- | -- | -- \n",
        "00001 | Carlos| Castro | cc2@gmail.com | Colombia |  Envigado\n",
        "00002 | Adriana| Tamayo | atamayo22@outlook.com | Colombia | Bogotá\n",
        "00003 | Pedro| Parra | pp3@mailito.com | Colombia | Calí \n",
        "00004 | Isabel| Idarraga | ii3@hotmail.com |Colombia | Cartagena\n",
        "00005 | Ana| Alcántara | aa1@utp.com | Colombia | Bello\n",
        "\n"
      ]
    },
    {
      "cell_type": "markdown",
      "metadata": {
        "id": "lHdBt7LklQup",
        "colab_type": "text"
      },
      "source": [
        "##**5. Conceptos del modelo relacional**\n",
        "\n",
        "En esta sección se aboradrán los siguientes objetivos\n",
        "\n",
        "-  Definición de los términos relacionales: relación, grado y cardinalidad.\n",
        "\n",
        "- Explicación de la diferencia entre **esquema relacional** e **instancia relacional**."
      ]
    },
    {
      "cell_type": "markdown",
      "metadata": {
        "id": "cnlTyMmLuIv6",
        "colab_type": "text"
      },
      "source": [
        "### **Introducción**\n",
        "\n",
        "El modelo relacional fue propuesto por primera vez en 1970, y se basó en un modelo matemático de donde se heredaron varios términos. \n",
        "\n",
        "**Conceptos del modelo relacional:**\n",
        "\n",
        "Los bloques constitutivos (building blocks) de un modelo relacional son:\n",
        "\n",
        "- Relaciones: Una relación es un concepto que se basa en la idea de conjuntos.\n",
        "- Conjunto: Es una colección de elementos distintos sin orden, pero del mismo tipo.\n",
        "\n",
        "**Base de datos relacional:**\n",
        "\n",
        "Una **base de datos relacional** es conjunto de entidades y sus relaciones respectivas. La **relación** es, a su vez, un término matemático para una tabla, que es una combinación de filas y columnas. Una **relación** se divide en dos partes\n",
        "\n",
        "- Esquema relacional: Especifica el nombre de dicho esquema y los nombres y tipos de cada atributo. Por ejemplo, en el caso de la relación *Vivienda* tenemos:\n",
        "\n",
        "Atributo | Tipo\n",
        "-- | --\n",
        "Tipo| `string`\n",
        "Precio| `float`\n",
        "Habitaciones| `int`\n",
        "Barrio| `int`\n",
        "Parqueadero| `string`\n",
        "Estrato| `int`\n",
        "Ciudad| `string`\n",
        "Área |`float`\n",
        "\n",
        "- Instancia relacional: Tabla compuesta por filas y columnas\n",
        "  - Columnas $\\rightarrow$ Atributos/Campos\n",
        "  - Filas $\\rightarrow$ Tuplas\n",
        "  - Grado:  Número de atributos\n",
        "  - Cardinalidad: Número de tuplas\n",
        "\n",
        "\n",
        "<center>\n",
        "    <img height=\"250px\" src=\"https://github.com/ssanchezgoe/flask_vscode_tutorial/blob/master/imagenes/instancia_relacional.png?raw=true\n",
        "\" />\n",
        "</center>\n"
      ]
    },
    {
      "cell_type": "markdown",
      "metadata": {
        "id": "AebTHOB45xGW",
        "colab_type": "text"
      },
      "source": [
        "# **B. Restricciones del modelo relacional y Objetos de Datos**\n",
        "\n",
        "A lo largo de esta sección se cubrirán los dos siguientes temas:\n",
        "\n",
        "- Introducción a las restricciones del modelo relacional.\n",
        "- Restricciones del modelo relacional avanzadas."
      ]
    },
    {
      "cell_type": "markdown",
      "metadata": {
        "id": "ET4tohvuG79A",
        "colab_type": "text"
      },
      "source": [
        "## **1. Introducción a las restricciones del modelo relacional**\n",
        "\n",
        "En esta subsección se estudiarán los siguientes tópicos:\n",
        "\n",
        "- Explicación de las referencias.\n",
        "- Diferencias entre clave primaria y clave foranea.\n",
        "- Identificación de una tabla padre y tabla dependiente."
      ]
    },
    {
      "cell_type": "markdown",
      "metadata": {
        "id": "00E_w10CH26z",
        "colab_type": "text"
      },
      "source": [
        "<p><a name=\"referencias\"></a></p>\n",
        "\n",
        "###**Referencias**\n",
        "\n",
        "Dentro de cualquier negocio, los datos deben cumplir con ciertas restricciones o reglas. \n",
        "\n",
        "\n",
        "En esta subsección, nos remitiremos al ejempo de **Vivienda** y **Propietario**. En la relación uno a uno, vimos que una **Vivienda** le corresponde a solo un **Propietario**. Para buscar la información del **Propietario**, la entidad **Vivienda** se refiere a la entidad **Propietario**. Para buscar la información de **Vivienda**, la entidad **Propietario** se refiere a la entidad **Vivienda**; en un modelo de datos relacionales, a esto se le conoce como referencia. En las bases de datos relacionales, esto establece la integridad de los datos entre dos relaciones.\n",
        "\n",
        "\n",
        "\n",
        "<center>\n",
        "    <img height=\"250px\" src=\"https://github.com/ssanchezgoe/flask_vscode_tutorial/blob/master/imagenes/referenciacion.png?raw=true\n",
        "\" />\n",
        "</center>"
      ]
    },
    {
      "cell_type": "markdown",
      "metadata": {
        "id": "OmxCaVdOPecT",
        "colab_type": "text"
      },
      "source": [
        "###**Representación de un modelo de datos relacional en un Diagrama ER.**\n",
        "\n",
        "El diagrama de Entidad-Relación representa el modelo de datos relacionales para la entidad de **Propietario** y la entidad **Vivienda** como parte de un modelo de base de datos de una inmobiliaria simplificada. \n",
        "\n",
        "Además, se han agregado otras entidades, como Comprador, Lista_Propietario y Copia. Nótese que los atributos `ID_Propietario`, `ID_vivienda`, `ID_Comprador` e `ID_Copia`  tienen una ubicación especial que la asigna como la **clave principal**. Una **clave principal** de una tabla relacional identifica de forma única cada fila de una tabla. Nótese además que algunos atributos tienen el indicativo **FK**. Por ejemplo, la entidad `Copia` tiene el atributo `ID_vivienda` etiquetado como `FK`. `FK` nos indica una **clave externa**, que corresponde a un conjunto de columnas que hacen referencia a una **clave primaria** de otra tabla. Estas entidades son parte del conjunto de relaciones entre las entidades por arriba de ellas. Todas las entidades tienen una relación de uno a varios establecida entre ellas.\n",
        "\n",
        "\n",
        "<center>\n",
        "    <img height=\"500px\" src=\"https://github.com/ssanchezgoe/flask_vscode_tutorial/blob/master/imagenes/ERC_claves.png?raw=true\n",
        "\" />\n",
        "</center>\n",
        "\n"
      ]
    },
    {
      "cell_type": "markdown",
      "metadata": {
        "id": "9GX20CEUZxB_",
        "colab_type": "text"
      },
      "source": [
        "###**Terminología del modelo relacional**\n",
        "\n",
        "Alguna terminología relacionada con el esquema anterior es la siguiente:\n",
        "\n",
        "- **Tabla padre**: Corresponde a una tabla que contienen una **clave primaria** que se realaciona con al menos una **clave foránea**. En el caso de la inmobiliaria, las tablas de **Vivienda** y **Propietario** son tablas padres. \n",
        "- Tabla dependiente: Una tabla que posee al menos una **clave foránea** se le conoce como **tabla dependiente** o **tabla hijo**. En ERD anterior, las tablas `Lista_propietario` y `Copia` son tablas dependientes."
      ]
    },
    {
      "cell_type": "markdown",
      "metadata": {
        "id": "LnxAy5HJs6e5",
        "colab_type": "text"
      },
      "source": [
        "##**2. Restricciones avanzadas al modelo relacional**\n",
        "\n",
        "En esta subsección se abarcarán los siguientes tópicos:\n",
        "\n",
        "- Seis restricciones en el modelo relacional de bases de datos.\n",
        "\n",
        "- Descripción de diferentes tipos de restricciones del modelo relacional."
      ]
    },
    {
      "cell_type": "markdown",
      "metadata": {
        "id": "4vHqmALbu18k",
        "colab_type": "text"
      },
      "source": [
        "###**Restricciones**\n",
        "\n",
        "Dentro de cualquier negocio, los datos deben seguir ciertas reglas o restricciones. Las **restricciones** facilitan en un negocio la implementación de reglas para preservar correctamente los datos. En un modelo relacional de datos, la integridad de estos puede alcanzarse al usar reglas y restricciones. Las siguientes seis restricciones se definen en un modelo de bases de datos relacional:\n",
        "\n",
        "- Restricción a la **Integridada de la Entidad**\n",
        "- Restricción a la **Integridad Referencial**\n",
        "- Restricción a la **Integridad Semántica**\n",
        "- Restricción al **Dominio**\n",
        "- Restricción de **`Null`**\n",
        "- Restricción de **Revisión**"
      ]
    },
    {
      "cell_type": "markdown",
      "metadata": {
        "id": "NAJ0xMy9zAjo",
        "colab_type": "text"
      },
      "source": [
        "####**Restricción a la Integridad de la Entidad**\n",
        "\n",
        "Para identificar cada tupla en una relación, la relación debe contener una **clave primaria** `[PK]`. La **clave primaria** es un **valor único** que identifica cada tupla o fila en la tabla. A esta restricción la conocemos como **Restricción a la Integridad de la Entidad**; también puede usarse el término **Restricción a la clave primaria**  o **Restricción Única**. El objetivo de esta restricción es evitar valores duplicados en la tabla. Para implementar estas retricciones, se deben usar índices. \n",
        "\n",
        "La restricción a la integridad de la entidad establece que ningún atributo que haga parte de la clave primaria de una relación puede tener por valor un `NULL`. El valor `Null` nos indica que no conocemos el valor almacenado. En la restricción a la integridad de la entidad, la **clave primaria** no puede tener un valor desconocido. Por ejemplo, en la siguiente relación, correspondiente a la `Vivienda`, `ID_Vivienda` repreenta la clave primaria e identifica cada tupla de la relación. En este caso, `ID_Vivienda 0001A` apunta a un apartamento en el Portal, Envigado. Sin embargo, Si hacemos nulo a  `ID_Vivienda 0001A`, aún se podrá identificar la vivienda en el Portal, Envigado. Sin embargo, si hacemos `ID_Vivienda 0005A` nula también, no sabremos identificar a qué tupla le correponde qué valor nulo. Con la restricción a la integridad de la entidad, los atributos que hacen parte de la clave primaria pueden aceptar valores de ID nulos. \n",
        " \n",
        "<font color='red'>ID_Vivienda [FK]</font> | <font color='red'>Tipo</font> | <font color='red'>Precio</font> | <font color='red'>Habitaciones</font> | <font color='red'>Barrio</font> | <font color='red'>Parqueadero</font> | <font color='red'>Estrato</font> | <font color='red'>Ciudad</font> | <font color='red'>Área</font>\n",
        "-- | -- | -- | -- | -- | -- | -- | -- | --\n",
        "0001A| Apartamento | 280.000.000| 2 | El portal | Si | 4 | Envigado | 80 m$^2$\n",
        "0002A|Casa | 580.000.000| 4 | Usaquén | Si | 6 | Bogotá | 220 m$^2$\n",
        "0003A|Aparta Estudio | 200.000.000| 1 | Estadio | No | 5 | Medellín | 50 m$^2$\n",
        "0004A|Apartamento | 160.000.000| 2 | Aranjuez | No | 3 | Medellín | 85 m$^2$\n",
        "0005A|Casa | 770.000.000| 3 | Cedritos | Si | 6 | Bogotá | 310 m$^2$"
      ]
    },
    {
      "cell_type": "markdown",
      "metadata": {
        "id": "AZS0c-Ju4f8E",
        "colab_type": "text"
      },
      "source": [
        "####**Restricción a la integridad referencial**\n",
        "\n",
        "La **Restricción a la integridad referencial** define relaciones entre tablas, asegurándose que estas relaciones permanezcan válidas. La validez de un datos es reforzada usando una combinación de claves primarias y claves foráneas. Como se mencionó en la sección de [referencias](#referencias), para que una vivienda pueda existir, se necesita de al menos un propietario."
      ]
    },
    {
      "cell_type": "markdown",
      "metadata": {
        "id": "xCCQEnPw-3Vj",
        "colab_type": "text"
      },
      "source": [
        "####**Restricción a la Integridad Semántica**\n",
        "\n",
        "La **Restricción a la Integridad Semántica**, hace referencia a la exactitud del significado de los datos. Por ejemplo, si en atributo (columna) `Ciudad` de la tabla `Propietario`, se encontrara un valor sin sentido, la restricción a la integridad semántica nos impone revisar su validez.\n",
        "\n",
        "ID Propietario | Nombre | Apellido | e-mail | País | Ciudad \n",
        "-- | -- | -- | -- | -- | -- \n",
        "00001 | Carlos| Castro | cc2@gmail.com | Colombia | <font color='red'>**$GfasFD**</font> \n",
        "00002 | Adriana| Tamayo | atamayo22@outlook.com | Colombia | Bogotá\n",
        "00003 | Pedro| Parra | pp3@mailito.com | Colombia | Calí \n",
        "00004 | Isabel| Idarraga | ii3@hotmail.com |Colombia | Cartagena\n",
        "00005 | Ana| Alcántara | aa1@utp.com | Colombia | Bello"
      ]
    },
    {
      "cell_type": "markdown",
      "metadata": {
        "id": "jJN7mXMTAXky",
        "colab_type": "text"
      },
      "source": [
        "####**Restricción al Dominio**\n",
        "\n",
        "La **Restricción al Dominio** especifica el tipo de dato que debe contener una columna. Por ejemplo, en la relación `Vivienda`, las ciudades son identificadas con nombres; si en algunas entradas tuviésemos un valor numérico, éste carecería de sentido.\n",
        "\n",
        "ID_Vivienda | Tipo | Precio | Habitaciones | Barrio | Parqueadero | Estrato | Ciudad | Área\n",
        "-- | -- | -- | -- | -- | -- | -- | -- | --\n",
        "0001A| Apartamento | 280.000.000| 2 | El portal | Si | 4 | Envigado | 80 m$^2$\n",
        "0002A|Casa | 580.000.000| 4 | Usaquén | Si | 6 | <font color='red'>**34**</font> | 220 m$^2$\n",
        "0003A|Aparta Estudio | 200.000.000| 1 | Estadio | No | 5 | Medellín | 50 m$^2$\n",
        "0004A|Apartamento | 160.000.000| 2 | Aranjuez | No | 3 | Medellín | 85 m$^2$\n",
        "0005A|Casa | 770.000.000| 3 | Cedritos | Si | 6 | Bogotá | 310 m$^2$\n",
        "\n",
        "**Nota:** Las restricciones de **Semántica** y **Dominio** son similares, no obstante, la primera nos indica si un valor almacenado tiene significado o nó, mientras que la segunda nos indica si el tipo del dato almacenado es correcto."
      ]
    },
    {
      "cell_type": "markdown",
      "metadata": {
        "id": "Shb7P6VaBnWh",
        "colab_type": "text"
      },
      "source": [
        "####**Restricción de `Null`**\n",
        "\n",
        "La restricción de `Null` establece que ningún atributo debe aceptar valores `Null` o vacios. Por ejemplo, si en la entidad `Propietario` alguno de los atributos de `Nombre` o `Apellido` contienen valores nulos, sería difícil identificar al propietario de un inmueble.\n",
        "\n",
        "ID Propietario | Nombre | Apellido | e-mail | País | Ciudad \n",
        "-- | -- | -- | -- | -- | -- \n",
        "00001 |  <font color='red'>**Null**</font>| Castro | cc2@gmail.com | Colombia | Envigado \n",
        "00002 | Adriana|  <font color='red'>**Null**</font>  | atamayo22@outlook.com | Colombia | Bogotá\n",
        "00003 | Pedro| Parra | pp3@mailito.com | Colombia | Calí \n",
        "00004 | Isabel| Idarraga | ii3@hotmail.com |Colombia | Cartagena\n",
        "00005 | Ana| Alcántara | aa1@utp.com | Colombia | Bello\n",
        "\n",
        "En este sentido, un propietario no podría tener valores nulos en su nombre o apellido."
      ]
    },
    {
      "cell_type": "markdown",
      "metadata": {
        "id": "yZEskF-qDNqO",
        "colab_type": "text"
      },
      "source": [
        "####**Restricción de Revisión**\n",
        "\n",
        "La **Restricción de Revisión** (Check) refuerza la **integridad de dominio** al limitar los valores que acepta el atributo. En la relación `Vivienda`, el atributo `Estrato` tiene, en Colombia, un valor entero entre 1 y 6; en caso de tener un valor diferente, no tendría sentido. La restricción de revisión impondría a la integridad del dominio una limitación en los valores, **aceptando solo ciertos valores**.\n",
        "\n",
        "\n",
        "ID_Vivienda | Tipo | Precio | Habitaciones | Barrio | Parqueadero | Estrato | Ciudad | Área\n",
        "-- | -- | -- | -- | -- | -- | -- | -- | --\n",
        "0001A| Apartamento | 280.000.000| 2 | El portal | Si | 4 | Envigado | 80 m$^2$\n",
        "0002A|Casa | 580.000.000| 4 | Usaquén | Si | 6 | Bogotá | 220 m$^2$\n",
        "0003A|Aparta Estudio | 200.000.000| 1 | Estadio | No | <font color='red'>**8**</font> | Medellín | 50 m$^2$\n",
        "0004A|Apartamento | 160.000.000| 2 | Aranjuez | No | 3 | Medellín | 85 m$^2$\n",
        "0005A|Casa | 770.000.000| 3 | Cedritos | Si | 6 | Bogotá | 310 m$^2$"
      ]
    },
    {
      "cell_type": "markdown",
      "metadata": {
        "id": "8zO0U1xlFj6z",
        "colab_type": "text"
      },
      "source": [
        "####**Recapitulación** \n",
        "\n",
        "**Primary Keys**\n",
        "\n",
        "Si una esquema relacional arroja más de una clave, entonces, cada una de ellas se convierte en una candidata. Una de ellas, debe ser designada como clave primaria y el resto como secundarias.\n",
        "\n",
        "En una base de datos relacional, cada esquema de relación debe tener una clave primaria.\n",
        "\n",
        "**Reglas para las claves primarias:**\n",
        "\n",
        "\n",
        "Es importante señalar que los valore de las claves primarias deben ser únicos para cada instancia de una entidad/tabla. Debemos tener las siguientes consideraciones respesto a las claves primarias:\n",
        "\n",
        "- No pueden existir valores nulos. \n",
        "- Son inmutables.\n",
        "- Si una clave primaria consiste de múltiples atributos, ninguno de ellos se puede actualizar.\n",
        " \n",
        "\n",
        "**Integridad semántica**\n",
        "\n",
        "\n",
        "La integridad semántica nos asegura que los datos entrados en una fila, reglejen un valor permitido. El valor debe estar dentro de un dominio de valores permitidos. \n",
        " \n",
        "\n",
        "**Restricciones semánticas**\n",
        "\n",
        "Las restricciones semanticas, también conocidas como reglas basadas en aplicaciones o reglas de negocio, en donde se dan especificaciones adionales por los administradores de la base de datos. Por ejemplo, una tienda no debe tener más de 30 artículos; los salarios de los empleados no deben superar el del administrador.\n",
        "\n",
        "**Restricciones de dominio**\n",
        "\n",
        "Nos indica el dominio dentro del cual cada atributo de una base de datos debe estar. Los tipos de datos asociados son:\n",
        "\n",
        "- Integers (short integer, integer, long integer)\n",
        "- Real numbers (float y double)\n",
        "- Characters\n",
        "- Booleans\n",
        "- CHAR y VARCHAR\n",
        "- Date, time, timestamp\n",
        "- Moneda\n",
        "- Otros."
      ]
    },
    {
      "cell_type": "markdown",
      "metadata": {
        "id": "vFPwKZWrKvHE",
        "colab_type": "text"
      },
      "source": [
        "#**C. Lenguaje de Definición de Datos (DDL) y Lenguaje de Manipulación de Datos (DML)**\n",
        "\n",
        "Los tópicos, relacionados sentencias, trabajados durantes esta sección serán:\n",
        "\n",
        "- Sentencia de creación de una tabla (Create)\n",
        "- Sentencia de Inserción en una tabla (Insert)\n",
        "- Sentencia de selección en una tabla (Select)\n",
        "- Sentencias de actualización y eliminación (Update y Delete)"
      ]
    },
    {
      "cell_type": "markdown",
      "metadata": {
        "id": "cODeVuGpNJFf",
        "colab_type": "text"
      },
      "source": [
        "##**Introducción**\n",
        "\n",
        "Para la mayoría de la comunidad que hace uso de las bases de datos, existe 5 sentencias primordiales para operar con bases datos:\n",
        "\n",
        "- **Creación** de una tabla\n",
        "- **Inserción** de datos en una tabla\n",
        "- **Selección** de datos de una tabla\n",
        "- **Actualización** de datos de una tabla\n",
        "- **Eliminación** de datos de una tabla\n",
        "\n",
        "En referencia a esto, existen dos Lenguajes relacionados con las bases de datos:\n",
        "\n",
        "- Lenguaje de Definición de Datos (DDL - Data Language Definition): Se usan para definir, cambiar o eliminar datos. Los DDL tienen como función principal la creación de objetos de bases de datos. \n",
        "- Lenguaje de Manipulación de Datos (DML - Data Managment Definition): Se usa para leer y modificar datos.\n"
      ]
    },
    {
      "cell_type": "markdown",
      "metadata": {
        "id": "uaMWl6eING9i",
        "colab_type": "text"
      },
      "source": [
        "##**Creación de una tabla**\n",
        "\n",
        "En esta sección se aprendera a:\n",
        "\n",
        "- Explicar cómo los nombres de las entidades y los atributos son usados en una tabla de bases de datos relacionales."
      ]
    },
    {
      "cell_type": "markdown",
      "metadata": {
        "id": "bvDNzfQ9G6mZ",
        "colab_type": "text"
      },
      "source": [
        "Como se ha mencionado en varias ocasiones, en una base de datos relacional, los datos son organizados en tablas, formadas por filas y colomnas. Basándonos en el ejemplo de las entidades `Vivienda` y `Propietario`, creamos una tabla usando el nombre de la entidad. Los atributos de la entidad serán las columnas de las tablas. \n",
        "\n",
        "Si usamos como ejemplo al propietario, se empieza por crear la tabla `Propietario` y se asigna los tipos de datos a los atributos de la tabla. En SQL, la creación de una tabla seria de la forma\n",
        "\n",
        "\n",
        "\n",
        "```\n",
        "#Creación tabla Propietario\n",
        "CREATE TABLE Propietario (\n",
        "    ID_propietario CHAR(5) CONSTRAINT PROPIETARIO_PK PRIMARY KEY (Propietario_id) NOT NULL,\n",
        "    Nombre VARCHAR(15) NOT NULL,\n",
        "    Apellido VARCHAR(15) NOT NULL,\n",
        "    e-mail VARCHAR(15),\n",
        "    Pais VARCHAR(15),\n",
        "    Ciudad VARCHAR(15)\n",
        "   ....\n",
        ");\n",
        "```\n",
        "\n",
        "La sentencia `CREATE TABLE` pertenecen a las instrucciones DDL.  \n",
        "\n",
        "En la creación se debe tener en cuenta que `ID_Propietario` es la **clave primaria**. Esta restricción evita valores duplicados en la tabla. \n",
        "\n",
        "Por otro lado, de la tabla `Propietario`\n",
        "\n",
        "ID_Propietario | Nombre | Apellido | e-mail | País | Ciudad \n",
        "-- | -- | -- | -- | -- | -- \n",
        "00001 | Carlos| Castro | cc2@gmail.com | Colombia |  Envigado\n",
        "00002 | Adriana| Tamayo | atamayo22@outlook.com | Colombia | Bogotá\n",
        "00003 | Pedro| Parra | pp3@mailito.com | Colombia | Calí \n",
        "00004 | Isabel| Idarraga | ii3@hotmail.com |Colombia | Cartagena\n",
        "00005 | Ana| Alcántara | aa1@utp.com | Colombia | Bello\n",
        "\n",
        "los tipos de cada atributo, serían:\n",
        "\n",
        "- `ID_Propietario`: `Char`\n",
        "- `Nombre`: `VARCHAR`\n",
        "- `Apellido`: `VARCHAR`\n",
        "- `e-mail`: `int`\n",
        "- `País`: `VARCHAR`\n",
        "- `Ciudad`: `VARCHAR`\n",
        "\n",
        "Tenga en cuena que los atributos de `Nombre` y `Apellido` deben tener restricción de no `NULL`, para asegurar que no contenga datos nulos: Todo propietario debe tener Nombre y Apellido."
      ]
    },
    {
      "cell_type": "markdown",
      "metadata": {
        "id": "YertTAVpYz_I",
        "colab_type": "text"
      },
      "source": [
        "###**CREATE en sqlite3 - python**\n",
        "\n",
        "En `python`, usamos el `sqlite` para manipulación de bases de datos serverless. \n",
        "\n",
        "Con este módulo:\n",
        "\n",
        "- Se debe primero crear un objeto conexión que represetna la base de datos\n",
        "- Opcionalmente, se crea un objeto cursor, que ayuda a ejecutar todos las instrucciones `SQL`."
      ]
    },
    {
      "cell_type": "code",
      "metadata": {
        "id": "8VJoauEdXggv",
        "colab_type": "code",
        "colab": {
          "base_uri": "https://localhost:8080/",
          "height": 49
        },
        "outputId": "7a731e08-e16c-4c45-ee73-cdb39241f92e"
      },
      "source": [
        "import sqlite3 \n",
        "import pandas as pd\n",
        "\n",
        "# Conexión \n",
        "conn = sqlite3.connect('ejemplo_empleados.db')\n",
        "\n",
        "#Creating a cursor object using the cursor() method\n",
        "cursor = conn.cursor()\n",
        "\n",
        "#Doping EMPLOYEE table if already exists.\n",
        "cursor.execute(\"DROP TABLE IF EXISTS EMPLOYEE\")\n",
        "\n",
        "#Creating table as per requirement\n",
        "sql ='''CREATE TABLE empleados(\n",
        "   NOMBRE CHAR(20) NOT NULL,\n",
        "   APELLIDO CHAR(20),\n",
        "   EDAD INT,\n",
        "   SEXO CHAR(1),\n",
        "   SALARIO FLOAT\n",
        ")'''\n",
        "\n",
        "cursor.execute(sql)\n",
        "\n",
        "cursor.execute(\"SELECT * FROM empleados\")\n",
        "df = pd.DataFrame(cursor.fetchall(), columns=list(map(lambda x: x[0], cursor.description)))\n",
        "\n",
        "conn.close()\n",
        "\n",
        "df"
      ],
      "execution_count": null,
      "outputs": [
        {
          "output_type": "execute_result",
          "data": {
            "text/html": [
              "<div>\n",
              "<style scoped>\n",
              "    .dataframe tbody tr th:only-of-type {\n",
              "        vertical-align: middle;\n",
              "    }\n",
              "\n",
              "    .dataframe tbody tr th {\n",
              "        vertical-align: top;\n",
              "    }\n",
              "\n",
              "    .dataframe thead th {\n",
              "        text-align: right;\n",
              "    }\n",
              "</style>\n",
              "<table border=\"1\" class=\"dataframe\">\n",
              "  <thead>\n",
              "    <tr style=\"text-align: right;\">\n",
              "      <th></th>\n",
              "      <th>NOMBRE</th>\n",
              "      <th>APELLIDO</th>\n",
              "      <th>EDAD</th>\n",
              "      <th>SEXO</th>\n",
              "      <th>SALARIO</th>\n",
              "    </tr>\n",
              "  </thead>\n",
              "  <tbody>\n",
              "  </tbody>\n",
              "</table>\n",
              "</div>"
            ],
            "text/plain": [
              "Empty DataFrame\n",
              "Columns: [NOMBRE, APELLIDO, EDAD, SEXO, SALARIO]\n",
              "Index: []"
            ]
          },
          "metadata": {
            "tags": []
          },
          "execution_count": 10
        }
      ]
    },
    {
      "cell_type": "markdown",
      "metadata": {
        "id": "AGKdvJEISYgt",
        "colab_type": "text"
      },
      "source": [
        "Nótese que, hasta el momento, se ha creado una entidad dentro de la base de datos en la cual no se registra ninguna entrada. Comprobemos la exitencia de la base de datos:"
      ]
    },
    {
      "cell_type": "code",
      "metadata": {
        "id": "nwVnuXwta-u3",
        "colab_type": "code",
        "colab": {
          "base_uri": "https://localhost:8080/",
          "height": 119
        },
        "outputId": "10620d36-c825-40c7-f596-52949f240c6b"
      },
      "source": [
        "ls -la"
      ],
      "execution_count": null,
      "outputs": [
        {
          "output_type": "stream",
          "text": [
            "total 24\n",
            "drwxr-xr-x 1 root root 4096 Sep  1 22:07 \u001b[0m\u001b[01;34m.\u001b[0m/\n",
            "drwxr-xr-x 1 root root 4096 Sep  1 22:03 \u001b[01;34m..\u001b[0m/\n",
            "drwxr-xr-x 1 root root 4096 Aug 31 16:13 \u001b[01;34m.config\u001b[0m/\n",
            "-rw-r--r-- 1 root root 8192 Sep  1 22:07 ejemplo_empleados.db\n",
            "drwxr-xr-x 1 root root 4096 Aug 27 16:39 \u001b[01;34msample_data\u001b[0m/\n"
          ],
          "name": "stdout"
        }
      ]
    },
    {
      "cell_type": "markdown",
      "metadata": {
        "id": "jiY_DVpR2a09",
        "colab_type": "text"
      },
      "source": [
        "##**Sentencia INSERT**\n",
        "\n",
        "En esta sesión el estudiante desarrollará las siguientes habilidades\n",
        "\n",
        "- Identificar la sintaxis relacionada con la sentencia INSERT.\n",
        "- Explicar los dos métodos para insertar filas y columnas en una tabla"
      ]
    },
    {
      "cell_type": "markdown",
      "metadata": {
        "id": "TnkF13Ue9G1L",
        "colab_type": "text"
      },
      "source": [
        "###**Adición de filas a una tabla**\n",
        "\n",
        "Después de que una tabla se crea, necesitaremos rellenar la tabla con datos. Para este fin, usamos la sentencia `INSERT`, con el fin de adicionar nuebas filas. LA sentencia INSERT hace parte del *Lenguaje de Manipulación de Datos* - DML (las sentencias DML se usan para leer y modificar los datos).\n",
        "\n",
        "Retomando el ejemplo de la entidad `Propietario`, empezamos por crear dicha entidad usando el nombre de la relación (`Propietario`), y los atributos de la tabla como columnas (`ID_Propietario`, `Nombre`, `Apellido`, `email`, `Pais` y `Ciudad`). El siguiente paso es la adición de entradas o filas a la tabla, mediante la sentencia `INSERT` mediante la siguiente sintaxis\n",
        "\n",
        "\n",
        "\n",
        "```\n",
        "INSERT INTO table_name (column1, column2, column3, ...)\n",
        "VALUES (value1, value2, value3, ...)\n",
        "```\n",
        "\n",
        "Por ejemplo, para insertar la primera fila de la relación `Propietario`\n",
        "\n",
        "ID_Propietario | Nombre | Apellido | e-mail | País | Ciudad \n",
        "-- | -- | -- | -- | -- | -- \n",
        "00001 | Carlos| Castro | cc2@gmail.com | Colombia |  Envigado\n",
        "00002 | Adriana| Tamayo | atamayo22@outlook.com | Colombia | Bogotá\n",
        "00003 | Pedro| Parra | pp3@mailito.com | Colombia | Calí \n",
        "00004 | Isabel| Idarraga | ii3@hotmail.com |Colombia | Cartagena\n",
        "00005 | Ana| Alcántara | aa1@utp.com | Colombia | Bello\n",
        "\n",
        "Escribiríamos lo  en SQL:\n",
        "\n",
        "\n",
        "```\n",
        "INSERT INTO Propietario (ID_Propietario, Nombre, Apellido, e-mail, Pais, Ciudad)\n",
        "VALUES ('0001', 'Carlos', 'Castro', 'cc2@gmail.com', 'Colombia', 'Envigado')\n",
        "```\n",
        "\n",
        "Para rellenar una tabla, no es necesario hacerlo una fila por vez, en su lugar podemos escribir\n",
        "\n",
        "```\n",
        "INSERT INTO Propietario \n",
        "(ID_Propietario, Nombre, Apellido, e-mail, Pais, Ciudad)\n",
        "VALUES \n",
        "('0001', 'Carlos', 'Castro', 'cc2@gmail.com', 'Colombia',  ' Envigado')\n",
        "('00002', 'Adriana', 'Tamayo', 'atamayo22@outlook.com', 'Colombia', 'Bogota')\n",
        "\n",
        "```\n",
        "\n"
      ]
    },
    {
      "cell_type": "markdown",
      "metadata": {
        "id": "ISBplxjOdhEA",
        "colab_type": "text"
      },
      "source": [
        "###**INSERT EN sqlite3**"
      ]
    },
    {
      "cell_type": "code",
      "metadata": {
        "id": "7uCNTU86dpsl",
        "colab_type": "code",
        "colab": {
          "base_uri": "https://localhost:8080/",
          "height": 221
        },
        "outputId": "513ca4a6-b4dc-44ea-a883-f4c78f8624f8"
      },
      "source": [
        "#Conexión a la base de datos\n",
        "conn = sqlite3.connect('ejemplo_empleados.db')\n",
        "\n",
        "#Creación del objeto cursor mediante el método cursor()\n",
        "cursor = conn.cursor()\n",
        "\n",
        "# Preparación de solicitud SQL para insertar una instancia en la base de datos.\n",
        "\n",
        "records = [('Sebastian', 'Sanchez', 35, 'M', 2000000), \n",
        "           ('Daniela', 'Perez', 22, 'F', 5000000),\n",
        "           ('Martha', 'Roldan', 44, 'F', 8000000),\n",
        "           ('Camilo', 'Cañas', 32, 'M', 9000000),\n",
        "           ('Andres', 'Vargas', 46, 'M', 1000000)]\n",
        "\n",
        "cursor.executemany('INSERT INTO empleados VALUES(?,?,?,?,?)', records)\n",
        "\n",
        "# Uno a uno\n",
        "#cursor.execute('''INSERT INTO empleados(\n",
        "#   NOMBRE, APELLIDO, EDAD, SEXO, SALARIO) VALUES \n",
        "#   ('Sebastian', 'Sanchez', 35, 'M', 2000000)''')\n",
        "\n",
        "#cursor.execute('''INSERT INTO empleados(\n",
        "#   NOMBRE, APELLIDO, EDAD, SEXO, SALARIO) VALUES \n",
        "#   ('Daniela', 'Perez', 22, 'F', 5000000)''')\n",
        "\n",
        "#cursor.execute('''INSERT INTO empleados(\n",
        "#   NOMBRE, APELLIDO, EDAD, SEXO, SALARIO) VALUES \n",
        "#   ('Martha', 'Roldan', 44, 'F', 8000000)''')\n",
        "\n",
        "#cursor.execute('''INSERT INTO empleados(\n",
        "#   NOMBRE, APELLIDO, EDAD, SEXO, SALARIO) VALUES \n",
        "#   ('Camilo', 'Cañas', 32, 'M', 9000000)''')\n",
        "\n",
        "#cursor.execute('''INSERT INTO empleados(\n",
        "#   NOMBRE, APELLIDO, EDAD, SEXO, SALARIO) VALUES \n",
        "#   ('Andres', 'Vargas', 46, 'M', 1000000)''')\n",
        "\n",
        "# DataFrame\n",
        "cursor.execute(\"SELECT * FROM empleados\")\n",
        "df = pd.DataFrame(cursor.fetchall(), columns=list(map(lambda x: x[0], cursor.description)))\n",
        "\n",
        "# commit\n",
        "conn.commit()\n",
        "print(\"Instancias registradas\")\n",
        "\n",
        "# Cierre de conexión\n",
        "conn.close()\n",
        "\n",
        "df"
      ],
      "execution_count": null,
      "outputs": [
        {
          "output_type": "stream",
          "text": [
            "Instancias registradas\n"
          ],
          "name": "stdout"
        },
        {
          "output_type": "execute_result",
          "data": {
            "text/html": [
              "<div>\n",
              "<style scoped>\n",
              "    .dataframe tbody tr th:only-of-type {\n",
              "        vertical-align: middle;\n",
              "    }\n",
              "\n",
              "    .dataframe tbody tr th {\n",
              "        vertical-align: top;\n",
              "    }\n",
              "\n",
              "    .dataframe thead th {\n",
              "        text-align: right;\n",
              "    }\n",
              "</style>\n",
              "<table border=\"1\" class=\"dataframe\">\n",
              "  <thead>\n",
              "    <tr style=\"text-align: right;\">\n",
              "      <th></th>\n",
              "      <th>NOMBRE</th>\n",
              "      <th>APELLIDO</th>\n",
              "      <th>EDAD</th>\n",
              "      <th>SEXO</th>\n",
              "      <th>SALARIO</th>\n",
              "    </tr>\n",
              "  </thead>\n",
              "  <tbody>\n",
              "    <tr>\n",
              "      <th>0</th>\n",
              "      <td>Sebastian</td>\n",
              "      <td>Sanchez</td>\n",
              "      <td>35</td>\n",
              "      <td>M</td>\n",
              "      <td>2000000.0</td>\n",
              "    </tr>\n",
              "    <tr>\n",
              "      <th>1</th>\n",
              "      <td>Daniela</td>\n",
              "      <td>Perez</td>\n",
              "      <td>22</td>\n",
              "      <td>F</td>\n",
              "      <td>5000000.0</td>\n",
              "    </tr>\n",
              "    <tr>\n",
              "      <th>2</th>\n",
              "      <td>Martha</td>\n",
              "      <td>Roldan</td>\n",
              "      <td>44</td>\n",
              "      <td>F</td>\n",
              "      <td>8000000.0</td>\n",
              "    </tr>\n",
              "    <tr>\n",
              "      <th>3</th>\n",
              "      <td>Camilo</td>\n",
              "      <td>Cañas</td>\n",
              "      <td>32</td>\n",
              "      <td>M</td>\n",
              "      <td>9000000.0</td>\n",
              "    </tr>\n",
              "    <tr>\n",
              "      <th>4</th>\n",
              "      <td>Andres</td>\n",
              "      <td>Vargas</td>\n",
              "      <td>46</td>\n",
              "      <td>M</td>\n",
              "      <td>1000000.0</td>\n",
              "    </tr>\n",
              "  </tbody>\n",
              "</table>\n",
              "</div>"
            ],
            "text/plain": [
              "      NOMBRE APELLIDO  EDAD SEXO    SALARIO\n",
              "0  Sebastian  Sanchez    35    M  2000000.0\n",
              "1    Daniela    Perez    22    F  5000000.0\n",
              "2     Martha   Roldan    44    F  8000000.0\n",
              "3     Camilo    Cañas    32    M  9000000.0\n",
              "4     Andres   Vargas    46    M  1000000.0"
            ]
          },
          "metadata": {
            "tags": []
          },
          "execution_count": 12
        }
      ]
    },
    {
      "cell_type": "markdown",
      "metadata": {
        "id": "4Z2QwUCbC6Eq",
        "colab_type": "text"
      },
      "source": [
        "##**Sentencia `SELECT`**\n",
        "\n",
        "Al finalizar esta sección, se adquirirán las siguientes competencias:\n",
        "\n",
        "- Recuperación de datos de una tabla de una base de datos relacional.\n",
        "- Definición del uso de un predicado.\n",
        "- Identificación de la sintaxis de la sentencia `SELECT`, usando la clausula `WHERE`.\n",
        "- Lista de los operadores de comparación soportados por un Sistema de manejo de una base de datos relacional (RDBMS)."
      ]
    },
    {
      "cell_type": "markdown",
      "metadata": {
        "id": "HzOda29gHCfn",
        "colab_type": "text"
      },
      "source": [
        "###**Introducción**\n",
        "\n",
        "El proposito principal de un sistema de manipulación de datos, no solo consite en guardar datos, sino también facilitar la recuperación de los mismo. \n",
        "\n",
        "Después de crear una tabla e insertar datos en ella, lo siguiente sería recuperar los datos. Para este fin usamos la sentencia `SELECT`, que hace parte del Lenguaje de manipulación de Datos (DML), usaado para la lectura y modificación de los mismos.\n",
        "\n",
        "La sentencia `SELECT` se conoce como consulta (query), y la salida que se obtiene de un query se llama Resultado (Result) o Resultado de la tabla (Result Table)"
      ]
    },
    {
      "cell_type": "markdown",
      "metadata": {
        "id": "-5J2WvNuGeoI",
        "colab_type": "text"
      },
      "source": [
        "###**Recuperación de filas de una tabla**\n",
        "\n",
        "En su forma más sencilla, usamos la sentencia `SELECT` de la siguiente forma:\n",
        "\n",
        "```\n",
        "SELECT * FROM table_name;\n",
        "```\n",
        "\n",
        "Si nos remitimos al ejemplo de propietarios de inmuebles, las filas de la entidad `Propietario`\n",
        "\n",
        "ID_Propietario | Nombre | Apellido | e-mail | País | Ciudad \n",
        "-- | -- | -- | -- | -- | -- \n",
        "00001 | Carlos| Castro | cc2@gmail.com | Colombia |  Envigado\n",
        "00002 | Adriana| Tamayo | atamayo22@outlook.com | Colombia | Bogotá\n",
        "00003 | Pedro| Parra | pp3@mailito.com | Colombia | Calí \n",
        "00004 | Isabel| Idarraga | ii3@hotmail.com |Colombia | Cartagena\n",
        "00005 | Ana| Alcántara | aa1@utp.com | Colombia | Bello\n",
        "\n",
        "\n",
        "Pueden recuperarse todas mediante la siguiente instrucción\n",
        "\n",
        "```\n",
        "SELECT * FROM Propietario;\n",
        "```\n",
        "\n",
        "Adicionalmente, se puede recuperar todas las filas de unas cuantas columnas al especificar los nombres de las columnas de forma individual y separadas por comas:\n",
        "\n",
        "\n",
        "```\n",
        "SELECT Nombre, Apellido, Ciudad from Propietario;\n",
        "```\n",
        "\n",
        "\n"
      ]
    },
    {
      "cell_type": "markdown",
      "metadata": {
        "id": "a47ynYpcf73d",
        "colab_type": "text"
      },
      "source": [
        "###**SELECT en sqlite3**"
      ]
    },
    {
      "cell_type": "code",
      "metadata": {
        "id": "eBSusmaxgBAg",
        "colab_type": "code",
        "colab": {
          "base_uri": "https://localhost:8080/",
          "height": 136
        },
        "outputId": "64243695-8cf4-4234-d65f-b51aabfd7b34"
      },
      "source": [
        "import sqlite3\n",
        "\n",
        "#Conexión a la base de datos\n",
        "conn = sqlite3.connect('ejemplo_empleados.db')\n",
        "\n",
        "#Creación de un objeto cursor\n",
        "cursor = conn.cursor()\n",
        "\n",
        "#Recuperación de datos\n",
        "cursor.execute('''SELECT * from empleados''')\n",
        "\n",
        "#Obtención primera fila\n",
        "result = cursor.fetchone();\n",
        "print(\"Primera Fila: \", result)\n",
        "\n",
        "#Obtención de las instancias\n",
        "result = cursor.fetchall();\n",
        "print(\"Todas las filas:\\n\", pd.DataFrame(result, columns=list(map(lambda x: x[0], cursor.description))))\n",
        "\n",
        "#Efectuar cambios\n",
        "conn.commit()\n",
        "\n",
        "#Cerrar conexión\n",
        "conn.close()"
      ],
      "execution_count": null,
      "outputs": [
        {
          "output_type": "stream",
          "text": [
            "Primera Fila:  ('Sebastian', 'Sanchez', 35, 'M', 2000000.0)\n",
            "Todas las filas:\n",
            "     NOMBRE APELLIDO  EDAD SEXO    SALARIO\n",
            "0  Daniela    Perez    22    F  5000000.0\n",
            "1   Martha   Roldan    44    F  8000000.0\n",
            "2   Camilo    Cañas    32    M  9000000.0\n",
            "3   Andres   Vargas    46    M  1000000.0\n"
          ],
          "name": "stdout"
        }
      ]
    },
    {
      "cell_type": "markdown",
      "metadata": {
        "id": "vPPnT7qGHFEg",
        "colab_type": "text"
      },
      "source": [
        "<p><a name=\"WHERE\"></a></p>\n",
        "\n",
        "##**Restricción del resultado de un conjunto: Clausula `WHERE`**\n",
        "\n",
        "Las operaciones relacionales nos ayudan a restringir los resultados de un conjunto mediante el uso de la clausula `WHERE`. Esta clausula siempre requiere un predicado, que corresponde a una condición cuyo valor es un booleano `True`, `False` o incierto. Los predicados son usados en la condición de la busqueda de la clausula `WHERE`. \n",
        "\n",
        "\n",
        "Consideremos, por ejemplo, la entidad `Vivienda` como la tabla\n",
        "\n",
        "ID_Vivienda | Tipo | Precio | Habitaciones | Barrio | Parqueadero | Estrato | Ciudad | Área\n",
        "-- | -- | -- | -- | -- | -- | -- | -- | --\n",
        "0001A| Apartamento | 280.000.000| 2 | El portal | Si | 4 | Envigado | 80 m$^2$\n",
        "0002A|Casa | 580.000.000| 4 | Usaquén | Si | 6 | Bogotá | 220 m$^2$\n",
        "0003A|Aparta Estudio | 200.000.000| 1 | Estadio | No | 4 | Medellín | 50 m$^2$\n",
        "0004A|Apartamento | 160.000.000| 2 | Aranjuez | No | 3 | Medellín | 85 m$^2$\n",
        "0005A|Casa | 770.000.000| 3 | Cedritos | Si | 6 | Bogotá | 310 m$^2$\n",
        "\n",
        "Si queremos saber el tipo de vivienda con un `ID_Vivienda` igual a `0002A`, usamos la clausula `WHERE`, con el predicado `ID_Vivienda` igual a `0002A`\n",
        "\n",
        "```\n",
        "SELECT ID_Vivienda, Tipo FROM Vivienda\n",
        "WHERE ID_Vivienda='0002A'; \n",
        "```"
      ]
    },
    {
      "cell_type": "markdown",
      "metadata": {
        "id": "MmDJx1VsndKc",
        "colab_type": "text"
      },
      "source": [
        "###**Operadores de Comparación:**\n",
        "\n",
        "En el ejemplo anterior se usó el operador \"igual a\" en la clausula `WHERE`. Los operadores que admite esta clasula se resumentn en la siguiente tabla\n",
        "\n",
        "Nombre | Operador\n",
        "---|---\n",
        "Igual a | `=`\n",
        "Mayor a | `>`\n",
        "Menor a | `<`\n",
        "Mayor o igual a | `>=`\n",
        "Menor o igual a | `<=`\n",
        "No igual a | `<>`"
      ]
    },
    {
      "cell_type": "markdown",
      "metadata": {
        "id": "42tqS3HurWbG",
        "colab_type": "text"
      },
      "source": [
        "###**CLAÚSULA `WHERE` en `sqlite3`**\n"
      ]
    },
    {
      "cell_type": "code",
      "metadata": {
        "id": "0AWGNptcrmBp",
        "colab_type": "code",
        "colab": {
          "base_uri": "https://localhost:8080/",
          "height": 142
        },
        "outputId": "fd6b3b34-d0d3-473a-8453-8c1dc077043b"
      },
      "source": [
        "#Conexión a la base de datos\n",
        "conn = sqlite3.connect('ejemplo_empleados.db')\n",
        "\n",
        "#Creación de un objeto cursor\n",
        "cursor = conn.cursor()\n",
        "\n",
        "#Recuperación de datos\n",
        "cursor.execute(\"SELECT * from empleados WHERE EDAD<=35\")\n",
        "\n",
        "#Obtención de las instancias\n",
        "result = cursor.fetchall();\n",
        "\n",
        "# Inprimir resultado\n",
        "#print(\"Todas las filas:\\n \", result)))\n",
        "df = pd.DataFrame(result, columns=list(map(lambda x: x[0], cursor.description)))\n",
        "\n",
        "#Efectuar cambios\n",
        "conn.commit()\n",
        "\n",
        "#Cerrar conexión\n",
        "conn.close()\n",
        "\n",
        "df"
      ],
      "execution_count": null,
      "outputs": [
        {
          "output_type": "execute_result",
          "data": {
            "text/html": [
              "<div>\n",
              "<style scoped>\n",
              "    .dataframe tbody tr th:only-of-type {\n",
              "        vertical-align: middle;\n",
              "    }\n",
              "\n",
              "    .dataframe tbody tr th {\n",
              "        vertical-align: top;\n",
              "    }\n",
              "\n",
              "    .dataframe thead th {\n",
              "        text-align: right;\n",
              "    }\n",
              "</style>\n",
              "<table border=\"1\" class=\"dataframe\">\n",
              "  <thead>\n",
              "    <tr style=\"text-align: right;\">\n",
              "      <th></th>\n",
              "      <th>NOMBRE</th>\n",
              "      <th>APELLIDO</th>\n",
              "      <th>EDAD</th>\n",
              "      <th>SEXO</th>\n",
              "      <th>SALARIO</th>\n",
              "    </tr>\n",
              "  </thead>\n",
              "  <tbody>\n",
              "    <tr>\n",
              "      <th>0</th>\n",
              "      <td>Sebastian</td>\n",
              "      <td>Sanchez</td>\n",
              "      <td>35</td>\n",
              "      <td>M</td>\n",
              "      <td>2000000.0</td>\n",
              "    </tr>\n",
              "    <tr>\n",
              "      <th>1</th>\n",
              "      <td>Daniela</td>\n",
              "      <td>Perez</td>\n",
              "      <td>22</td>\n",
              "      <td>F</td>\n",
              "      <td>5000000.0</td>\n",
              "    </tr>\n",
              "    <tr>\n",
              "      <th>2</th>\n",
              "      <td>Camilo</td>\n",
              "      <td>Cañas</td>\n",
              "      <td>32</td>\n",
              "      <td>M</td>\n",
              "      <td>9000000.0</td>\n",
              "    </tr>\n",
              "  </tbody>\n",
              "</table>\n",
              "</div>"
            ],
            "text/plain": [
              "      NOMBRE APELLIDO  EDAD SEXO    SALARIO\n",
              "0  Sebastian  Sanchez    35    M  2000000.0\n",
              "1    Daniela    Perez    22    F  5000000.0\n",
              "2     Camilo    Cañas    32    M  9000000.0"
            ]
          },
          "metadata": {
            "tags": []
          },
          "execution_count": 14
        }
      ]
    },
    {
      "cell_type": "markdown",
      "metadata": {
        "id": "JUsHnR4poxGF",
        "colab_type": "text"
      },
      "source": [
        "<p><a name=\"update_delete\"></a></p>\n",
        "\n",
        "##**Sentencias `UPDATE` y `DELETE`**\n",
        "\n",
        "En esta sección se aprenderá de los siguientes tópicos:\n",
        "\n",
        "- Identificación de la sintaxis de la sentencia `UPDATE`\n",
        "- Identificación de la sintaxis de la sentencia `DELETE`\n",
        "- Explicación de la importancia de la clausula `WHERE` en las sentencias `UPDATE` y `DELETE`."
      ]
    },
    {
      "cell_type": "markdown",
      "metadata": {
        "id": "4HYwJLHbtB5P",
        "colab_type": "text"
      },
      "source": [
        "###**Sentencia `UPDATE`**\n",
        "\n",
        "Despues de crearse y rellenarse con datos una tabla, esta puede ser alterada mediante la sentencia `UPDATE`, que hace parte del Lenguaje de manejo de datos (DML), encargado de leer y modificar los datos. \n",
        "\n",
        "```\n",
        "UPDATE table_name\n",
        "SET column1 = value1, column2 = value2, ...\n",
        "WHERE condition;\n",
        "```\n",
        "\n",
        "Partamos del ejemplo de la identidad `Propietario`, correspondiente a la siguiente tabla:\n",
        "\n",
        "ID_Propietario | Nombre | Apellido | e-mail | País | Ciudad \n",
        "-- | -- | -- | -- | -- | -- \n",
        "00001 | Carlos| Castro | cc2@gmail.com | Colombia |  Envigado\n",
        "00002 | Adriana| Tamayo | atamayo22@outlook.com | Colombia | Bogotá\n",
        "00003 | Pedro| Parra | pp3@mailito.com | Colombia | Calí \n",
        "00004 | Isabel| Idarraga | ii3@hotmail.com |Colombia | Cartagena\n",
        "00005 | Ana| Alcántara | aa1@utp.com | Colombia | Bello\n",
        "\n",
        "Supongamos que queremos cambiar el nombre y apellido de la propietario con ID 00003 por Belina Bedoya; debemos hacer entonces \n",
        "\n",
        "```\n",
        "UPDATE Propietario\n",
        "SET Nombre = 'Belinda', Apellido= 'Bedoya'\n",
        "WHERE CustomerID = 0003;\n",
        "```\n"
      ]
    },
    {
      "cell_type": "markdown",
      "metadata": {
        "id": "fmlRj0EhtQFg",
        "colab_type": "text"
      },
      "source": [
        "####**`UPDATE` en `sqlite3`**"
      ]
    },
    {
      "cell_type": "code",
      "metadata": {
        "id": "kMd2vGY1tcSZ",
        "colab_type": "code",
        "colab": {
          "base_uri": "https://localhost:8080/",
          "height": 272
        },
        "outputId": "a6b958de-2006-49c6-b214-4d8a48b1c68a"
      },
      "source": [
        "import sqlite3 \n",
        "\n",
        "#Conexión a la base de datos\n",
        "conn =  sqlite3.connect('ejemplo_empleados.db')\n",
        "\n",
        "#Creamos un cursor para realizar operaniones\n",
        "cursor =  conn.cursor()\n",
        "\n",
        "#Recuperar todas las filas antes del UPDATE\n",
        "print(\"Contenido de la tabla empleados\")\n",
        "cursor.execute(\"SELECT * from empleados\")\n",
        "#print(cursor.fetchall())\n",
        "print(pd.DataFrame(cursor.fetchall(), columns=list(map(lambda x: x[0], cursor.description))))\n",
        "\n",
        "#Actualizar registros\n",
        "cursor.execute(\"UPDATE empleados SET EDAD = EDAD+1 WHERE SEXO ='M'\")\n",
        "print(\"Tabla actualizada\")\n",
        "\n",
        "#Recuperer datos despues de la actualización\n",
        "print('Contenido de la tabla empleados después de actualizar la tabla:')\n",
        "cursor.execute(\"SELECT * from empleados\")\n",
        "#print(cursor.fetchall())\n",
        "print(pd.DataFrame(cursor.fetchall(), columns=list(map(lambda x: x[0], cursor.description))))\n",
        "\n",
        "#Commit de los cambios a la base de datos\n",
        "conn.commit()\n",
        "\n",
        "#Cerrar conexión\n",
        "conn.close()"
      ],
      "execution_count": null,
      "outputs": [
        {
          "output_type": "stream",
          "text": [
            "Contenido de la tabla empleados\n",
            "      NOMBRE APELLIDO  EDAD SEXO    SALARIO\n",
            "0  Sebastian  Sanchez    35    M  2000000.0\n",
            "1    Daniela    Perez    22    F  5000000.0\n",
            "2     Martha   Roldan    44    F  8000000.0\n",
            "3     Camilo    Cañas    32    M  9000000.0\n",
            "4     Andres   Vargas    46    M  1000000.0\n",
            "Tabla actualizada\n",
            "Contenido de la tabla empleados después de actualizar la tabla:\n",
            "      NOMBRE APELLIDO  EDAD SEXO    SALARIO\n",
            "0  Sebastian  Sanchez    36    M  2000000.0\n",
            "1    Daniela    Perez    22    F  5000000.0\n",
            "2     Martha   Roldan    44    F  8000000.0\n",
            "3     Camilo    Cañas    33    M  9000000.0\n",
            "4     Andres   Vargas    47    M  1000000.0\n"
          ],
          "name": "stdout"
        }
      ]
    },
    {
      "cell_type": "markdown",
      "metadata": {
        "id": "G9rJl6dyy56V",
        "colab_type": "text"
      },
      "source": [
        "###**Sentencia DELETE**\n",
        "\n",
        "Si un momento queremos eliminar una entrada de la tabla, debemos usar la sentencia `DELETE` de la forma siguiente:\n",
        "\n",
        "```\n",
        "DELETE FROM table_name WHERE condition;\n",
        "```\n",
        "\n",
        "Retomemos el ejemplo de la entidad `Propietario`. Supongamos que por algún motivo, los propietario con `ID_Propietario=0004` e `ID_Propietario=0005` ya vendieron sus inmuebles, por lo que debemos quitarlos de la base de datos. Para esto, realizamos lo siguiente\n",
        "\n",
        "```\n",
        "DELETE FROM Propietario\n",
        "WHERE Propietario IN('0004','0005')\n",
        "```"
      ]
    },
    {
      "cell_type": "markdown",
      "metadata": {
        "id": "bR_0LR-jx0QZ",
        "colab_type": "text"
      },
      "source": [
        "####**`DELETE` en `sqlite3`:**"
      ]
    },
    {
      "cell_type": "code",
      "metadata": {
        "id": "vgsPFOV4x9Ab",
        "colab_type": "code",
        "colab": {
          "base_uri": "https://localhost:8080/",
          "height": 297
        },
        "outputId": "860d824c-700f-472f-e53a-5dc93f2973e9"
      },
      "source": [
        "import sqlite3\n",
        "\n",
        "#Conexión a la base de datos\n",
        "conn = sqlite3.connect('ejemplo_empleados.db')\n",
        "\n",
        "#Creación de un cursor para la realización de operaciones SQL\n",
        "cursor = conn.cursor()\n",
        "\n",
        "#Inserción de algunos datos más\n",
        "cursor.execute('''INSERT INTO empleados(\n",
        "   NOMBRE, APELLIDO, EDAD, SEXO, SALARIO) VALUES \n",
        "   ('Barrabas', 'Lopez', 85, 'M', 2000000)''')\n",
        "\n",
        "cursor.execute('''INSERT INTO empleados(\n",
        "   NOMBRE, APELLIDO, EDAD, SEXO, SALARIO) VALUES \n",
        "   ('Jonas', 'Simons', 22, 'F', 5000000)''')\n",
        "\n",
        "cursor.execute('''INSERT INTO empleados(\n",
        "   NOMBRE, APELLIDO, EDAD, SEXO, SALARIO) VALUES \n",
        "   ('Isaias', 'Carrero', 44, 'F', 8000000)''')\n",
        "\n",
        "cursor.execute(\"SELECT * FROM empleados\")\n",
        "df = pd.DataFrame(cursor.fetchall(), columns=list(map(lambda x: x[0], cursor.description)))\n",
        "\n",
        "conn.commit()\n",
        "conn.close()\n",
        "\n",
        "df"
      ],
      "execution_count": null,
      "outputs": [
        {
          "output_type": "execute_result",
          "data": {
            "text/html": [
              "<div>\n",
              "<style scoped>\n",
              "    .dataframe tbody tr th:only-of-type {\n",
              "        vertical-align: middle;\n",
              "    }\n",
              "\n",
              "    .dataframe tbody tr th {\n",
              "        vertical-align: top;\n",
              "    }\n",
              "\n",
              "    .dataframe thead th {\n",
              "        text-align: right;\n",
              "    }\n",
              "</style>\n",
              "<table border=\"1\" class=\"dataframe\">\n",
              "  <thead>\n",
              "    <tr style=\"text-align: right;\">\n",
              "      <th></th>\n",
              "      <th>NOMBRE</th>\n",
              "      <th>APELLIDO</th>\n",
              "      <th>EDAD</th>\n",
              "      <th>SEXO</th>\n",
              "      <th>SALARIO</th>\n",
              "    </tr>\n",
              "  </thead>\n",
              "  <tbody>\n",
              "    <tr>\n",
              "      <th>0</th>\n",
              "      <td>Sebastian</td>\n",
              "      <td>Sanchez</td>\n",
              "      <td>36</td>\n",
              "      <td>M</td>\n",
              "      <td>2000000.0</td>\n",
              "    </tr>\n",
              "    <tr>\n",
              "      <th>1</th>\n",
              "      <td>Daniela</td>\n",
              "      <td>Perez</td>\n",
              "      <td>22</td>\n",
              "      <td>F</td>\n",
              "      <td>5000000.0</td>\n",
              "    </tr>\n",
              "    <tr>\n",
              "      <th>2</th>\n",
              "      <td>Martha</td>\n",
              "      <td>Roldan</td>\n",
              "      <td>44</td>\n",
              "      <td>F</td>\n",
              "      <td>8000000.0</td>\n",
              "    </tr>\n",
              "    <tr>\n",
              "      <th>3</th>\n",
              "      <td>Camilo</td>\n",
              "      <td>Cañas</td>\n",
              "      <td>33</td>\n",
              "      <td>M</td>\n",
              "      <td>9000000.0</td>\n",
              "    </tr>\n",
              "    <tr>\n",
              "      <th>4</th>\n",
              "      <td>Andres</td>\n",
              "      <td>Vargas</td>\n",
              "      <td>47</td>\n",
              "      <td>M</td>\n",
              "      <td>1000000.0</td>\n",
              "    </tr>\n",
              "    <tr>\n",
              "      <th>5</th>\n",
              "      <td>Barrabas</td>\n",
              "      <td>Lopez</td>\n",
              "      <td>85</td>\n",
              "      <td>M</td>\n",
              "      <td>2000000.0</td>\n",
              "    </tr>\n",
              "    <tr>\n",
              "      <th>6</th>\n",
              "      <td>Jonas</td>\n",
              "      <td>Simons</td>\n",
              "      <td>22</td>\n",
              "      <td>F</td>\n",
              "      <td>5000000.0</td>\n",
              "    </tr>\n",
              "    <tr>\n",
              "      <th>7</th>\n",
              "      <td>Isaias</td>\n",
              "      <td>Carrero</td>\n",
              "      <td>44</td>\n",
              "      <td>F</td>\n",
              "      <td>8000000.0</td>\n",
              "    </tr>\n",
              "  </tbody>\n",
              "</table>\n",
              "</div>"
            ],
            "text/plain": [
              "      NOMBRE APELLIDO  EDAD SEXO    SALARIO\n",
              "0  Sebastian  Sanchez    36    M  2000000.0\n",
              "1    Daniela    Perez    22    F  5000000.0\n",
              "2     Martha   Roldan    44    F  8000000.0\n",
              "3     Camilo    Cañas    33    M  9000000.0\n",
              "4     Andres   Vargas    47    M  1000000.0\n",
              "5   Barrabas    Lopez    85    M  2000000.0\n",
              "6      Jonas   Simons    22    F  5000000.0\n",
              "7     Isaias  Carrero    44    F  8000000.0"
            ]
          },
          "metadata": {
            "tags": []
          },
          "execution_count": 16
        }
      ]
    },
    {
      "cell_type": "code",
      "metadata": {
        "id": "P9sDL3-w2QZs",
        "colab_type": "code",
        "colab": {
          "base_uri": "https://localhost:8080/",
          "height": 204
        },
        "outputId": "bbc8d4ca-68c0-45a0-93b6-77401bc3e0a0"
      },
      "source": [
        "import sqlite3\n",
        "\n",
        "#conexión\n",
        "\n",
        "conn = sqlite3.connect('ejemplo_empleados.db')\n",
        "\n",
        "#cursor\n",
        "cursor = conn.cursor()\n",
        "\n",
        "#Borrar datos \n",
        "cursor.execute(\"DELETE FROM empleados WHERE NOMBRE IN ('Barrabas','Jonas','Isaias')\")\n",
        "\n",
        "#Dataframe\n",
        "cursor.execute(\"SELECT * FROM empleados\")\n",
        "df = pd.DataFrame(cursor.fetchall(), columns=list(map(lambda x: x[0], cursor.description)))\n",
        "\n",
        "#Commit\n",
        "conn.commit()\n",
        "\n",
        "#Cerrar conexión\n",
        "conn.close()\n",
        "\n",
        "df\n"
      ],
      "execution_count": null,
      "outputs": [
        {
          "output_type": "execute_result",
          "data": {
            "text/html": [
              "<div>\n",
              "<style scoped>\n",
              "    .dataframe tbody tr th:only-of-type {\n",
              "        vertical-align: middle;\n",
              "    }\n",
              "\n",
              "    .dataframe tbody tr th {\n",
              "        vertical-align: top;\n",
              "    }\n",
              "\n",
              "    .dataframe thead th {\n",
              "        text-align: right;\n",
              "    }\n",
              "</style>\n",
              "<table border=\"1\" class=\"dataframe\">\n",
              "  <thead>\n",
              "    <tr style=\"text-align: right;\">\n",
              "      <th></th>\n",
              "      <th>NOMBRE</th>\n",
              "      <th>APELLIDO</th>\n",
              "      <th>EDAD</th>\n",
              "      <th>SEXO</th>\n",
              "      <th>SALARIO</th>\n",
              "    </tr>\n",
              "  </thead>\n",
              "  <tbody>\n",
              "    <tr>\n",
              "      <th>0</th>\n",
              "      <td>Sebastian</td>\n",
              "      <td>Sanchez</td>\n",
              "      <td>36</td>\n",
              "      <td>M</td>\n",
              "      <td>2000000.0</td>\n",
              "    </tr>\n",
              "    <tr>\n",
              "      <th>1</th>\n",
              "      <td>Daniela</td>\n",
              "      <td>Perez</td>\n",
              "      <td>22</td>\n",
              "      <td>F</td>\n",
              "      <td>5000000.0</td>\n",
              "    </tr>\n",
              "    <tr>\n",
              "      <th>2</th>\n",
              "      <td>Martha</td>\n",
              "      <td>Roldan</td>\n",
              "      <td>44</td>\n",
              "      <td>F</td>\n",
              "      <td>8000000.0</td>\n",
              "    </tr>\n",
              "    <tr>\n",
              "      <th>3</th>\n",
              "      <td>Camilo</td>\n",
              "      <td>Cañas</td>\n",
              "      <td>33</td>\n",
              "      <td>M</td>\n",
              "      <td>9000000.0</td>\n",
              "    </tr>\n",
              "    <tr>\n",
              "      <th>4</th>\n",
              "      <td>Andres</td>\n",
              "      <td>Vargas</td>\n",
              "      <td>47</td>\n",
              "      <td>M</td>\n",
              "      <td>1000000.0</td>\n",
              "    </tr>\n",
              "  </tbody>\n",
              "</table>\n",
              "</div>"
            ],
            "text/plain": [
              "      NOMBRE APELLIDO  EDAD SEXO    SALARIO\n",
              "0  Sebastian  Sanchez    36    M  2000000.0\n",
              "1    Daniela    Perez    22    F  5000000.0\n",
              "2     Martha   Roldan    44    F  8000000.0\n",
              "3     Camilo    Cañas    33    M  9000000.0\n",
              "4     Andres   Vargas    47    M  1000000.0"
            ]
          },
          "metadata": {
            "tags": []
          },
          "execution_count": 17
        }
      ]
    },
    {
      "cell_type": "markdown",
      "metadata": {
        "id": "fmOBhLTFHWLD",
        "colab_type": "text"
      },
      "source": [
        "##**Taller de creación y manipulación de bases de datos:**\n",
        "\n",
        "En los equipos conformados en clase, cree una base de datos de una sola entidad o tabla usando `sqlite3`. En el ejercicio se deben tener en cuenta los siguientes pasos\n",
        "\n",
        "1. Creación de la base de datos.\n",
        "2. Inserción de instancias en dicha base de datos.\n",
        "3. Selección de algunos datos para visualizar.\n",
        "4. Selección de de datos mediante la clausula `WHERE`.\n",
        "5. Actualización de datos.\n",
        "6. Inserción de nuevos elementos y establecimiento de un criterio para luego borrarlos. \n",
        "\n",
        "**Nota:** En cada uno de los pasos deberá visualizar los resultados obtenidos."
      ]
    },
    {
      "cell_type": "markdown",
      "metadata": {
        "id": "XjZhR0MiVFsO",
        "colab_type": "text"
      },
      "source": [
        "#**D. DDL y DML Avanzado**\n",
        "\n",
        "Los objetivos a desarrollar en esta temática son:\n",
        "\n",
        "- Patrones con cadenas, rangos y cojuntos.\n",
        "- Clasificación de conjuntos de resultados\n",
        "- Agrupar conjuntos de resutados."
      ]
    },
    {
      "cell_type": "markdown",
      "metadata": {
        "id": "XGWC9XheV7ll",
        "colab_type": "text"
      },
      "source": [
        "##**Patrones en cadenas de caracteres, Rangos y conjuntos**\n",
        "\n",
        "En esta sección se cubrirá los siguientes temas para la consulta en una base de datos:\n",
        "\n",
        "- Patrones en cadenas.\n",
        "- Rangos.\n",
        "- Conjunto de valores"
      ]
    },
    {
      "cell_type": "markdown",
      "metadata": {
        "id": "JGljWB4DXxy9",
        "colab_type": "text"
      },
      "source": [
        "###**Recuperación de filas de una tabla**\n",
        "\n",
        "Además del almacenamiento de datos, el proposito fundamental de un sistema de gestión de bases de datos es la recuperación o consulta de dichos datos. \n",
        "\n",
        "Como se ha visto, la forma más sencilla de obtener datos de una base SQL es:\n",
        "\n",
        "```\n",
        "SELECT * FROM db\n",
        "```\n",
        "\n",
        "---\n",
        "**Repaso:**\n",
        "\n",
        "Por ejemplo, para la base de datos de la entidad `casas`\n",
        "\n",
        "ID_Vivienda | Tipo | Precio | Habitaciones | Barrio | Parqueadero | Estrato | Ciudad | Área\n",
        "-- | -- | -- | -- | -- | -- | -- | -- | --\n",
        "0001A| Apartamento | 280.000.000| 2 | El portal | Si | 4 | Envigado | 80 m$^2$\n",
        "0002A|Casa | 580.000.000| 4 | Usaquén | Si | 6 | Bogota | 220 m$^2$\n",
        "0003A|Aparta Estudio | 200.000.000| 1 | Estadio | No | 5 | Medellín | 50 m$^2$\n",
        "0004A|Apartamento | 160.000.000| 2 | Aranjuez | No | 3 | Medellín | 85 m$^2$\n",
        "0005A|Casa | 770.000.000| 3 | Cedritos | Si | 6 | Bogotá | 310 m$^2$\n",
        "\n",
        "si hacemos\n",
        "\n",
        "```\n",
        "SELECT * FROM casas \n",
        "```\n",
        "\n",
        "Obtendremos las 5 filas que componen la tabla.\n",
        "\n",
        "Podemos obtener un subconjunto de columnas de las casas si hacemos\n",
        "\n",
        "```\n",
        "SELECT ID_Vivienda, Tipo from casas\n",
        "```\n",
        "\n",
        "en cuyo caso obtemos las columnas almacenadas en `ID_Vivienda` y `Tipo`\n",
        "\n",
        "Si queremos restringir nuestra busqueda a una sola instancia de la tabla, por ejemplo la vivienda en la que `ID_Vivienda=0003A`, usamos la clausula `WHERE`\n",
        "\n",
        "```\n",
        "SELECT ID_Vivienda, Tipo FROM casas WHERE ID_Vivienda='0003A'\n",
        "```\n",
        "\n",
        "---\n",
        "\n",
        "\n",
        "**Problema:**\n",
        "\n",
        "Centrándonos en la última de las instrucciones del repaso, esto requeriría de un super-humano con muy buena memoria para acordarse exactamente de la instancia de la tabla que desea consultar. No obstante, en muchos casos, no sabremos exactamente que poner en el predicado de la clausula `WHERE`. Uno de estos casos, corresponde, por ejemplo, a un propietario que recordamos que su numbre empieza por una letra. Para abordar este tipo de problemas, podemos usar patrones en cadenas de caracteres. \n"
      ]
    },
    {
      "cell_type": "markdown",
      "metadata": {
        "id": "zdlDf-cackqh",
        "colab_type": "text"
      },
      "source": [
        "###**Recuperación de filas usando patrones de cadenas de caracteres**\n",
        "\n",
        "Si de la tabla de propietarios\n",
        "\n",
        "ID_Propietario | Nombre | Apellido | e-mail | País | Ciudad \n",
        "-- | -- | -- | -- | -- | -- \n",
        "00001 | Carlos| Castro | cc2@gmail.com | Colombia |  Envigado\n",
        "00002 | Adriana| Tamayo | atamayo22@outlook.com | Colombia | Bogotá\n",
        "00003 | Pedro| Parra | pp3@mailito.com | Colombia | Calí \n",
        "00004 | Isabel| Idarraga | ii3@hotmail.com |Colombia | Cartagena\n",
        "00005 | Ana| Alcántara | aa1@utp.com | Colombia | Bello\n",
        "\n",
        "deseamos extraer el nombre de la propietaria Isabel Idarraga, pero solo nos acordamos de la letra inicial del nombre, podemos hacer lo siguiente:\n",
        "\n",
        "```\n",
        "SELECT Nombre FROM propietarios WHERE Nombre like 'I%'\n",
        "```\n",
        "\n",
        "en donde `like` corresponde a un predicado que se usa junto a la clausula `WHERE` para buscar un patrón en una columna. El signo `%` se usa como `wildcard` (comodín) para referirse al resto de caracteres. Este comodín puede usarse antes del antes del patrón, después del patrón o antes y despues del patron. En el caso ilustrado se usa después, para hacer un `match` de los caracteres siguientes al patrón. \n",
        "\n",
        "La sentencia anterior recuperará todos los nombres que empiezan por la letra `I`.\n",
        "\n",
        "\n"
      ]
    },
    {
      "cell_type": "code",
      "metadata": {
        "id": "UWzfAXwOtzDG",
        "colab_type": "code",
        "colab": {
          "base_uri": "https://localhost:8080/",
          "height": 34
        },
        "outputId": "6194d3a7-ffa1-466f-f435-6cf5d4741848"
      },
      "source": [
        "import sqlite3\n",
        "\n",
        "#conexión\n",
        "\n",
        "conn = sqlite3.connect('ejemplo_empleados.db')\n",
        "\n",
        "#cursor\n",
        "cursor = conn.cursor()\n",
        "\n",
        "#Selección de datos\n",
        "cursor.execute(\"SELECT NOMBRE, APELLIDO FROM empleados WHERE NOMBRE LIKE 'M%'\")\n",
        "print(\"Resultado selección:\", cursor.fetchall())\n",
        "\n",
        "#Commit\n",
        "conn.commit()\n",
        "\n",
        "#Cerrar conexión\n",
        "conn.close()"
      ],
      "execution_count": null,
      "outputs": [
        {
          "output_type": "stream",
          "text": [
            "Resultado selección: [('Martha', 'Roldan')]\n"
          ],
          "name": "stdout"
        }
      ]
    },
    {
      "cell_type": "markdown",
      "metadata": {
        "id": "x00M_3KvigVr",
        "colab_type": "text"
      },
      "source": [
        "###**Recuperación de valores en un Rango**\n",
        "\n",
        "Imaginemos, por ejemplo, que queremos obtener todas las casas con precios entre  cien millones y trecientos millos de la entidad viviendas:\n",
        "\n",
        "ID_Vivienda | Tipo | Precio | Habitaciones | Barrio | Parqueadero | Estrato | Ciudad | Área\n",
        "-- | -- | -- | -- | -- | -- | -- | -- | --\n",
        "0001A| Apartamento | 280.000.000| 2 | El portal | Si | 4 | Envigado | 80 m$^2$\n",
        "0002A|Casa | 580.000.000| 4 | Usaquén | Si | 6 | Bogota | 220 m$^2$\n",
        "0003A|Aparta Estudio | 200.000.000| 1 | Estadio | No | 5 | Medellín | 50 m$^2$\n",
        "0004A|Apartamento | 160.000.000| 2 | Aranjuez | No | 3 | Medellín | 85 m$^2$\n",
        "0005A|Casa | 770.000.000| 3 | Cedritos | Si | 6 | Bogotá | 310 m$^2$\n",
        "\n",
        "En este caso lo podemos hacer de la siguiente forma:\n",
        "\n",
        "```\n",
        "SELECT * FROM casas WHERE Precio >=100000000 AND <0 300000000\n",
        "```\n",
        "\n",
        "Esta operación es lo mismo que en teoría de conjuntos se hace para definir un rango cerrado `[a,b]`. En este caso obtendremos tres entradas, de las casas `0001A`, `0003A` y `0005B`.\n",
        "\n",
        "Otra forma de realizar esta búsqueda es mediante el operador `BETWEEN` de la siguiente forma\n",
        "\n",
        "```\n",
        "SELECT * FROM casas WHERE Precio BETWEEN 100000000 AND 300000000\n",
        "```"
      ]
    },
    {
      "cell_type": "code",
      "metadata": {
        "id": "4QDRAK9swThW",
        "colab_type": "code",
        "colab": {
          "base_uri": "https://localhost:8080/",
          "height": 34
        },
        "outputId": "f440fe1c-5d7f-4916-819f-f9415ee9fd2a"
      },
      "source": [
        "import sqlite3\n",
        "\n",
        "#conexión\n",
        "\n",
        "conn = sqlite3.connect('ejemplo_empleados.db')\n",
        "\n",
        "#cursor\n",
        "cursor = conn.cursor()\n",
        "\n",
        "#Selección de datos\n",
        "cursor.execute(\"SELECT NOMBRE, APELLIDO FROM empleados WHERE SALARIO BETWEEN 1000000 AND 4000000\")\n",
        "print(\"Resultado selección:\", cursor.fetchall())\n",
        "\n",
        "#Commit\n",
        "conn.commit()\n",
        "\n",
        "#Cerrar conexión\n",
        "conn.close()"
      ],
      "execution_count": null,
      "outputs": [
        {
          "output_type": "stream",
          "text": [
            "Resultado selección: [('Sebastian', 'Sanchez'), ('Andres', 'Vargas')]\n"
          ],
          "name": "stdout"
        }
      ]
    },
    {
      "cell_type": "markdown",
      "metadata": {
        "id": "mNd0AXrGlYeO",
        "colab_type": "text"
      },
      "source": [
        "###**Recuperación de datos usando un conjunto de valores**\n",
        "\n",
        "Si en la base de datos de las inmobiliarias\n",
        "\n",
        "ID_Vivienda | Tipo | Precio | Habitaciones | Barrio | Parqueadero | Estrato | Ciudad | Área\n",
        "-- | -- | -- | -- | -- | -- | -- | -- | --\n",
        "0001A| Apartamento | 280.000.000| 2 | El portal | Si | 4 | Envigado | 80 m$^2$\n",
        "0002A|Casa | 580.000.000| 4 | Usaquén | Si | 6 | Bogota | 220 m$^2$\n",
        "0003A|Aparta Estudio | 200.000.000| 1 | Estadio | No | 5 | Medellín | 50 m$^2$\n",
        "0004A|Apartamento | 160.000.000| 2 | Aranjuez | No | 3 | Medellín | 85 m$^2$\n",
        "0005A|Casa | 770.000.000| 3 | Cedritos | Si | 6 | Bogotá | 310 m$^2$\n",
        "\n",
        " queremos obtener todas las casas localizadas en `Medellín` o `Bogotá`, podemos hacer lo siguiente:\n",
        "\n",
        "```\n",
        "SELECT * FROM casas WHERE Ciudad='Medellín' or Ciudad='Bogota'\n",
        "```\n",
        "\n",
        "en cuyo caso obtendremos las instancias con `ID_Vivienda=0002A`, `ID_Vivienda=0003A`, `ID_Vivienda=0004A` y `ID_Vivienda=0005A`.\n",
        "\n",
        "En caso que queramos obtener viviendas de muchas ciudades (si nuestra base de datos fuese más grande), sería mejor usar el operador `IN`. El caso anterior se podría escribir de la siguiente forma\n",
        "\n",
        "```\n",
        "SELECT * FROM casas WHERE Ciudad IN ('Medellín', 'Bogota')\n"
      ]
    },
    {
      "cell_type": "code",
      "metadata": {
        "id": "vJrKnPfhx6W9",
        "colab_type": "code",
        "colab": {
          "base_uri": "https://localhost:8080/",
          "height": 51
        },
        "outputId": "5bceca4c-d57c-4b0d-c2be-4adaec3ed4f5"
      },
      "source": [
        "import sqlite3\n",
        "\n",
        "#conexión\n",
        "\n",
        "conn = sqlite3.connect('ejemplo_empleados.db')\n",
        "\n",
        "#cursor\n",
        "cursor = conn.cursor()\n",
        "\n",
        "#Selección datos\n",
        "cursor.execute(\"SELECT * FROM empleados WHERE EDAD IN (36, 44, 33)\")\n",
        "\n",
        "#Dataframe\n",
        "print(\"Resultados:\\n\", cursor.fetchall())\n",
        "\n",
        "#Commit\n",
        "conn.commit()\n",
        "\n",
        "#Cerrar conexión\n",
        "conn.close()"
      ],
      "execution_count": null,
      "outputs": [
        {
          "output_type": "stream",
          "text": [
            "Resultados:\n",
            " [('Sebastian', 'Sanchez', 36, 'M', 2000000.0), ('Martha', 'Roldan', 44, 'F', 8000000.0), ('Camilo', 'Cañas', 33, 'M', 9000000.0)]\n"
          ],
          "name": "stdout"
        }
      ]
    },
    {
      "cell_type": "markdown",
      "metadata": {
        "id": "g9eLnIHaoyZb",
        "colab_type": "text"
      },
      "source": [
        "##**Organización de conjuntos de resultados:**\n",
        "\n",
        "Los objetivos abarcados en esta sección serán:\n",
        "\n",
        "- Organizar los conjuntos de resultados de forma ascendente o descendente.\n",
        "- Indicar que columnas usar para el orden."
      ]
    },
    {
      "cell_type": "markdown",
      "metadata": {
        "id": "T0vXv40Bpkat",
        "colab_type": "text"
      },
      "source": [
        "###**Clausula `ORDER BY`**\n",
        "\n",
        "Supongamos que queremo obtener todos los nombre de los propietarios del la tabla \n",
        "\n",
        "ID_Propietario | Nombre | Apellido | e-mail | País | Ciudad \n",
        "-- | -- | -- | -- | -- | -- \n",
        "00001 | Carlos| Castro | cc2@gmail.com | Colombia |  Envigado\n",
        "00002 | Adriana| Tamayo | atamayo22@outlook.com | Colombia | Bogotá\n",
        "00003 | Pedro| Parra | pp3@mailito.com | Colombia | Calí \n",
        "00004 | Isabel| Idarraga | ii3@hotmail.com |Colombia | Cartagena\n",
        "00005 | Ana| Alcántara | aa1@utp.com | Colombia | Bello\n",
        "\n",
        "Si escribimos\n",
        "\n",
        "```\n",
        "SELECT Nombre FROM propietarios \n",
        "```\n",
        "\n",
        "obtendremos un resultados con los nombres como aparecen en la tabla. Si queremos ordenarlos alfabéticamente, hacemos\n",
        "\n",
        "```\n",
        "SELECT Nombre FROM propietarios ORDER BY Nombre\n",
        "```\n",
        "\n",
        "Nótese que la clausula `ORDER BY` recibe un predicado para organizar según una de las columnas, en este caso la columna `Nombre`. Debemos tener en cuenta que, por defectom el resultado se muestra en forma ascendente. Para cambiar el orden a descendente hacemos lo siguiente\n",
        "\n",
        "```\n",
        "SELECT Nombre FROM propietarios ORDER BY Nombre DESC\n",
        "```\n",
        "\n",
        "En lugar de usar el nombre de la columna (`Nombre`), podemos indicar el número de dicha columna de la siguiente forma\n",
        "\n",
        "```\n",
        "SELECT Nombre FROM propietarios ORDER BY 2\n",
        "```"
      ]
    },
    {
      "cell_type": "code",
      "metadata": {
        "id": "_pdoAv33ykk1",
        "colab_type": "code",
        "colab": {
          "base_uri": "https://localhost:8080/",
          "height": 204
        },
        "outputId": "02293890-bd99-453c-ead7-3bd08b964b74"
      },
      "source": [
        "import sqlite3\n",
        "\n",
        "#conexión\n",
        "\n",
        "conn = sqlite3.connect('ejemplo_empleados.db')\n",
        "\n",
        "#cursor\n",
        "cursor = conn.cursor()\n",
        "\n",
        "#Selección datos\n",
        "cursor.execute(\"SELECT * FROM empleados ORDER BY 2\")\n",
        "\n",
        "#Dataframe\n",
        "df = pd.DataFrame(cursor.fetchall(), columns=list(map(lambda x: x[0], cursor.description)))\n",
        "\n",
        "#Commit\n",
        "conn.commit()\n",
        "\n",
        "#Cerrar conexión\n",
        "conn.close()\n",
        "\n",
        "df"
      ],
      "execution_count": null,
      "outputs": [
        {
          "output_type": "execute_result",
          "data": {
            "text/html": [
              "<div>\n",
              "<style scoped>\n",
              "    .dataframe tbody tr th:only-of-type {\n",
              "        vertical-align: middle;\n",
              "    }\n",
              "\n",
              "    .dataframe tbody tr th {\n",
              "        vertical-align: top;\n",
              "    }\n",
              "\n",
              "    .dataframe thead th {\n",
              "        text-align: right;\n",
              "    }\n",
              "</style>\n",
              "<table border=\"1\" class=\"dataframe\">\n",
              "  <thead>\n",
              "    <tr style=\"text-align: right;\">\n",
              "      <th></th>\n",
              "      <th>NOMBRE</th>\n",
              "      <th>APELLIDO</th>\n",
              "      <th>EDAD</th>\n",
              "      <th>SEXO</th>\n",
              "      <th>SALARIO</th>\n",
              "    </tr>\n",
              "  </thead>\n",
              "  <tbody>\n",
              "    <tr>\n",
              "      <th>0</th>\n",
              "      <td>Camilo</td>\n",
              "      <td>Cañas</td>\n",
              "      <td>33</td>\n",
              "      <td>M</td>\n",
              "      <td>9000000.0</td>\n",
              "    </tr>\n",
              "    <tr>\n",
              "      <th>1</th>\n",
              "      <td>Daniela</td>\n",
              "      <td>Perez</td>\n",
              "      <td>22</td>\n",
              "      <td>F</td>\n",
              "      <td>5000000.0</td>\n",
              "    </tr>\n",
              "    <tr>\n",
              "      <th>2</th>\n",
              "      <td>Martha</td>\n",
              "      <td>Roldan</td>\n",
              "      <td>44</td>\n",
              "      <td>F</td>\n",
              "      <td>8000000.0</td>\n",
              "    </tr>\n",
              "    <tr>\n",
              "      <th>3</th>\n",
              "      <td>Sebastian</td>\n",
              "      <td>Sanchez</td>\n",
              "      <td>36</td>\n",
              "      <td>M</td>\n",
              "      <td>2000000.0</td>\n",
              "    </tr>\n",
              "    <tr>\n",
              "      <th>4</th>\n",
              "      <td>Andres</td>\n",
              "      <td>Vargas</td>\n",
              "      <td>47</td>\n",
              "      <td>M</td>\n",
              "      <td>1000000.0</td>\n",
              "    </tr>\n",
              "  </tbody>\n",
              "</table>\n",
              "</div>"
            ],
            "text/plain": [
              "      NOMBRE APELLIDO  EDAD SEXO    SALARIO\n",
              "0     Camilo    Cañas    33    M  9000000.0\n",
              "1    Daniela    Perez    22    F  5000000.0\n",
              "2     Martha   Roldan    44    F  8000000.0\n",
              "3  Sebastian  Sanchez    36    M  2000000.0\n",
              "4     Andres   Vargas    47    M  1000000.0"
            ]
          },
          "metadata": {
            "tags": []
          },
          "execution_count": 30
        }
      ]
    },
    {
      "cell_type": "markdown",
      "metadata": {
        "id": "wOFFppZluVK8",
        "colab_type": "text"
      },
      "source": [
        "##**Agrupamiento de conjuntos de resultados**\n",
        "\n",
        "En esta sección se abordarán los siguientes objetivos:\n",
        "\n",
        "- Eliminación de duplicados de un conjunto de resultados.\n",
        "- Restricciones en un conjunto de resultados."
      ]
    },
    {
      "cell_type": "markdown",
      "metadata": {
        "id": "Ewmve7v1v3ic",
        "colab_type": "text"
      },
      "source": [
        "###**Eliminación de valores duplicados - Clausula `DISTINT`**\n",
        "\n",
        "En ciertas ocasiones, la instrucción `SELECT` puede contener valores duplicados. \n",
        "\n",
        "Imaginemos que tenemos la siguiente tabla de propietarios:\n",
        "\n",
        "ID_Propietario | Nombre | Apellido | e-mail | País | Ciudad \n",
        "-- | -- | -- | -- | -- | -- \n",
        "00001 | Carlos| Castro | cc2@gmail.com | Colombia |  Envigado\n",
        "00002 | Adriana| Tamayo | atamayo22@outlook.com | Colombia | Bogotá\n",
        "00003 | Pedro| Parra | pp3@mailito.com | Colombia | Calí \n",
        "00004 | Isabel| Idarraga | ii3@hotmail.com |Colombia | Cartagena\n",
        "00005 | Ana| Alcántara | aa1@utp.com | Colombia | Bello\n",
        "00006 | Vanesa| Velez | vv1@utp.com | Venezuela | Caracas\n",
        "00007 | Manuel| Mora | mm1@utp.com | Brazil | Rio de Janeiro\n",
        "\n",
        "En este caso, si queremos obtener los paises de los propietarios de esta tabla, podemos hacer lo siguiente\n",
        "\n",
        "```\n",
        "SELECT Pais FROM propietarios ORDER BY 1\n",
        "```\n",
        "\n",
        "Cuya salida será contendrá 7 resutados, uno por propietario, con el país `Colombia` repetido. Para eliminar los resultados repetidos hacemos lo situiente\n",
        "\n",
        "```\n",
        "SELECT DISTINCT(Pais) FROM propietarios ORDER BY 1\n",
        "```\n",
        "\n",
        "en donde obtendríamos como resultado tres paises: Colombia, Venezuela y Brazil.\n",
        "\n",
        "\n",
        "Creemos una nueva base de datos, con una tabla, para ejemplificar el problema descrito."
      ]
    },
    {
      "cell_type": "code",
      "metadata": {
        "id": "5Tmqmg-W0aHT",
        "colab_type": "code",
        "colab": {
          "base_uri": "https://localhost:8080/",
          "height": 49
        },
        "outputId": "f7a03bad-959b-49e6-d945-656e628ad5d2"
      },
      "source": [
        "import sqlite3 \n",
        "import pandas as pd\n",
        "\n",
        "# Conexión \n",
        "conn = sqlite3.connect('ejemplo_empleados_pais.db')\n",
        "\n",
        "#Creating a cursor object using the cursor() method\n",
        "cursor = conn.cursor()\n",
        "\n",
        "#Doping EMPLOYEE table if already exists.\n",
        "cursor.execute(\"DROP TABLE IF EXISTS EMPLOYEE\")\n",
        "\n",
        "#Creating table as per requirement\n",
        "sql ='''CREATE TABLE empleados(\n",
        "   NOMBRE CHAR(20) NOT NULL,\n",
        "   APELLIDO CHAR(20),\n",
        "   EDAD INT,\n",
        "   SEXO CHAR(1),\n",
        "   SALARIO FLOAT,\n",
        "   PAIS CHAR(20)\n",
        ")'''\n",
        "\n",
        "cursor.execute(sql)\n",
        "\n",
        "cursor.execute(\"SELECT * FROM empleados\")\n",
        "df = pd.DataFrame(cursor.fetchall(), columns=list(map(lambda x: x[0], cursor.description)))\n",
        "\n",
        "conn.close()\n",
        "\n",
        "df"
      ],
      "execution_count": null,
      "outputs": [
        {
          "output_type": "execute_result",
          "data": {
            "text/html": [
              "<div>\n",
              "<style scoped>\n",
              "    .dataframe tbody tr th:only-of-type {\n",
              "        vertical-align: middle;\n",
              "    }\n",
              "\n",
              "    .dataframe tbody tr th {\n",
              "        vertical-align: top;\n",
              "    }\n",
              "\n",
              "    .dataframe thead th {\n",
              "        text-align: right;\n",
              "    }\n",
              "</style>\n",
              "<table border=\"1\" class=\"dataframe\">\n",
              "  <thead>\n",
              "    <tr style=\"text-align: right;\">\n",
              "      <th></th>\n",
              "      <th>NOMBRE</th>\n",
              "      <th>APELLIDO</th>\n",
              "      <th>EDAD</th>\n",
              "      <th>SEXO</th>\n",
              "      <th>SALARIO</th>\n",
              "      <th>PAIS</th>\n",
              "    </tr>\n",
              "  </thead>\n",
              "  <tbody>\n",
              "  </tbody>\n",
              "</table>\n",
              "</div>"
            ],
            "text/plain": [
              "Empty DataFrame\n",
              "Columns: [NOMBRE, APELLIDO, EDAD, SEXO, SALARIO, PAIS]\n",
              "Index: []"
            ]
          },
          "metadata": {
            "tags": []
          },
          "execution_count": 31
        }
      ]
    },
    {
      "cell_type": "code",
      "metadata": {
        "id": "jCtCGjrU2jQt",
        "colab_type": "code",
        "colab": {
          "base_uri": "https://localhost:8080/",
          "height": 345
        },
        "outputId": "54bf6519-d2c3-4d13-8353-c4a527a29ec1"
      },
      "source": [
        "#Conexión a la base de datos\n",
        "conn = sqlite3.connect('ejemplo_empleados_pais.db')\n",
        "\n",
        "#Creación del objeto cursor mediante el método cursor()\n",
        "cursor = conn.cursor()\n",
        "\n",
        "# Preparación de solicitud SQL para insertar una instancia en la base de datos.\n",
        "\n",
        "records = [('Sebastian', 'Sanchez', 35, 'M', 2000000, 'COL'), \n",
        "           ('Daniela', 'Perez', 22, 'F', 5000000,'COL'),\n",
        "           ('Martha', 'Roldan', 44, 'F', 8000000,'BRA'),\n",
        "           ('Camilo', 'Cañas', 32, 'M', 9000000,'ECU'),\n",
        "           ('Juana', 'Marquez', 33, 'F', 8000000,'COL'),\n",
        "           ('Estefania', 'Lleras', 36, 'F', 9000000,'COL'),\n",
        "           ('Diana', 'Camargo', 40, 'F', 6000000,'COL'),\n",
        "           ('Carlos', 'Jaramillo', 38, 'M', 4000000,'COL'),\n",
        "           ('Lorena', 'Hincapie', 35, 'F', 4000000,'COL')]\n",
        "\n",
        "cursor.executemany('INSERT INTO empleados VALUES(?,?,?,?,?,?)', records)\n",
        "\n",
        "# DataFrame\n",
        "cursor.execute(\"SELECT * FROM empleados\")\n",
        "df = pd.DataFrame(cursor.fetchall(), columns=list(map(lambda x: x[0], cursor.description)))\n",
        "\n",
        "# commit\n",
        "conn.commit()\n",
        "print(\"Instancias registradas\")\n",
        "\n",
        "# Cierre de conexión\n",
        "conn.close()\n",
        "\n",
        "df"
      ],
      "execution_count": null,
      "outputs": [
        {
          "output_type": "stream",
          "text": [
            "Instancias registradas\n"
          ],
          "name": "stdout"
        },
        {
          "output_type": "execute_result",
          "data": {
            "text/html": [
              "<div>\n",
              "<style scoped>\n",
              "    .dataframe tbody tr th:only-of-type {\n",
              "        vertical-align: middle;\n",
              "    }\n",
              "\n",
              "    .dataframe tbody tr th {\n",
              "        vertical-align: top;\n",
              "    }\n",
              "\n",
              "    .dataframe thead th {\n",
              "        text-align: right;\n",
              "    }\n",
              "</style>\n",
              "<table border=\"1\" class=\"dataframe\">\n",
              "  <thead>\n",
              "    <tr style=\"text-align: right;\">\n",
              "      <th></th>\n",
              "      <th>NOMBRE</th>\n",
              "      <th>APELLIDO</th>\n",
              "      <th>EDAD</th>\n",
              "      <th>SEXO</th>\n",
              "      <th>SALARIO</th>\n",
              "      <th>PAIS</th>\n",
              "    </tr>\n",
              "  </thead>\n",
              "  <tbody>\n",
              "    <tr>\n",
              "      <th>0</th>\n",
              "      <td>Sebastian</td>\n",
              "      <td>Sanchez</td>\n",
              "      <td>35</td>\n",
              "      <td>M</td>\n",
              "      <td>2000000.0</td>\n",
              "      <td>COL</td>\n",
              "    </tr>\n",
              "    <tr>\n",
              "      <th>1</th>\n",
              "      <td>Daniela</td>\n",
              "      <td>Perez</td>\n",
              "      <td>22</td>\n",
              "      <td>F</td>\n",
              "      <td>5000000.0</td>\n",
              "      <td>COL</td>\n",
              "    </tr>\n",
              "    <tr>\n",
              "      <th>2</th>\n",
              "      <td>Martha</td>\n",
              "      <td>Roldan</td>\n",
              "      <td>44</td>\n",
              "      <td>F</td>\n",
              "      <td>8000000.0</td>\n",
              "      <td>BRA</td>\n",
              "    </tr>\n",
              "    <tr>\n",
              "      <th>3</th>\n",
              "      <td>Camilo</td>\n",
              "      <td>Cañas</td>\n",
              "      <td>32</td>\n",
              "      <td>M</td>\n",
              "      <td>9000000.0</td>\n",
              "      <td>ECU</td>\n",
              "    </tr>\n",
              "    <tr>\n",
              "      <th>4</th>\n",
              "      <td>Juana</td>\n",
              "      <td>Marquez</td>\n",
              "      <td>33</td>\n",
              "      <td>F</td>\n",
              "      <td>8000000.0</td>\n",
              "      <td>COL</td>\n",
              "    </tr>\n",
              "    <tr>\n",
              "      <th>5</th>\n",
              "      <td>Estefania</td>\n",
              "      <td>Lleras</td>\n",
              "      <td>36</td>\n",
              "      <td>F</td>\n",
              "      <td>9000000.0</td>\n",
              "      <td>COL</td>\n",
              "    </tr>\n",
              "    <tr>\n",
              "      <th>6</th>\n",
              "      <td>Diana</td>\n",
              "      <td>Camargo</td>\n",
              "      <td>40</td>\n",
              "      <td>F</td>\n",
              "      <td>6000000.0</td>\n",
              "      <td>COL</td>\n",
              "    </tr>\n",
              "    <tr>\n",
              "      <th>7</th>\n",
              "      <td>Carlos</td>\n",
              "      <td>Jaramillo</td>\n",
              "      <td>38</td>\n",
              "      <td>M</td>\n",
              "      <td>4000000.0</td>\n",
              "      <td>COL</td>\n",
              "    </tr>\n",
              "    <tr>\n",
              "      <th>8</th>\n",
              "      <td>Lorena</td>\n",
              "      <td>Hincapie</td>\n",
              "      <td>35</td>\n",
              "      <td>F</td>\n",
              "      <td>4000000.0</td>\n",
              "      <td>COL</td>\n",
              "    </tr>\n",
              "  </tbody>\n",
              "</table>\n",
              "</div>"
            ],
            "text/plain": [
              "      NOMBRE   APELLIDO  EDAD SEXO    SALARIO PAIS\n",
              "0  Sebastian    Sanchez    35    M  2000000.0  COL\n",
              "1    Daniela      Perez    22    F  5000000.0  COL\n",
              "2     Martha     Roldan    44    F  8000000.0  BRA\n",
              "3     Camilo      Cañas    32    M  9000000.0  ECU\n",
              "4      Juana    Marquez    33    F  8000000.0  COL\n",
              "5  Estefania     Lleras    36    F  9000000.0  COL\n",
              "6      Diana    Camargo    40    F  6000000.0  COL\n",
              "7     Carlos  Jaramillo    38    M  4000000.0  COL\n",
              "8     Lorena   Hincapie    35    F  4000000.0  COL"
            ]
          },
          "metadata": {
            "tags": []
          },
          "execution_count": 33
        }
      ]
    },
    {
      "cell_type": "code",
      "metadata": {
        "id": "d3eiXETu40mW",
        "colab_type": "code",
        "colab": {
          "base_uri": "https://localhost:8080/",
          "height": 328
        },
        "outputId": "e698eaca-9a6a-469c-c439-3c5e070a4aaa"
      },
      "source": [
        "import sqlite3\n",
        "\n",
        "#conexión\n",
        "\n",
        "conn = sqlite3.connect('ejemplo_empleados_pais.db')\n",
        "\n",
        "#cursor\n",
        "cursor = conn.cursor()\n",
        "\n",
        "#Selección datos\n",
        "cursor.execute(\"SELECT * FROM empleados ORDER BY 6\")\n",
        "\n",
        "#Dataframe\n",
        "df = pd.DataFrame(cursor.fetchall(), columns=list(map(lambda x: x[0], cursor.description)))\n",
        "\n",
        "#Commit\n",
        "conn.commit()\n",
        "\n",
        "#Cerrar conexión\n",
        "conn.close()\n",
        "\n",
        "df"
      ],
      "execution_count": null,
      "outputs": [
        {
          "output_type": "execute_result",
          "data": {
            "text/html": [
              "<div>\n",
              "<style scoped>\n",
              "    .dataframe tbody tr th:only-of-type {\n",
              "        vertical-align: middle;\n",
              "    }\n",
              "\n",
              "    .dataframe tbody tr th {\n",
              "        vertical-align: top;\n",
              "    }\n",
              "\n",
              "    .dataframe thead th {\n",
              "        text-align: right;\n",
              "    }\n",
              "</style>\n",
              "<table border=\"1\" class=\"dataframe\">\n",
              "  <thead>\n",
              "    <tr style=\"text-align: right;\">\n",
              "      <th></th>\n",
              "      <th>NOMBRE</th>\n",
              "      <th>APELLIDO</th>\n",
              "      <th>EDAD</th>\n",
              "      <th>SEXO</th>\n",
              "      <th>SALARIO</th>\n",
              "      <th>PAIS</th>\n",
              "    </tr>\n",
              "  </thead>\n",
              "  <tbody>\n",
              "    <tr>\n",
              "      <th>0</th>\n",
              "      <td>Martha</td>\n",
              "      <td>Roldan</td>\n",
              "      <td>44</td>\n",
              "      <td>F</td>\n",
              "      <td>8000000.0</td>\n",
              "      <td>BRA</td>\n",
              "    </tr>\n",
              "    <tr>\n",
              "      <th>1</th>\n",
              "      <td>Sebastian</td>\n",
              "      <td>Sanchez</td>\n",
              "      <td>35</td>\n",
              "      <td>M</td>\n",
              "      <td>2000000.0</td>\n",
              "      <td>COL</td>\n",
              "    </tr>\n",
              "    <tr>\n",
              "      <th>2</th>\n",
              "      <td>Daniela</td>\n",
              "      <td>Perez</td>\n",
              "      <td>22</td>\n",
              "      <td>F</td>\n",
              "      <td>5000000.0</td>\n",
              "      <td>COL</td>\n",
              "    </tr>\n",
              "    <tr>\n",
              "      <th>3</th>\n",
              "      <td>Juana</td>\n",
              "      <td>Marquez</td>\n",
              "      <td>33</td>\n",
              "      <td>F</td>\n",
              "      <td>8000000.0</td>\n",
              "      <td>COL</td>\n",
              "    </tr>\n",
              "    <tr>\n",
              "      <th>4</th>\n",
              "      <td>Estefania</td>\n",
              "      <td>Lleras</td>\n",
              "      <td>36</td>\n",
              "      <td>F</td>\n",
              "      <td>9000000.0</td>\n",
              "      <td>COL</td>\n",
              "    </tr>\n",
              "    <tr>\n",
              "      <th>5</th>\n",
              "      <td>Diana</td>\n",
              "      <td>Camargo</td>\n",
              "      <td>40</td>\n",
              "      <td>F</td>\n",
              "      <td>6000000.0</td>\n",
              "      <td>COL</td>\n",
              "    </tr>\n",
              "    <tr>\n",
              "      <th>6</th>\n",
              "      <td>Carlos</td>\n",
              "      <td>Jaramillo</td>\n",
              "      <td>38</td>\n",
              "      <td>M</td>\n",
              "      <td>4000000.0</td>\n",
              "      <td>COL</td>\n",
              "    </tr>\n",
              "    <tr>\n",
              "      <th>7</th>\n",
              "      <td>Lorena</td>\n",
              "      <td>Hincapie</td>\n",
              "      <td>35</td>\n",
              "      <td>F</td>\n",
              "      <td>4000000.0</td>\n",
              "      <td>COL</td>\n",
              "    </tr>\n",
              "    <tr>\n",
              "      <th>8</th>\n",
              "      <td>Camilo</td>\n",
              "      <td>Cañas</td>\n",
              "      <td>32</td>\n",
              "      <td>M</td>\n",
              "      <td>9000000.0</td>\n",
              "      <td>ECU</td>\n",
              "    </tr>\n",
              "  </tbody>\n",
              "</table>\n",
              "</div>"
            ],
            "text/plain": [
              "      NOMBRE   APELLIDO  EDAD SEXO    SALARIO PAIS\n",
              "0     Martha     Roldan    44    F  8000000.0  BRA\n",
              "1  Sebastian    Sanchez    35    M  2000000.0  COL\n",
              "2    Daniela      Perez    22    F  5000000.0  COL\n",
              "3      Juana    Marquez    33    F  8000000.0  COL\n",
              "4  Estefania     Lleras    36    F  9000000.0  COL\n",
              "5      Diana    Camargo    40    F  6000000.0  COL\n",
              "6     Carlos  Jaramillo    38    M  4000000.0  COL\n",
              "7     Lorena   Hincapie    35    F  4000000.0  COL\n",
              "8     Camilo      Cañas    32    M  9000000.0  ECU"
            ]
          },
          "metadata": {
            "tags": []
          },
          "execution_count": 40
        }
      ]
    },
    {
      "cell_type": "code",
      "metadata": {
        "id": "KcO-VljO6DNu",
        "colab_type": "code",
        "colab": {
          "base_uri": "https://localhost:8080/",
          "height": 142
        },
        "outputId": "bb4e4f91-30e9-4136-9978-a325e7da1316"
      },
      "source": [
        "import sqlite3\n",
        "\n",
        "#conexión\n",
        "\n",
        "conn = sqlite3.connect('ejemplo_empleados_pais.db')\n",
        "\n",
        "#cursor\n",
        "cursor = conn.cursor()\n",
        "\n",
        "#Selección datos\n",
        "cursor.execute(\"SELECT distinct(PAIS) FROM empleados\")\n",
        "\n",
        "#Dataframe\n",
        "df = pd.DataFrame(cursor.fetchall(), columns=list(map(lambda x: x[0], cursor.description)))\n",
        "\n",
        "#Commit\n",
        "conn.commit()\n",
        "\n",
        "#Cerrar conexión\n",
        "conn.close()\n",
        "\n",
        "df"
      ],
      "execution_count": null,
      "outputs": [
        {
          "output_type": "execute_result",
          "data": {
            "text/html": [
              "<div>\n",
              "<style scoped>\n",
              "    .dataframe tbody tr th:only-of-type {\n",
              "        vertical-align: middle;\n",
              "    }\n",
              "\n",
              "    .dataframe tbody tr th {\n",
              "        vertical-align: top;\n",
              "    }\n",
              "\n",
              "    .dataframe thead th {\n",
              "        text-align: right;\n",
              "    }\n",
              "</style>\n",
              "<table border=\"1\" class=\"dataframe\">\n",
              "  <thead>\n",
              "    <tr style=\"text-align: right;\">\n",
              "      <th></th>\n",
              "      <th>PAIS</th>\n",
              "    </tr>\n",
              "  </thead>\n",
              "  <tbody>\n",
              "    <tr>\n",
              "      <th>0</th>\n",
              "      <td>COL</td>\n",
              "    </tr>\n",
              "    <tr>\n",
              "      <th>1</th>\n",
              "      <td>BRA</td>\n",
              "    </tr>\n",
              "    <tr>\n",
              "      <th>2</th>\n",
              "      <td>ECU</td>\n",
              "    </tr>\n",
              "  </tbody>\n",
              "</table>\n",
              "</div>"
            ],
            "text/plain": [
              "  PAIS\n",
              "0  COL\n",
              "1  BRA\n",
              "2  ECU"
            ]
          },
          "metadata": {
            "tags": []
          },
          "execution_count": 41
        }
      ]
    },
    {
      "cell_type": "markdown",
      "metadata": {
        "id": "uFulIe8S19sj",
        "colab_type": "text"
      },
      "source": [
        "###**Clausula `GROUP BY`**\n",
        "\n",
        "Si queremos saber cuantos propietarios hay por país en la tabla de propietarios\n",
        "\n",
        "ID_Propietario | Nombre | Apellido | e-mail | País | Ciudad \n",
        "-- | -- | -- | -- | -- | -- \n",
        "00001 | Carlos| Castro | cc2@gmail.com | Colombia |  Envigado\n",
        "00002 | Adriana| Tamayo | atamayo22@outlook.com | Colombia | Bogotá\n",
        "00003 | Pedro| Parra | pp3@mailito.com | Colombia | Calí \n",
        "00004 | Isabel| Idarraga | ii3@hotmail.com |Colombia | Cartagena\n",
        "00005 | Ana| Alcántara | aa1@utp.com | Colombia | Bello\n",
        "00006 | Vanesa| Velez | vv1@utp.com | Venezuela | Caracas\n",
        "00007 | Manuel| Mora | mm1@utp.com | Brazil | Rio de Janeiro\n",
        "\n",
        "Podemos usar la cláusula `GROUP BY` de la siguiente forma\n",
        "\n",
        "```\n",
        "SELECT Pais, count(Pais) FROM propietarios GROUP BY Pais\n",
        "```\n",
        "\n",
        "El resultado de esta ejecución será\n",
        "\n",
        "```\n",
        "Pais              2\n",
        "--------- ---------\n",
        "Brazil            1\n",
        "Colombia          5\n",
        "Venezuela         1\n",
        "```\n",
        "\n",
        "La clausula `GROUP BY` agrupa los resultados en subconjuntos de acuerdo a la concordancia que tenga con valores de una o más columnas.\n",
        "\n",
        "Si se pretende asignar un resultado a la columna `2` del output, se puede hacer de la siguiente forma\n",
        "\n",
        "```\n",
        "SELECT Pais, count(Pais) as count FROM propietarios GROUP BY Pais\n",
        "```\n",
        "\n",
        "para obtener a la salida\n",
        "\n",
        "```\n",
        "Pais          COUNT\n",
        "--------- ---------\n",
        "Brazil            1\n",
        "Colombia          5\n",
        "Venezuela         1\n",
        "```"
      ]
    },
    {
      "cell_type": "code",
      "metadata": {
        "id": "bQCgr_mCbh41",
        "colab_type": "code",
        "colab": {
          "base_uri": "https://localhost:8080/",
          "height": 142
        },
        "outputId": "e36f84f9-40a6-42f3-eedd-223787c15b66"
      },
      "source": [
        "import sqlite3\n",
        "\n",
        "#conexión\n",
        "\n",
        "conn = sqlite3.connect('ejemplo_empleados_pais.db')\n",
        "\n",
        "#cursor\n",
        "cursor = conn.cursor()\n",
        "\n",
        "#Selección datos\n",
        "cursor.execute(\"SELECT PAIS, count(PAIS) as count FROM empleados GROUP BY PAIS\")\n",
        "\n",
        "#Dataframe\n",
        "df = pd.DataFrame(cursor.fetchall(), columns=list(map(lambda x: x[0], cursor.description)))\n",
        "\n",
        "#Commit\n",
        "conn.commit()\n",
        "\n",
        "#Cerrar conexión\n",
        "conn.close()\n",
        "\n",
        "df"
      ],
      "execution_count": null,
      "outputs": [
        {
          "output_type": "execute_result",
          "data": {
            "text/html": [
              "<div>\n",
              "<style scoped>\n",
              "    .dataframe tbody tr th:only-of-type {\n",
              "        vertical-align: middle;\n",
              "    }\n",
              "\n",
              "    .dataframe tbody tr th {\n",
              "        vertical-align: top;\n",
              "    }\n",
              "\n",
              "    .dataframe thead th {\n",
              "        text-align: right;\n",
              "    }\n",
              "</style>\n",
              "<table border=\"1\" class=\"dataframe\">\n",
              "  <thead>\n",
              "    <tr style=\"text-align: right;\">\n",
              "      <th></th>\n",
              "      <th>PAIS</th>\n",
              "      <th>count</th>\n",
              "    </tr>\n",
              "  </thead>\n",
              "  <tbody>\n",
              "    <tr>\n",
              "      <th>0</th>\n",
              "      <td>BRA</td>\n",
              "      <td>1</td>\n",
              "    </tr>\n",
              "    <tr>\n",
              "      <th>1</th>\n",
              "      <td>COL</td>\n",
              "      <td>7</td>\n",
              "    </tr>\n",
              "    <tr>\n",
              "      <th>2</th>\n",
              "      <td>ECU</td>\n",
              "      <td>1</td>\n",
              "    </tr>\n",
              "  </tbody>\n",
              "</table>\n",
              "</div>"
            ],
            "text/plain": [
              "  PAIS  count\n",
              "0  BRA      1\n",
              "1  COL      7\n",
              "2  ECU      1"
            ]
          },
          "metadata": {
            "tags": []
          },
          "execution_count": 42
        }
      ]
    },
    {
      "cell_type": "markdown",
      "metadata": {
        "id": "SuFdsAer8_RE",
        "colab_type": "text"
      },
      "source": [
        "###**Restricción al conjunto de resultados - Clausula `HAVING`**\n",
        "\n",
        "Podemos restringir aun más nuestra busqueda de propietarios por paises. Por ejemplo, podemos limitar la búsqueda para encontrar `n` propietarios de un mismo país. Para esto, usamos la clausula `HAVING`, que se usa en combinación con la clausula `GROUP BY`:\n",
        "\n",
        "```\n",
        "SELECT Pais, count(Pais) as count FROM propietarios GROUP BY Pais HAVING count(Pais)>4\n",
        "```\n",
        "\n",
        "para obtener a la salida\n",
        "\n",
        "```\n",
        "Pais          COUNT\n",
        "--------- ---------\n",
        "Colombia          5\n",
        "\n",
        "```"
      ]
    },
    {
      "cell_type": "code",
      "metadata": {
        "id": "i8CmhAeRdljX",
        "colab_type": "code",
        "colab": {
          "base_uri": "https://localhost:8080/",
          "height": 80
        },
        "outputId": "bad9da1d-3f6a-4c6b-a6bf-e29e5a7a96e0"
      },
      "source": [
        "import sqlite3\n",
        "\n",
        "#conexión\n",
        "\n",
        "conn = sqlite3.connect('ejemplo_empleados_pais.db')\n",
        "\n",
        "#cursor\n",
        "cursor = conn.cursor()\n",
        "\n",
        "#Selección datos\n",
        "cursor.execute(\"SELECT PAIS, count(PAIS) as count FROM empleados GROUP BY PAIS HAVING count(PAIS)>=2\")\n",
        "\n",
        "#Dataframe\n",
        "df = pd.DataFrame(cursor.fetchall(), columns=list(map(lambda x: x[0], cursor.description)))\n",
        "\n",
        "#Commit\n",
        "conn.commit()\n",
        "\n",
        "#Cerrar conexión\n",
        "conn.close()\n",
        "\n",
        "df"
      ],
      "execution_count": null,
      "outputs": [
        {
          "output_type": "execute_result",
          "data": {
            "text/html": [
              "<div>\n",
              "<style scoped>\n",
              "    .dataframe tbody tr th:only-of-type {\n",
              "        vertical-align: middle;\n",
              "    }\n",
              "\n",
              "    .dataframe tbody tr th {\n",
              "        vertical-align: top;\n",
              "    }\n",
              "\n",
              "    .dataframe thead th {\n",
              "        text-align: right;\n",
              "    }\n",
              "</style>\n",
              "<table border=\"1\" class=\"dataframe\">\n",
              "  <thead>\n",
              "    <tr style=\"text-align: right;\">\n",
              "      <th></th>\n",
              "      <th>PAIS</th>\n",
              "      <th>count</th>\n",
              "    </tr>\n",
              "  </thead>\n",
              "  <tbody>\n",
              "    <tr>\n",
              "      <th>0</th>\n",
              "      <td>COL</td>\n",
              "      <td>7</td>\n",
              "    </tr>\n",
              "  </tbody>\n",
              "</table>\n",
              "</div>"
            ],
            "text/plain": [
              "  PAIS  count\n",
              "0  COL      7"
            ]
          },
          "metadata": {
            "tags": []
          },
          "execution_count": 46
        }
      ]
    },
    {
      "cell_type": "markdown",
      "metadata": {
        "id": "pAACgsHreiX7",
        "colab_type": "text"
      },
      "source": [
        "##**TALLER de operaciones avanazas de bases de datos:**\n",
        "\n",
        "Cree la siguiente base de datos en `sqlit3` de pacientes de un hospital. Cuan este ingresa al hospital, se registra en una base de datos la siguiente información:\n",
        "\n",
        "- NOMBRE\n",
        "- APELLIDO\n",
        "- CEDULA\n",
        "- EDAD\n",
        "- MOTIVO DE INGRESO: suponga los siguientes tres casos:\n",
        "  - Enfemedad cardiaca (EC)\n",
        "  - Enfermedad respiratoria (ER)\n",
        "  - Enfermedades Hepáticas (EH)\n",
        "  - Otras Enfermedades (EV)\n",
        "\n",
        "Implemente diferentes operaciones avanzadas para, por ejemplo:\n",
        "\n",
        "1. Determinar los pacientes mayores de cierta edad.\n",
        "2. Hacer un conteo de pacientes por enfermedad.\n",
        "3. Filtrar los pacientes por nombre.\n",
        "4. Encontrar pacientes por número de cédula.\n",
        "5. Encontrar pacientes que empiecen su apellido por una letra dada.\n",
        "\n",
        "\n",
        "\n"
      ]
    },
    {
      "cell_type": "code",
      "metadata": {
        "id": "pr5kUJdQiHc-",
        "colab_type": "code",
        "cellView": "form",
        "colab": {}
      },
      "source": [
        "#@title **Base de datos a implementar**\n",
        "import random\n",
        "import pandas as pd\n",
        "import numpy as np\n",
        "\n",
        "Nombre = ['Sara', 'David', 'Paola', 'Dario', 'Gabriel', 'Adrian','Pamela','Gina','Laura', 'Carla',\n",
        "          'Paola','Beatriz','Carlos','Andres','Fabian','Maria','Alejandra','Camilo','Juan', 'Andrea',\n",
        "          'Luisa','Fernanda', 'Armando', 'Jaime','Leon','Luis','Marina','Fabiola','Hernan','John', 'Hanna',\n",
        "          'Matias', 'Susana', 'Patricia','Cristina','Paula','Catalina','Ana','Orlando','Oscar','Rubiela',\n",
        "          'Valeria','Esther','Alejandro','Ramiro','Albeiro','Ivan', 'Nora','Helena','Ulises','Lucia',\n",
        "          'Mariana','Raquel','Samuel','Leticia','Margarita','Antonio','José','Eugenia','Eduardo','Ursula']\n",
        "\n",
        "Enfermedades = ['EC','EC','EC','EC','EC','EC','EC','EC','EC','EC','EC','EC','EC','EC','EC','EC','EC','EC','EC','EC',\n",
        "'ER','ER','ER','ER','ER','ER','ER','ER','ER','ER','ER','ER','ER','ER','ER','ER','ER','ER','ER','ER','ER','ER','ER','ER','ER','ER','ER'\n",
        ",'EH','EH','EH','EH','EH','EH','EH','EH','EH','EH','EH','EH','EH', 'EV','EV','EV','EV','EV','EV','EV','EV','EV','EV','EV','EV','EV']\n",
        "\n",
        "Apellidos = ['Gonzalez','Rodriguez','Gomez','Fernandez','Lopez','Diaz','Martinez','Perez','Garcia', 'Sanchez', 'Romero', 'Sosa', 'Torres',\n",
        "             'Alvarez','Ruiz','Ramirez','Flores','Benitez','Acosta','Medina','Herrera','Suarez','Aguirre','Gimenez','Gutierrez','Pereira',\n",
        "             'Rojas','Molina','Castro','Ortiz','Domingo','Silva','Luna','Juarez','Cabrera','Rios','Morales','Godoy','Ferreira','Dominguez',\n",
        "             'Carrizo','Peralta','Castillo','Ledesma','Quiroga','Vega','Vera','Muñoz']\n",
        "\n",
        "random.shuffle(Nombre)\n",
        "random.shuffle(Enfermedades)\n",
        "random.shuffle(Apellidos)\n",
        "\n",
        "data = [Nombre[:30],Apellidos[:30],list(np.random.randint(8000000,1200000000,30)),list(np.random.randint(12,88,30)),Enfermedades[:30]]\n",
        "cols = ['NOMBRE','APELLIDO','CEDULA','EDAD','MOTINGRESO']\n",
        "\n",
        "df = pd.DataFrame(data)\n",
        "df = df.transpose()\n",
        "df.columns=cols\n",
        "df"
      ],
      "execution_count": null,
      "outputs": []
    },
    {
      "cell_type": "markdown",
      "metadata": {
        "id": "STjV6OrvAKcq",
        "colab_type": "text"
      },
      "source": [
        "#**F. Operaciones con Varias Tablas**\n",
        "\n",
        "En esta sección se abarcarán los siguientes objetivos:\n",
        "\n",
        "- Definición de Fusión (Join)\n",
        "- Definición de intersección (Inner Join)\n",
        "- Definición de Fusión exterior Izquierda (Left Outer Join)\n",
        "- Definición de Fusión exterior Derecha (Right )\n",
        "- Definición de Fusión Completa"
      ]
    },
    {
      "cell_type": "markdown",
      "metadata": {
        "id": "Q5HWCQO4ROaT",
        "colab_type": "text"
      },
      "source": [
        "##**1. Generalidades del JOIN**\n",
        "\n",
        "Imaginemos que tenemos el siguiente diagrama Entidad-Relación para una base de datos de una librería. \n",
        "\n",
        "<center>\n",
        "    <img height=\"600px\" src=\"https://github.com/ssanchezgoe/flask_vscode_tutorial/blob/master/imagenes/libreria_ERD.png?raw=true\" />\n",
        "</center>\n",
        "\n",
        "**Problema:** Consultar  qué prestamista tiene qué copia de un libro que está en prestamo. \n",
        "\n",
        "---\n",
        "**Unión de tablas:** Hablamos de unión de tablas, u operaciones de unión, cuando pretendemos obtener información de dos o más tablas que están relacionadas.\n",
        "\n",
        "---\n",
        "\n",
        "\n",
        "Para este problema debemos consular tres tablas:\n",
        "\n",
        "- Tabla de Prestamista\n",
        "- Tabla de Prestamo\n",
        "- Tabla de Copia\n",
        "\n",
        "En este caso es cuando debemos usar el operador `JOIN`, para combinar datos de más de una tabla, basándonos en las relación entre ciertas columnas de la tabla. Lo primero que debemos hacer en este caso, es idetificar las relaciones entree las tablas, dadas por las columnas correspondientes a las claves foráneas.  \n",
        "\n",
        "Retomando nuestro problema, si queremos saber qué *prestamista* tiene un *libro*, recopilariamos los datos de las tablas *Prestamita* y *Prestamo*. De ambas tablas necesitaríamos entonces `ID_Prestamista`.\n",
        "\n",
        "Para hacer estas operaciones, SQL nos ofrece varias operaciones:\n",
        "\n",
        "\n",
        "\n",
        "<center>\n",
        "    <img height=\"600px\" src=\"https://raw.githubusercontent.com/ssanchezgoe/flask_vscode_tutorial/6ebc65fd18150289b3559cb0c54e41e15f1f8888/imagenes/SQL_Joins.svg\" />\n",
        "</center>\n"
      ]
    },
    {
      "cell_type": "markdown",
      "metadata": {
        "id": "JzGJpQ5dhIu5",
        "colab_type": "text"
      },
      "source": [
        "##**2. Inner Join**\n",
        "\n",
        "En esta sección se abordarán los siguientes conceptos:\n",
        "\n",
        "- Sintáxis de SQL para la union de dos o más tablas.\n",
        "- Interpretación de resultados.\n"
      ]
    },
    {
      "cell_type": "markdown",
      "metadata": {
        "id": "fU7vDuvuiaYq",
        "colab_type": "text"
      },
      "source": [
        "###**Operación Unión-intersección**\n",
        "\n",
        "En diagramas de Benn, la unión intersección se representa de la siguiente forma\n",
        "\n",
        "\n",
        "<center>\n",
        "    <img height=\"150px\" src=\"https://github.com/ssanchezgoe/flask_vscode_tutorial/blob/master/imagenes/inner_join.png?raw=true\" />\n",
        "</center>\n",
        "\n",
        "Recordemos el diagrama ER de la base de datos de una librería que estamos programando:\n",
        "\n",
        "<center>\n",
        "    <img height=\"600px\" src=\"https://github.com/ssanchezgoe/flask_vscode_tutorial/blob/master/imagenes/libreria_ERD.png?raw=true\" />\n",
        "</center>\n",
        "\n",
        "Si queremos corroborar los nombres de las personas que efectivamente tienen prestado un libro, tendremos que consultar la información que está en dos tablas: la de Prestamista y la de Prestamo. \n",
        "\n",
        "\n",
        "- Entidad Prestamista\n",
        "\n",
        "ID_Prestamista | Apellido | Nombre | e-mail | Telefono | Direccion |Ciudad | COL\n",
        "-- | -- | -- | -- | -- | -- | -- | --\n",
        "1 | Sanchez | Sebastian | e-mail | 1111111 | patio lindo 3 |Medellin | COL\n",
        "2 | Garcia | Natalia | e-mail | 2222222 | villatina 4 |Bogota | COL\n",
        "3 | Peña | Alberto | e-mail | 3333333 | alborada 5 |San Andres | COL\n",
        "4 | Nieto | Carmen | e-mail | 4444444 | turpiales 4 |Valledupar | COL\n",
        "5 | Gomez | Pablo | e-mail | 5555555 | cardenal 6 |Cali | COL\n",
        "6 | Jaramillo | Daniela | e-mail | 6666666 | caracoli 3 |Barranquilla | COL\n",
        "\n",
        "- Entidad Prestamo\n",
        "\n",
        "ID_Prestamo | ID_Copia | ID_Prestamista | Fecha_Prestamo | Dias_prestamo | Fecha_Devolucion\n",
        "-- | -- | -- | -- | -- | -- \n",
        "1 | 1 | 1 | 2019-11-02 | 2|2019-15-02\n",
        "2 | 2 | 1 | 2019-11-02 | 2|2019-15-02\n",
        "3 | 3 | 2 | 2019-11-02 | 2|2019-15-02\n",
        "4 | 4 | 4 | 2019-12-02 |1 |2019-16-02\n",
        "5| 5 | 5 | 2019-12-02 | 1|2019-16-02 \n",
        "6 | 6 | 6 | 2019-13-02 |0 |2019-17-02\n",
        "\n",
        "Si hacemos un `Inner Join` entre estas dos tablas, obtendremos que los Prestamistas que tienen libros prestados son\n",
        "\n",
        "- 1-Sebastian Sanchez\n",
        "- 1-Sebastian Sanchez\n",
        "- 2-Natalia Garcia\n",
        "- 4-Carmen Nieto\n",
        "- 5-Pablo Gomez\n",
        "- 6-Daniela Jaramillo\n",
        "\n",
        "Es decir, la intersección de los ID_Prestamistas de ambas tablas.\n",
        "\n",
        "En SQL, esta instrucción se daría de la siguiente forma\n",
        "\n",
        "```\n",
        "SELECT PTA.ID_Prestamista PTA.Apellido, PTA.Pais, \n",
        "PMO.ID_Prestamista, PMO.Fecha_Devolucion \n",
        "FROM Prestamista PTA INNER JOIN Prestamo PMO\n",
        "ON PTA.ID_Prestamista = PMO.ID_Prestamista\n",
        "``` \n",
        "\n",
        "Veamos un ejemplo de una ejecución usando librerías de `Pandas` en `python`:"
      ]
    },
    {
      "cell_type": "code",
      "metadata": {
        "id": "1wi8VTdS8SOp",
        "colab_type": "code",
        "cellView": "form",
        "colab": {
          "base_uri": "https://localhost:8080/",
          "height": 328
        },
        "outputId": "a8da6352-e680-442b-c6e9-f3f08cc3f53c"
      },
      "source": [
        "#@title **TABLA Prestamista**\n",
        "\n",
        "import pandas as pd\n",
        "import numpy as np\n",
        "\n",
        "PTA_entries = {'ID_Prestamista':np.arange(1,10),\n",
        "               'Apellido':['Zuluaga','Arteaga','Londoño','Camargo','Lopez','Sarmiento','Pineda','Velez','Jaimes'],\n",
        "               'Nombre':['Andres','Sara','Estefania','Daniela','Paola','Esther','Carlos','Esteban','Fernando'],\n",
        "               'Correo':['aa@corre.com','bb@corre.com','cc@corre.com','dd@corre.com','ee@corre.com','ff@corre.com','gg@corre.com','hh@corre.com','ii@corre.com'],\n",
        "               'Telefono':['1111111','2222222','3333333','4444444','5555555','6666666','7777777','8888888','9999999'],\n",
        "               'Dirección':['a1','b2','c3','d4','e5','f6','g7','h8','i9'],\n",
        "               'Ciudad':['Medellín','Cali','Barranquilla','Cali','Cartagena','Medellín','Bogotá','Pereira','Manizalez'],\n",
        "               'Pais':['COL','COL','COL','COL','COL','COL','COL','COL','COL']\n",
        "}\n",
        "\n",
        "df_PTA = pd.DataFrame(PTA_entries)\n",
        "df_PTA"
      ],
      "execution_count": null,
      "outputs": [
        {
          "output_type": "execute_result",
          "data": {
            "text/html": [
              "<div>\n",
              "<style scoped>\n",
              "    .dataframe tbody tr th:only-of-type {\n",
              "        vertical-align: middle;\n",
              "    }\n",
              "\n",
              "    .dataframe tbody tr th {\n",
              "        vertical-align: top;\n",
              "    }\n",
              "\n",
              "    .dataframe thead th {\n",
              "        text-align: right;\n",
              "    }\n",
              "</style>\n",
              "<table border=\"1\" class=\"dataframe\">\n",
              "  <thead>\n",
              "    <tr style=\"text-align: right;\">\n",
              "      <th></th>\n",
              "      <th>ID_Prestamista</th>\n",
              "      <th>Apellido</th>\n",
              "      <th>Nombre</th>\n",
              "      <th>Correo</th>\n",
              "      <th>Telefono</th>\n",
              "      <th>Dirección</th>\n",
              "      <th>Ciudad</th>\n",
              "      <th>Pais</th>\n",
              "    </tr>\n",
              "  </thead>\n",
              "  <tbody>\n",
              "    <tr>\n",
              "      <th>0</th>\n",
              "      <td>1</td>\n",
              "      <td>Zuluaga</td>\n",
              "      <td>Andres</td>\n",
              "      <td>aa@corre.com</td>\n",
              "      <td>1111111</td>\n",
              "      <td>a1</td>\n",
              "      <td>Medellín</td>\n",
              "      <td>COL</td>\n",
              "    </tr>\n",
              "    <tr>\n",
              "      <th>1</th>\n",
              "      <td>2</td>\n",
              "      <td>Arteaga</td>\n",
              "      <td>Sara</td>\n",
              "      <td>bb@corre.com</td>\n",
              "      <td>2222222</td>\n",
              "      <td>b2</td>\n",
              "      <td>Cali</td>\n",
              "      <td>COL</td>\n",
              "    </tr>\n",
              "    <tr>\n",
              "      <th>2</th>\n",
              "      <td>3</td>\n",
              "      <td>Londoño</td>\n",
              "      <td>Estefania</td>\n",
              "      <td>cc@corre.com</td>\n",
              "      <td>3333333</td>\n",
              "      <td>c3</td>\n",
              "      <td>Barranquilla</td>\n",
              "      <td>COL</td>\n",
              "    </tr>\n",
              "    <tr>\n",
              "      <th>3</th>\n",
              "      <td>4</td>\n",
              "      <td>Camargo</td>\n",
              "      <td>Daniela</td>\n",
              "      <td>dd@corre.com</td>\n",
              "      <td>4444444</td>\n",
              "      <td>d4</td>\n",
              "      <td>Cali</td>\n",
              "      <td>COL</td>\n",
              "    </tr>\n",
              "    <tr>\n",
              "      <th>4</th>\n",
              "      <td>5</td>\n",
              "      <td>Lopez</td>\n",
              "      <td>Paola</td>\n",
              "      <td>ee@corre.com</td>\n",
              "      <td>5555555</td>\n",
              "      <td>e5</td>\n",
              "      <td>Cartagena</td>\n",
              "      <td>COL</td>\n",
              "    </tr>\n",
              "    <tr>\n",
              "      <th>5</th>\n",
              "      <td>6</td>\n",
              "      <td>Sarmiento</td>\n",
              "      <td>Esther</td>\n",
              "      <td>ff@corre.com</td>\n",
              "      <td>6666666</td>\n",
              "      <td>f6</td>\n",
              "      <td>Medellín</td>\n",
              "      <td>COL</td>\n",
              "    </tr>\n",
              "    <tr>\n",
              "      <th>6</th>\n",
              "      <td>7</td>\n",
              "      <td>Pineda</td>\n",
              "      <td>Carlos</td>\n",
              "      <td>gg@corre.com</td>\n",
              "      <td>7777777</td>\n",
              "      <td>g7</td>\n",
              "      <td>Bogotá</td>\n",
              "      <td>COL</td>\n",
              "    </tr>\n",
              "    <tr>\n",
              "      <th>7</th>\n",
              "      <td>8</td>\n",
              "      <td>Velez</td>\n",
              "      <td>Esteban</td>\n",
              "      <td>hh@corre.com</td>\n",
              "      <td>8888888</td>\n",
              "      <td>h8</td>\n",
              "      <td>Pereira</td>\n",
              "      <td>COL</td>\n",
              "    </tr>\n",
              "    <tr>\n",
              "      <th>8</th>\n",
              "      <td>9</td>\n",
              "      <td>Jaimes</td>\n",
              "      <td>Fernando</td>\n",
              "      <td>ii@corre.com</td>\n",
              "      <td>9999999</td>\n",
              "      <td>i9</td>\n",
              "      <td>Manizalez</td>\n",
              "      <td>COL</td>\n",
              "    </tr>\n",
              "  </tbody>\n",
              "</table>\n",
              "</div>"
            ],
            "text/plain": [
              "   ID_Prestamista   Apellido     Nombre  ... Dirección        Ciudad Pais\n",
              "0               1    Zuluaga     Andres  ...        a1      Medellín  COL\n",
              "1               2    Arteaga       Sara  ...        b2          Cali  COL\n",
              "2               3    Londoño  Estefania  ...        c3  Barranquilla  COL\n",
              "3               4    Camargo    Daniela  ...        d4          Cali  COL\n",
              "4               5      Lopez      Paola  ...        e5     Cartagena  COL\n",
              "5               6  Sarmiento     Esther  ...        f6      Medellín  COL\n",
              "6               7     Pineda     Carlos  ...        g7        Bogotá  COL\n",
              "7               8      Velez    Esteban  ...        h8       Pereira  COL\n",
              "8               9     Jaimes   Fernando  ...        i9     Manizalez  COL\n",
              "\n",
              "[9 rows x 8 columns]"
            ]
          },
          "metadata": {
            "tags": []
          },
          "execution_count": 6
        }
      ]
    },
    {
      "cell_type": "code",
      "metadata": {
        "id": "w6OQWroS9UDE",
        "colab_type": "code",
        "cellView": "form",
        "colab": {
          "base_uri": "https://localhost:8080/",
          "height": 204
        },
        "outputId": "9db780d5-b9e8-4e92-91f8-fe5dfc312b9d"
      },
      "source": [
        "#@title **TABLA Prestamo**\n",
        "\n",
        "import pandas as pd\n",
        "import numpy as np\n",
        "\n",
        "PMO_entries = {'ID_Prestamista':np.arange(1,5),\n",
        "               'ID_Copia':[1,2,3,4,5],\n",
        "               'ID_Prestamista':[1,2,3,2,3],\n",
        "               'Fecha_Prestamo':['2020-01-01','2020-01-01','2020-01-01','2020-01-02','2020-01-02'],\n",
        "               'Dias_Prestamos':[2,2,2,1,1],\n",
        "               'Fecha_Devolucion':['2020-01-05','2020-01-05','2020-01-05','2020-01-06','2020-01-06']\n",
        "}\n",
        "\n",
        "df_PMO = pd.DataFrame(PMO_entries)\n",
        "df_PMO"
      ],
      "execution_count": null,
      "outputs": [
        {
          "output_type": "execute_result",
          "data": {
            "text/html": [
              "<div>\n",
              "<style scoped>\n",
              "    .dataframe tbody tr th:only-of-type {\n",
              "        vertical-align: middle;\n",
              "    }\n",
              "\n",
              "    .dataframe tbody tr th {\n",
              "        vertical-align: top;\n",
              "    }\n",
              "\n",
              "    .dataframe thead th {\n",
              "        text-align: right;\n",
              "    }\n",
              "</style>\n",
              "<table border=\"1\" class=\"dataframe\">\n",
              "  <thead>\n",
              "    <tr style=\"text-align: right;\">\n",
              "      <th></th>\n",
              "      <th>ID_Prestamista</th>\n",
              "      <th>ID_Copia</th>\n",
              "      <th>Fecha_Prestamo</th>\n",
              "      <th>Dias_Prestamos</th>\n",
              "      <th>Fecha_Devolucion</th>\n",
              "    </tr>\n",
              "  </thead>\n",
              "  <tbody>\n",
              "    <tr>\n",
              "      <th>0</th>\n",
              "      <td>1</td>\n",
              "      <td>1</td>\n",
              "      <td>2020-01-01</td>\n",
              "      <td>2</td>\n",
              "      <td>2020-01-05</td>\n",
              "    </tr>\n",
              "    <tr>\n",
              "      <th>1</th>\n",
              "      <td>2</td>\n",
              "      <td>2</td>\n",
              "      <td>2020-01-01</td>\n",
              "      <td>2</td>\n",
              "      <td>2020-01-05</td>\n",
              "    </tr>\n",
              "    <tr>\n",
              "      <th>2</th>\n",
              "      <td>3</td>\n",
              "      <td>3</td>\n",
              "      <td>2020-01-01</td>\n",
              "      <td>2</td>\n",
              "      <td>2020-01-05</td>\n",
              "    </tr>\n",
              "    <tr>\n",
              "      <th>3</th>\n",
              "      <td>2</td>\n",
              "      <td>4</td>\n",
              "      <td>2020-01-02</td>\n",
              "      <td>1</td>\n",
              "      <td>2020-01-06</td>\n",
              "    </tr>\n",
              "    <tr>\n",
              "      <th>4</th>\n",
              "      <td>3</td>\n",
              "      <td>5</td>\n",
              "      <td>2020-01-02</td>\n",
              "      <td>1</td>\n",
              "      <td>2020-01-06</td>\n",
              "    </tr>\n",
              "  </tbody>\n",
              "</table>\n",
              "</div>"
            ],
            "text/plain": [
              "   ID_Prestamista  ID_Copia Fecha_Prestamo  Dias_Prestamos Fecha_Devolucion\n",
              "0               1         1     2020-01-01               2       2020-01-05\n",
              "1               2         2     2020-01-01               2       2020-01-05\n",
              "2               3         3     2020-01-01               2       2020-01-05\n",
              "3               2         4     2020-01-02               1       2020-01-06\n",
              "4               3         5     2020-01-02               1       2020-01-06"
            ]
          },
          "metadata": {
            "tags": []
          },
          "execution_count": 7
        }
      ]
    },
    {
      "cell_type": "code",
      "metadata": {
        "id": "v72WBIeN9bZ7",
        "colab_type": "code",
        "cellView": "form",
        "colab": {
          "base_uri": "https://localhost:8080/",
          "height": 224
        },
        "outputId": "06f0cd66-9db2-4fb7-a701-9a72f97eb8d2"
      },
      "source": [
        "#@title **INNER JOIN**\n",
        "df_PTA.merge(df_PMO, on='ID_Prestamista', how='inner')"
      ],
      "execution_count": null,
      "outputs": [
        {
          "output_type": "execute_result",
          "data": {
            "text/html": [
              "<div>\n",
              "<style scoped>\n",
              "    .dataframe tbody tr th:only-of-type {\n",
              "        vertical-align: middle;\n",
              "    }\n",
              "\n",
              "    .dataframe tbody tr th {\n",
              "        vertical-align: top;\n",
              "    }\n",
              "\n",
              "    .dataframe thead th {\n",
              "        text-align: right;\n",
              "    }\n",
              "</style>\n",
              "<table border=\"1\" class=\"dataframe\">\n",
              "  <thead>\n",
              "    <tr style=\"text-align: right;\">\n",
              "      <th></th>\n",
              "      <th>ID_Prestamista</th>\n",
              "      <th>Apellido</th>\n",
              "      <th>Nombre</th>\n",
              "      <th>Correo</th>\n",
              "      <th>Telefono</th>\n",
              "      <th>Dirección</th>\n",
              "      <th>Ciudad</th>\n",
              "      <th>Pais</th>\n",
              "      <th>ID_Copia</th>\n",
              "      <th>Fecha_Prestamo</th>\n",
              "      <th>Dias_Prestamos</th>\n",
              "      <th>Fecha_Devolucion</th>\n",
              "    </tr>\n",
              "  </thead>\n",
              "  <tbody>\n",
              "    <tr>\n",
              "      <th>0</th>\n",
              "      <td>1</td>\n",
              "      <td>Zuluaga</td>\n",
              "      <td>Andres</td>\n",
              "      <td>aa@corre.com</td>\n",
              "      <td>1111111</td>\n",
              "      <td>a1</td>\n",
              "      <td>Medellín</td>\n",
              "      <td>COL</td>\n",
              "      <td>1</td>\n",
              "      <td>2020-01-01</td>\n",
              "      <td>2</td>\n",
              "      <td>2020-01-05</td>\n",
              "    </tr>\n",
              "    <tr>\n",
              "      <th>1</th>\n",
              "      <td>2</td>\n",
              "      <td>Arteaga</td>\n",
              "      <td>Sara</td>\n",
              "      <td>bb@corre.com</td>\n",
              "      <td>2222222</td>\n",
              "      <td>b2</td>\n",
              "      <td>Cali</td>\n",
              "      <td>COL</td>\n",
              "      <td>2</td>\n",
              "      <td>2020-01-01</td>\n",
              "      <td>2</td>\n",
              "      <td>2020-01-05</td>\n",
              "    </tr>\n",
              "    <tr>\n",
              "      <th>2</th>\n",
              "      <td>2</td>\n",
              "      <td>Arteaga</td>\n",
              "      <td>Sara</td>\n",
              "      <td>bb@corre.com</td>\n",
              "      <td>2222222</td>\n",
              "      <td>b2</td>\n",
              "      <td>Cali</td>\n",
              "      <td>COL</td>\n",
              "      <td>4</td>\n",
              "      <td>2020-01-02</td>\n",
              "      <td>1</td>\n",
              "      <td>2020-01-06</td>\n",
              "    </tr>\n",
              "    <tr>\n",
              "      <th>3</th>\n",
              "      <td>3</td>\n",
              "      <td>Londoño</td>\n",
              "      <td>Estefania</td>\n",
              "      <td>cc@corre.com</td>\n",
              "      <td>3333333</td>\n",
              "      <td>c3</td>\n",
              "      <td>Barranquilla</td>\n",
              "      <td>COL</td>\n",
              "      <td>3</td>\n",
              "      <td>2020-01-01</td>\n",
              "      <td>2</td>\n",
              "      <td>2020-01-05</td>\n",
              "    </tr>\n",
              "    <tr>\n",
              "      <th>4</th>\n",
              "      <td>3</td>\n",
              "      <td>Londoño</td>\n",
              "      <td>Estefania</td>\n",
              "      <td>cc@corre.com</td>\n",
              "      <td>3333333</td>\n",
              "      <td>c3</td>\n",
              "      <td>Barranquilla</td>\n",
              "      <td>COL</td>\n",
              "      <td>5</td>\n",
              "      <td>2020-01-02</td>\n",
              "      <td>1</td>\n",
              "      <td>2020-01-06</td>\n",
              "    </tr>\n",
              "  </tbody>\n",
              "</table>\n",
              "</div>"
            ],
            "text/plain": [
              "   ID_Prestamista Apellido  ... Dias_Prestamos Fecha_Devolucion\n",
              "0               1  Zuluaga  ...              2       2020-01-05\n",
              "1               2  Arteaga  ...              2       2020-01-05\n",
              "2               2  Arteaga  ...              1       2020-01-06\n",
              "3               3  Londoño  ...              2       2020-01-05\n",
              "4               3  Londoño  ...              1       2020-01-06\n",
              "\n",
              "[5 rows x 12 columns]"
            ]
          },
          "metadata": {
            "tags": []
          },
          "execution_count": 10
        }
      ]
    },
    {
      "cell_type": "markdown",
      "metadata": {
        "id": "SqdpDev5q5CO",
        "colab_type": "text"
      },
      "source": [
        "**Problema:** Suponga que tenemos dos bases de datos:\n",
        "\n",
        "- A: Tabla de estados de una tarjeta de crédito.\n",
        "- B: Transacciones.\n",
        "\n",
        "Las tablas se presentan a continuación:\n"
      ]
    },
    {
      "cell_type": "code",
      "metadata": {
        "id": "lx6SOk1fSsfT",
        "colab_type": "code",
        "cellView": "form",
        "colab": {
          "base_uri": "https://localhost:8080/",
          "height": 461
        },
        "outputId": "38a1c6aa-e276-4369-eaea-a04af3af2648"
      },
      "source": [
        "#@title **Tabla-Entidad tarjetas**\n",
        "import pandas as pd\n",
        "\n",
        "tarjetas = pd.read_csv(\"https://raw.githubusercontent.com/diplomado-bigdata-machinelearning-udea/Curso1/master/s04/ESTADO_201709.txt\", sep='|')\n",
        "tarjetas.sort_values(by=['ID']).head(10)"
      ],
      "execution_count": null,
      "outputs": [
        {
          "output_type": "execute_result",
          "data": {
            "text/html": [
              "<div>\n",
              "<style scoped>\n",
              "    .dataframe tbody tr th:only-of-type {\n",
              "        vertical-align: middle;\n",
              "    }\n",
              "\n",
              "    .dataframe tbody tr th {\n",
              "        vertical-align: top;\n",
              "    }\n",
              "\n",
              "    .dataframe thead th {\n",
              "        text-align: right;\n",
              "    }\n",
              "</style>\n",
              "<table border=\"1\" class=\"dataframe\">\n",
              "  <thead>\n",
              "    <tr style=\"text-align: right;\">\n",
              "      <th></th>\n",
              "      <th>ID</th>\n",
              "      <th>FRANQUICIA</th>\n",
              "      <th>TIPO TARJETA</th>\n",
              "      <th>NUMERO TARJETA</th>\n",
              "      <th>CUPO GLOBAL</th>\n",
              "      <th>DISPONIBLE</th>\n",
              "      <th>FECHA DE EMISION</th>\n",
              "      <th>FECHA ULT AUMENTO CUPO</th>\n",
              "      <th>TOTAL MES EN MORA</th>\n",
              "      <th>ALTURA DE MORA</th>\n",
              "      <th>CODIGO VENDEDOR</th>\n",
              "      <th>CODIGO ESTADO TARJETA</th>\n",
              "    </tr>\n",
              "  </thead>\n",
              "  <tbody>\n",
              "    <tr>\n",
              "      <th>778</th>\n",
              "      <td>1</td>\n",
              "      <td>A</td>\n",
              "      <td>AZUL</td>\n",
              "      <td>1682</td>\n",
              "      <td>2200000.0</td>\n",
              "      <td>2047441.53</td>\n",
              "      <td>20081111</td>\n",
              "      <td>20101125</td>\n",
              "      <td>2</td>\n",
              "      <td>0</td>\n",
              "      <td>6817</td>\n",
              "      <td>0</td>\n",
              "    </tr>\n",
              "    <tr>\n",
              "      <th>6327</th>\n",
              "      <td>2</td>\n",
              "      <td>C</td>\n",
              "      <td>CLASICA C</td>\n",
              "      <td>6338</td>\n",
              "      <td>5850000.0</td>\n",
              "      <td>5680000.00</td>\n",
              "      <td>19811201</td>\n",
              "      <td>20070131</td>\n",
              "      <td>0</td>\n",
              "      <td>0</td>\n",
              "      <td>0</td>\n",
              "      <td>0</td>\n",
              "    </tr>\n",
              "    <tr>\n",
              "      <th>6167</th>\n",
              "      <td>3</td>\n",
              "      <td>B</td>\n",
              "      <td>ORO TRADICIONAL</td>\n",
              "      <td>5811</td>\n",
              "      <td>6200000.0</td>\n",
              "      <td>0.00</td>\n",
              "      <td>19790503</td>\n",
              "      <td>0</td>\n",
              "      <td>1</td>\n",
              "      <td>0</td>\n",
              "      <td>0</td>\n",
              "      <td>1</td>\n",
              "    </tr>\n",
              "    <tr>\n",
              "      <th>3850</th>\n",
              "      <td>4</td>\n",
              "      <td>B</td>\n",
              "      <td>CLASICA TRADICIONAL</td>\n",
              "      <td>3801</td>\n",
              "      <td>6000000.0</td>\n",
              "      <td>5218697.29</td>\n",
              "      <td>19801020</td>\n",
              "      <td>20070131</td>\n",
              "      <td>5</td>\n",
              "      <td>0</td>\n",
              "      <td>0</td>\n",
              "      <td>0</td>\n",
              "    </tr>\n",
              "    <tr>\n",
              "      <th>6301</th>\n",
              "      <td>5</td>\n",
              "      <td>C</td>\n",
              "      <td>CLASICA C</td>\n",
              "      <td>6340</td>\n",
              "      <td>4100000.0</td>\n",
              "      <td>3377366.64</td>\n",
              "      <td>19740401</td>\n",
              "      <td>20141210</td>\n",
              "      <td>4</td>\n",
              "      <td>0</td>\n",
              "      <td>0</td>\n",
              "      <td>0</td>\n",
              "    </tr>\n",
              "    <tr>\n",
              "      <th>5935</th>\n",
              "      <td>6</td>\n",
              "      <td>B</td>\n",
              "      <td>ORO TRADICIONAL</td>\n",
              "      <td>5646</td>\n",
              "      <td>5000000.0</td>\n",
              "      <td>5000000.00</td>\n",
              "      <td>20091118</td>\n",
              "      <td>0</td>\n",
              "      <td>0</td>\n",
              "      <td>0</td>\n",
              "      <td>3779</td>\n",
              "      <td>0</td>\n",
              "    </tr>\n",
              "    <tr>\n",
              "      <th>7851</th>\n",
              "      <td>7</td>\n",
              "      <td>C</td>\n",
              "      <td>ORO C</td>\n",
              "      <td>7673</td>\n",
              "      <td>18000000.0</td>\n",
              "      <td>18000000.00</td>\n",
              "      <td>20170327</td>\n",
              "      <td>0</td>\n",
              "      <td>0</td>\n",
              "      <td>0</td>\n",
              "      <td>13099</td>\n",
              "      <td>0</td>\n",
              "    </tr>\n",
              "    <tr>\n",
              "      <th>4677</th>\n",
              "      <td>8</td>\n",
              "      <td>B</td>\n",
              "      <td>CLASICA TRADICIONAL</td>\n",
              "      <td>5174</td>\n",
              "      <td>1500000.0</td>\n",
              "      <td>0.00</td>\n",
              "      <td>20170218</td>\n",
              "      <td>0</td>\n",
              "      <td>0</td>\n",
              "      <td>0</td>\n",
              "      <td>35397</td>\n",
              "      <td>1</td>\n",
              "    </tr>\n",
              "    <tr>\n",
              "      <th>3681</th>\n",
              "      <td>9</td>\n",
              "      <td>B</td>\n",
              "      <td>B DORADA</td>\n",
              "      <td>3714</td>\n",
              "      <td>12000000.0</td>\n",
              "      <td>12000000.00</td>\n",
              "      <td>20070529</td>\n",
              "      <td>0</td>\n",
              "      <td>9</td>\n",
              "      <td>0</td>\n",
              "      <td>0</td>\n",
              "      <td>0</td>\n",
              "    </tr>\n",
              "    <tr>\n",
              "      <th>2355</th>\n",
              "      <td>10</td>\n",
              "      <td>A</td>\n",
              "      <td>VERDE</td>\n",
              "      <td>2825</td>\n",
              "      <td>6000000.0</td>\n",
              "      <td>0.00</td>\n",
              "      <td>20110208</td>\n",
              "      <td>0</td>\n",
              "      <td>4</td>\n",
              "      <td>0</td>\n",
              "      <td>2018</td>\n",
              "      <td>1</td>\n",
              "    </tr>\n",
              "  </tbody>\n",
              "</table>\n",
              "</div>"
            ],
            "text/plain": [
              "      ID FRANQUICIA  ... CODIGO VENDEDOR  CODIGO ESTADO TARJETA\n",
              "778    1          A  ...            6817                      0\n",
              "6327   2          C  ...               0                      0\n",
              "6167   3          B  ...               0                      1\n",
              "3850   4          B  ...               0                      0\n",
              "6301   5          C  ...               0                      0\n",
              "5935   6          B  ...            3779                      0\n",
              "7851   7          C  ...           13099                      0\n",
              "4677   8          B  ...           35397                      1\n",
              "3681   9          B  ...               0                      0\n",
              "2355  10          A  ...            2018                      1\n",
              "\n",
              "[10 rows x 12 columns]"
            ]
          },
          "metadata": {
            "tags": []
          },
          "execution_count": 25
        }
      ]
    },
    {
      "cell_type": "code",
      "metadata": {
        "id": "dWjqs1mxVzVk",
        "colab_type": "code",
        "cellView": "form",
        "colab": {
          "base_uri": "https://localhost:8080/",
          "height": 359
        },
        "outputId": "8d30f104-54e8-46a3-a859-0b59137d152b"
      },
      "source": [
        "#@title **Tabla-Entidad transacciones**\n",
        "import pandas as pd\n",
        "\n",
        "transacciones = pd.read_csv(\"https://raw.githubusercontent.com/diplomado-bigdata-machinelearning-udea/Curso1/master/s04/TRANSACCION_201709.txt\", sep='|')\n",
        "transacciones.sort_values(by=['ID']).head(10)"
      ],
      "execution_count": null,
      "outputs": [
        {
          "output_type": "execute_result",
          "data": {
            "text/html": [
              "<div>\n",
              "<style scoped>\n",
              "    .dataframe tbody tr th:only-of-type {\n",
              "        vertical-align: middle;\n",
              "    }\n",
              "\n",
              "    .dataframe tbody tr th {\n",
              "        vertical-align: top;\n",
              "    }\n",
              "\n",
              "    .dataframe thead th {\n",
              "        text-align: right;\n",
              "    }\n",
              "</style>\n",
              "<table border=\"1\" class=\"dataframe\">\n",
              "  <thead>\n",
              "    <tr style=\"text-align: right;\">\n",
              "      <th></th>\n",
              "      <th>ID</th>\n",
              "      <th>NUMERO TARJETA</th>\n",
              "      <th>FECHA DE TRANSACCION</th>\n",
              "      <th>CODIGO TRANSACCION</th>\n",
              "      <th>VALOR TRANSACCION</th>\n",
              "      <th>NUMERO CUOTAS DIFERIDAS</th>\n",
              "    </tr>\n",
              "  </thead>\n",
              "  <tbody>\n",
              "    <tr>\n",
              "      <th>0</th>\n",
              "      <td>1</td>\n",
              "      <td>1682</td>\n",
              "      <td>20170915</td>\n",
              "      <td>AB</td>\n",
              "      <td>137373.0</td>\n",
              "      <td>0</td>\n",
              "    </tr>\n",
              "    <tr>\n",
              "      <th>1</th>\n",
              "      <td>1</td>\n",
              "      <td>1682</td>\n",
              "      <td>20170923</td>\n",
              "      <td>CN</td>\n",
              "      <td>14500.0</td>\n",
              "      <td>1</td>\n",
              "    </tr>\n",
              "    <tr>\n",
              "      <th>2</th>\n",
              "      <td>1</td>\n",
              "      <td>1682</td>\n",
              "      <td>20170929</td>\n",
              "      <td>CM</td>\n",
              "      <td>17340.0</td>\n",
              "      <td>0</td>\n",
              "    </tr>\n",
              "    <tr>\n",
              "      <th>3</th>\n",
              "      <td>2</td>\n",
              "      <td>6338</td>\n",
              "      <td>20170915</td>\n",
              "      <td>AB</td>\n",
              "      <td>508999.0</td>\n",
              "      <td>0</td>\n",
              "    </tr>\n",
              "    <tr>\n",
              "      <th>4</th>\n",
              "      <td>2</td>\n",
              "      <td>6338</td>\n",
              "      <td>20170923</td>\n",
              "      <td>CN</td>\n",
              "      <td>170000.0</td>\n",
              "      <td>1</td>\n",
              "    </tr>\n",
              "    <tr>\n",
              "      <th>5</th>\n",
              "      <td>3</td>\n",
              "      <td>5811</td>\n",
              "      <td>20170914</td>\n",
              "      <td>AB</td>\n",
              "      <td>63500.0</td>\n",
              "      <td>0</td>\n",
              "    </tr>\n",
              "    <tr>\n",
              "      <th>6</th>\n",
              "      <td>4</td>\n",
              "      <td>3801</td>\n",
              "      <td>20170916</td>\n",
              "      <td>AB</td>\n",
              "      <td>61000.0</td>\n",
              "      <td>0</td>\n",
              "    </tr>\n",
              "    <tr>\n",
              "      <th>12</th>\n",
              "      <td>5</td>\n",
              "      <td>6340</td>\n",
              "      <td>20170926</td>\n",
              "      <td>CN</td>\n",
              "      <td>15700.0</td>\n",
              "      <td>1</td>\n",
              "    </tr>\n",
              "    <tr>\n",
              "      <th>11</th>\n",
              "      <td>5</td>\n",
              "      <td>6340</td>\n",
              "      <td>20170921</td>\n",
              "      <td>CN</td>\n",
              "      <td>143900.0</td>\n",
              "      <td>1</td>\n",
              "    </tr>\n",
              "    <tr>\n",
              "      <th>10</th>\n",
              "      <td>5</td>\n",
              "      <td>6340</td>\n",
              "      <td>20170915</td>\n",
              "      <td>AB</td>\n",
              "      <td>646141.0</td>\n",
              "      <td>0</td>\n",
              "    </tr>\n",
              "  </tbody>\n",
              "</table>\n",
              "</div>"
            ],
            "text/plain": [
              "    ID  NUMERO TARJETA  ...  VALOR TRANSACCION NUMERO CUOTAS DIFERIDAS\n",
              "0    1            1682  ...           137373.0                       0\n",
              "1    1            1682  ...            14500.0                       1\n",
              "2    1            1682  ...            17340.0                       0\n",
              "3    2            6338  ...           508999.0                       0\n",
              "4    2            6338  ...           170000.0                       1\n",
              "5    3            5811  ...            63500.0                       0\n",
              "6    4            3801  ...            61000.0                       0\n",
              "12   5            6340  ...            15700.0                       1\n",
              "11   5            6340  ...           143900.0                       1\n",
              "10   5            6340  ...           646141.0                       0\n",
              "\n",
              "[10 rows x 6 columns]"
            ]
          },
          "metadata": {
            "tags": []
          },
          "execution_count": 26
        }
      ]
    },
    {
      "cell_type": "code",
      "metadata": {
        "id": "m6GLau8TXpBa",
        "colab_type": "code",
        "cellView": "form",
        "colab": {}
      },
      "source": [
        "#@title **¿Cómo podría obtener información de las tarjetas que han realizado alguna transacción? Suponga que quiere recuperar todas las filas de las tablas tarjetas y transacciones**\n",
        "\n",
        "arg = \"No es posible realizar dicha operacion\" #@param [\"No es posible realizar dicha operacion\", \"SELECT * FROM tarjetas ta INNER JOIN transacciones tr ON ta.ID = tr.ID\", \"SELECT ID FROM tarjetas ta INNER JOIN transacciones tr ON ta.ID = tr.ID\",\"SELECT ALL FROM tarjetas ta INNER JOIN transacciones tr ON ta.ID = tr.ID\"]\n",
        "\n",
        "if arg == \"SELECT * FROM tarjetas ta INNER JOIN transacciones tr ON ta.ID = tr.ID\":\n",
        "  print(\"Respuesta correcta!, la operación resultante sería: \\n\")\n",
        "  print(tarjetas.merge(transacciones, on = 'ID', how='inner').sort_values(by=['ID']).head(10))\n",
        "else:\n",
        "  print(\"Respuesta incorrecta.\")"
      ],
      "execution_count": null,
      "outputs": []
    },
    {
      "cell_type": "markdown",
      "metadata": {
        "id": "rgKuk3U1y3mv",
        "colab_type": "text"
      },
      "source": [
        "###**3. LEFT Outer Join**\n",
        "\n",
        "En un diagrama de Benn, la operación de `LEFT OUTER JOIN`\n",
        "\n",
        "<center>\n",
        "    <img height=\"150px\" src=\"https://github.com/ssanchezgoe/flask_vscode_tutorial/blob/master/imagenes/left_outer_join.png?raw=true\" />\n",
        "</center>\n",
        "\n",
        "En este sentido, una operación de este tipo toma todas las entradas que concuerdan A y las combina con aquellas que concuerdan en B. \n",
        "\n",
        "\n",
        "En `SQL` la sintaxis sería:\n",
        "\n",
        "```\n",
        "SELECT PTA.ID_Prestamista, PTA.Apellido, PTA.Pais, PMO.ID_Prestamista, PMO.Fecha_Prestamo  \n",
        "FROM Prestamista PTA LEFT JOIN Prestamo PMO \n",
        "ON PTA.ID_Prestamista = PMO.Prestamista\n",
        "```\n"
      ]
    },
    {
      "cell_type": "code",
      "metadata": {
        "id": "GuXPRAU6zAzV",
        "colab_type": "code",
        "cellView": "form",
        "colab": {
          "base_uri": "https://localhost:8080/",
          "height": 328
        },
        "outputId": "0194b9a5-0875-4f16-e973-dd0e87766842"
      },
      "source": [
        "#@title **TABLA Prestamista**\n",
        "\n",
        "import pandas as pd\n",
        "import numpy as np\n",
        "\n",
        "PTA_entries = {'ID_Prestamista':np.arange(1,10),\n",
        "               'Apellido':['Zuluaga','Arteaga','Londoño','Camargo','Lopez','Sarmiento','Pineda','Velez','Jaimes'],\n",
        "               'Nombre':['Andres','Sara','Estefania','Daniela','Paola','Esther','Carlos','Esteban','Fernando'],\n",
        "               'Correo':['aa@corre.com','bb@corre.com','cc@corre.com','dd@corre.com','ee@corre.com','ff@corre.com','gg@corre.com','hh@corre.com','ii@corre.com'],\n",
        "               'Telefono':['1111111','2222222','3333333','4444444','5555555','6666666','7777777','8888888','9999999'],\n",
        "               'Dirección':['a1','b2','c3','d4','e5','f6','g7','h8','i9'],\n",
        "               'Ciudad':['Medellín','Cali','Barranquilla','Cali','Cartagena','Medellín','Bogotá','Pereira','Manizalez'],\n",
        "               'Pais':['COL','COL','COL','COL','COL','COL','COL','COL','COL']\n",
        "}\n",
        "\n",
        "df_PTA = pd.DataFrame(PTA_entries)\n",
        "df_PTA"
      ],
      "execution_count": null,
      "outputs": [
        {
          "output_type": "execute_result",
          "data": {
            "text/html": [
              "<div>\n",
              "<style scoped>\n",
              "    .dataframe tbody tr th:only-of-type {\n",
              "        vertical-align: middle;\n",
              "    }\n",
              "\n",
              "    .dataframe tbody tr th {\n",
              "        vertical-align: top;\n",
              "    }\n",
              "\n",
              "    .dataframe thead th {\n",
              "        text-align: right;\n",
              "    }\n",
              "</style>\n",
              "<table border=\"1\" class=\"dataframe\">\n",
              "  <thead>\n",
              "    <tr style=\"text-align: right;\">\n",
              "      <th></th>\n",
              "      <th>ID_Prestamista</th>\n",
              "      <th>Apellido</th>\n",
              "      <th>Nombre</th>\n",
              "      <th>Correo</th>\n",
              "      <th>Telefono</th>\n",
              "      <th>Dirección</th>\n",
              "      <th>Ciudad</th>\n",
              "      <th>Pais</th>\n",
              "    </tr>\n",
              "  </thead>\n",
              "  <tbody>\n",
              "    <tr>\n",
              "      <th>0</th>\n",
              "      <td>1</td>\n",
              "      <td>Zuluaga</td>\n",
              "      <td>Andres</td>\n",
              "      <td>aa@corre.com</td>\n",
              "      <td>1111111</td>\n",
              "      <td>a1</td>\n",
              "      <td>Medellín</td>\n",
              "      <td>COL</td>\n",
              "    </tr>\n",
              "    <tr>\n",
              "      <th>1</th>\n",
              "      <td>2</td>\n",
              "      <td>Arteaga</td>\n",
              "      <td>Sara</td>\n",
              "      <td>bb@corre.com</td>\n",
              "      <td>2222222</td>\n",
              "      <td>b2</td>\n",
              "      <td>Cali</td>\n",
              "      <td>COL</td>\n",
              "    </tr>\n",
              "    <tr>\n",
              "      <th>2</th>\n",
              "      <td>3</td>\n",
              "      <td>Londoño</td>\n",
              "      <td>Estefania</td>\n",
              "      <td>cc@corre.com</td>\n",
              "      <td>3333333</td>\n",
              "      <td>c3</td>\n",
              "      <td>Barranquilla</td>\n",
              "      <td>COL</td>\n",
              "    </tr>\n",
              "    <tr>\n",
              "      <th>3</th>\n",
              "      <td>4</td>\n",
              "      <td>Camargo</td>\n",
              "      <td>Daniela</td>\n",
              "      <td>dd@corre.com</td>\n",
              "      <td>4444444</td>\n",
              "      <td>d4</td>\n",
              "      <td>Cali</td>\n",
              "      <td>COL</td>\n",
              "    </tr>\n",
              "    <tr>\n",
              "      <th>4</th>\n",
              "      <td>5</td>\n",
              "      <td>Lopez</td>\n",
              "      <td>Paola</td>\n",
              "      <td>ee@corre.com</td>\n",
              "      <td>5555555</td>\n",
              "      <td>e5</td>\n",
              "      <td>Cartagena</td>\n",
              "      <td>COL</td>\n",
              "    </tr>\n",
              "    <tr>\n",
              "      <th>5</th>\n",
              "      <td>6</td>\n",
              "      <td>Sarmiento</td>\n",
              "      <td>Esther</td>\n",
              "      <td>ff@corre.com</td>\n",
              "      <td>6666666</td>\n",
              "      <td>f6</td>\n",
              "      <td>Medellín</td>\n",
              "      <td>COL</td>\n",
              "    </tr>\n",
              "    <tr>\n",
              "      <th>6</th>\n",
              "      <td>7</td>\n",
              "      <td>Pineda</td>\n",
              "      <td>Carlos</td>\n",
              "      <td>gg@corre.com</td>\n",
              "      <td>7777777</td>\n",
              "      <td>g7</td>\n",
              "      <td>Bogotá</td>\n",
              "      <td>COL</td>\n",
              "    </tr>\n",
              "    <tr>\n",
              "      <th>7</th>\n",
              "      <td>8</td>\n",
              "      <td>Velez</td>\n",
              "      <td>Esteban</td>\n",
              "      <td>hh@corre.com</td>\n",
              "      <td>8888888</td>\n",
              "      <td>h8</td>\n",
              "      <td>Pereira</td>\n",
              "      <td>COL</td>\n",
              "    </tr>\n",
              "    <tr>\n",
              "      <th>8</th>\n",
              "      <td>9</td>\n",
              "      <td>Jaimes</td>\n",
              "      <td>Fernando</td>\n",
              "      <td>ii@corre.com</td>\n",
              "      <td>9999999</td>\n",
              "      <td>i9</td>\n",
              "      <td>Manizalez</td>\n",
              "      <td>COL</td>\n",
              "    </tr>\n",
              "  </tbody>\n",
              "</table>\n",
              "</div>"
            ],
            "text/plain": [
              "   ID_Prestamista   Apellido     Nombre  ... Dirección        Ciudad Pais\n",
              "0               1    Zuluaga     Andres  ...        a1      Medellín  COL\n",
              "1               2    Arteaga       Sara  ...        b2          Cali  COL\n",
              "2               3    Londoño  Estefania  ...        c3  Barranquilla  COL\n",
              "3               4    Camargo    Daniela  ...        d4          Cali  COL\n",
              "4               5      Lopez      Paola  ...        e5     Cartagena  COL\n",
              "5               6  Sarmiento     Esther  ...        f6      Medellín  COL\n",
              "6               7     Pineda     Carlos  ...        g7        Bogotá  COL\n",
              "7               8      Velez    Esteban  ...        h8       Pereira  COL\n",
              "8               9     Jaimes   Fernando  ...        i9     Manizalez  COL\n",
              "\n",
              "[9 rows x 8 columns]"
            ]
          },
          "metadata": {
            "tags": []
          },
          "execution_count": 67
        }
      ]
    },
    {
      "cell_type": "code",
      "metadata": {
        "id": "FCmpaRZ72uHi",
        "colab_type": "code",
        "cellView": "form",
        "colab": {
          "base_uri": "https://localhost:8080/",
          "height": 204
        },
        "outputId": "b8544b34-09a9-43e0-efe4-1608276ac3b8"
      },
      "source": [
        "#@title **TABLA Prestamo**\n",
        "\n",
        "import pandas as pd\n",
        "import numpy as np\n",
        "\n",
        "PMO_entries = {'ID_Prestamista':np.arange(1,5),\n",
        "               'ID_Copia':[1,2,3,4,5],\n",
        "               'ID_Prestamista':[1,2,3,2,3],\n",
        "               'Fecha_Prestamo':['2020-01-01','2020-01-01','2020-01-01','2020-01-02','2020-01-02'],\n",
        "               'Dias_Prestamos':[2,2,2,1,1],\n",
        "               'Fecha_Devolucion':['2020-01-05','2020-01-05','2020-01-05','2020-01-06','2020-01-06']\n",
        "}\n",
        "\n",
        "df_PMO = pd.DataFrame(PMO_entries)\n",
        "df_PMO"
      ],
      "execution_count": null,
      "outputs": [
        {
          "output_type": "execute_result",
          "data": {
            "text/html": [
              "<div>\n",
              "<style scoped>\n",
              "    .dataframe tbody tr th:only-of-type {\n",
              "        vertical-align: middle;\n",
              "    }\n",
              "\n",
              "    .dataframe tbody tr th {\n",
              "        vertical-align: top;\n",
              "    }\n",
              "\n",
              "    .dataframe thead th {\n",
              "        text-align: right;\n",
              "    }\n",
              "</style>\n",
              "<table border=\"1\" class=\"dataframe\">\n",
              "  <thead>\n",
              "    <tr style=\"text-align: right;\">\n",
              "      <th></th>\n",
              "      <th>ID_Prestamista</th>\n",
              "      <th>ID_Copia</th>\n",
              "      <th>Fecha_Prestamo</th>\n",
              "      <th>Dias_Prestamos</th>\n",
              "      <th>Fecha_Devolucion</th>\n",
              "    </tr>\n",
              "  </thead>\n",
              "  <tbody>\n",
              "    <tr>\n",
              "      <th>0</th>\n",
              "      <td>1</td>\n",
              "      <td>1</td>\n",
              "      <td>2020-01-01</td>\n",
              "      <td>2</td>\n",
              "      <td>2020-01-05</td>\n",
              "    </tr>\n",
              "    <tr>\n",
              "      <th>1</th>\n",
              "      <td>2</td>\n",
              "      <td>2</td>\n",
              "      <td>2020-01-01</td>\n",
              "      <td>2</td>\n",
              "      <td>2020-01-05</td>\n",
              "    </tr>\n",
              "    <tr>\n",
              "      <th>2</th>\n",
              "      <td>3</td>\n",
              "      <td>3</td>\n",
              "      <td>2020-01-01</td>\n",
              "      <td>2</td>\n",
              "      <td>2020-01-05</td>\n",
              "    </tr>\n",
              "    <tr>\n",
              "      <th>3</th>\n",
              "      <td>2</td>\n",
              "      <td>4</td>\n",
              "      <td>2020-01-02</td>\n",
              "      <td>1</td>\n",
              "      <td>2020-01-06</td>\n",
              "    </tr>\n",
              "    <tr>\n",
              "      <th>4</th>\n",
              "      <td>3</td>\n",
              "      <td>5</td>\n",
              "      <td>2020-01-02</td>\n",
              "      <td>1</td>\n",
              "      <td>2020-01-06</td>\n",
              "    </tr>\n",
              "  </tbody>\n",
              "</table>\n",
              "</div>"
            ],
            "text/plain": [
              "   ID_Prestamista  ID_Copia Fecha_Prestamo  Dias_Prestamos Fecha_Devolucion\n",
              "0               1         1     2020-01-01               2       2020-01-05\n",
              "1               2         2     2020-01-01               2       2020-01-05\n",
              "2               3         3     2020-01-01               2       2020-01-05\n",
              "3               2         4     2020-01-02               1       2020-01-06\n",
              "4               3         5     2020-01-02               1       2020-01-06"
            ]
          },
          "metadata": {
            "tags": []
          },
          "execution_count": 68
        }
      ]
    },
    {
      "cell_type": "code",
      "metadata": {
        "id": "NAnjzJHK9WbN",
        "colab_type": "code",
        "cellView": "form",
        "colab": {
          "base_uri": "https://localhost:8080/",
          "height": 410
        },
        "outputId": "2bfe8da2-f7b1-4bf7-c8a9-59904ac108c6"
      },
      "source": [
        "#@title **LEFT OUTER JOIN: Prestamista- Tabla Izquiera**\n",
        "\n",
        "df_PTA.merge(df_PMO, on='ID_Prestamista', how='left')\n",
        "\n",
        "\n",
        "\n"
      ],
      "execution_count": null,
      "outputs": [
        {
          "output_type": "execute_result",
          "data": {
            "text/html": [
              "<div>\n",
              "<style scoped>\n",
              "    .dataframe tbody tr th:only-of-type {\n",
              "        vertical-align: middle;\n",
              "    }\n",
              "\n",
              "    .dataframe tbody tr th {\n",
              "        vertical-align: top;\n",
              "    }\n",
              "\n",
              "    .dataframe thead th {\n",
              "        text-align: right;\n",
              "    }\n",
              "</style>\n",
              "<table border=\"1\" class=\"dataframe\">\n",
              "  <thead>\n",
              "    <tr style=\"text-align: right;\">\n",
              "      <th></th>\n",
              "      <th>ID_Prestamista</th>\n",
              "      <th>Apellido</th>\n",
              "      <th>Nombre</th>\n",
              "      <th>Correo</th>\n",
              "      <th>Telefono</th>\n",
              "      <th>Dirección</th>\n",
              "      <th>Ciudad</th>\n",
              "      <th>Pais</th>\n",
              "      <th>ID_Copia</th>\n",
              "      <th>Fecha_Prestamo</th>\n",
              "      <th>Dias_Prestamos</th>\n",
              "      <th>Fecha_Devolucion</th>\n",
              "    </tr>\n",
              "  </thead>\n",
              "  <tbody>\n",
              "    <tr>\n",
              "      <th>0</th>\n",
              "      <td>1</td>\n",
              "      <td>Zuluaga</td>\n",
              "      <td>Andres</td>\n",
              "      <td>aa@corre.com</td>\n",
              "      <td>1111111</td>\n",
              "      <td>a1</td>\n",
              "      <td>Medellín</td>\n",
              "      <td>COL</td>\n",
              "      <td>1.0</td>\n",
              "      <td>2020-01-01</td>\n",
              "      <td>2.0</td>\n",
              "      <td>2020-01-05</td>\n",
              "    </tr>\n",
              "    <tr>\n",
              "      <th>1</th>\n",
              "      <td>2</td>\n",
              "      <td>Arteaga</td>\n",
              "      <td>Sara</td>\n",
              "      <td>bb@corre.com</td>\n",
              "      <td>2222222</td>\n",
              "      <td>b2</td>\n",
              "      <td>Cali</td>\n",
              "      <td>COL</td>\n",
              "      <td>2.0</td>\n",
              "      <td>2020-01-01</td>\n",
              "      <td>2.0</td>\n",
              "      <td>2020-01-05</td>\n",
              "    </tr>\n",
              "    <tr>\n",
              "      <th>2</th>\n",
              "      <td>2</td>\n",
              "      <td>Arteaga</td>\n",
              "      <td>Sara</td>\n",
              "      <td>bb@corre.com</td>\n",
              "      <td>2222222</td>\n",
              "      <td>b2</td>\n",
              "      <td>Cali</td>\n",
              "      <td>COL</td>\n",
              "      <td>4.0</td>\n",
              "      <td>2020-01-02</td>\n",
              "      <td>1.0</td>\n",
              "      <td>2020-01-06</td>\n",
              "    </tr>\n",
              "    <tr>\n",
              "      <th>3</th>\n",
              "      <td>3</td>\n",
              "      <td>Londoño</td>\n",
              "      <td>Estefania</td>\n",
              "      <td>cc@corre.com</td>\n",
              "      <td>3333333</td>\n",
              "      <td>c3</td>\n",
              "      <td>Barranquilla</td>\n",
              "      <td>COL</td>\n",
              "      <td>3.0</td>\n",
              "      <td>2020-01-01</td>\n",
              "      <td>2.0</td>\n",
              "      <td>2020-01-05</td>\n",
              "    </tr>\n",
              "    <tr>\n",
              "      <th>4</th>\n",
              "      <td>3</td>\n",
              "      <td>Londoño</td>\n",
              "      <td>Estefania</td>\n",
              "      <td>cc@corre.com</td>\n",
              "      <td>3333333</td>\n",
              "      <td>c3</td>\n",
              "      <td>Barranquilla</td>\n",
              "      <td>COL</td>\n",
              "      <td>5.0</td>\n",
              "      <td>2020-01-02</td>\n",
              "      <td>1.0</td>\n",
              "      <td>2020-01-06</td>\n",
              "    </tr>\n",
              "    <tr>\n",
              "      <th>5</th>\n",
              "      <td>4</td>\n",
              "      <td>Camargo</td>\n",
              "      <td>Daniela</td>\n",
              "      <td>dd@corre.com</td>\n",
              "      <td>4444444</td>\n",
              "      <td>d4</td>\n",
              "      <td>Cali</td>\n",
              "      <td>COL</td>\n",
              "      <td>NaN</td>\n",
              "      <td>NaN</td>\n",
              "      <td>NaN</td>\n",
              "      <td>NaN</td>\n",
              "    </tr>\n",
              "    <tr>\n",
              "      <th>6</th>\n",
              "      <td>5</td>\n",
              "      <td>Lopez</td>\n",
              "      <td>Paola</td>\n",
              "      <td>ee@corre.com</td>\n",
              "      <td>5555555</td>\n",
              "      <td>e5</td>\n",
              "      <td>Cartagena</td>\n",
              "      <td>COL</td>\n",
              "      <td>NaN</td>\n",
              "      <td>NaN</td>\n",
              "      <td>NaN</td>\n",
              "      <td>NaN</td>\n",
              "    </tr>\n",
              "    <tr>\n",
              "      <th>7</th>\n",
              "      <td>6</td>\n",
              "      <td>Sarmiento</td>\n",
              "      <td>Esther</td>\n",
              "      <td>ff@corre.com</td>\n",
              "      <td>6666666</td>\n",
              "      <td>f6</td>\n",
              "      <td>Medellín</td>\n",
              "      <td>COL</td>\n",
              "      <td>NaN</td>\n",
              "      <td>NaN</td>\n",
              "      <td>NaN</td>\n",
              "      <td>NaN</td>\n",
              "    </tr>\n",
              "    <tr>\n",
              "      <th>8</th>\n",
              "      <td>7</td>\n",
              "      <td>Pineda</td>\n",
              "      <td>Carlos</td>\n",
              "      <td>gg@corre.com</td>\n",
              "      <td>7777777</td>\n",
              "      <td>g7</td>\n",
              "      <td>Bogotá</td>\n",
              "      <td>COL</td>\n",
              "      <td>NaN</td>\n",
              "      <td>NaN</td>\n",
              "      <td>NaN</td>\n",
              "      <td>NaN</td>\n",
              "    </tr>\n",
              "    <tr>\n",
              "      <th>9</th>\n",
              "      <td>8</td>\n",
              "      <td>Velez</td>\n",
              "      <td>Esteban</td>\n",
              "      <td>hh@corre.com</td>\n",
              "      <td>8888888</td>\n",
              "      <td>h8</td>\n",
              "      <td>Pereira</td>\n",
              "      <td>COL</td>\n",
              "      <td>NaN</td>\n",
              "      <td>NaN</td>\n",
              "      <td>NaN</td>\n",
              "      <td>NaN</td>\n",
              "    </tr>\n",
              "    <tr>\n",
              "      <th>10</th>\n",
              "      <td>9</td>\n",
              "      <td>Jaimes</td>\n",
              "      <td>Fernando</td>\n",
              "      <td>ii@corre.com</td>\n",
              "      <td>9999999</td>\n",
              "      <td>i9</td>\n",
              "      <td>Manizalez</td>\n",
              "      <td>COL</td>\n",
              "      <td>NaN</td>\n",
              "      <td>NaN</td>\n",
              "      <td>NaN</td>\n",
              "      <td>NaN</td>\n",
              "    </tr>\n",
              "  </tbody>\n",
              "</table>\n",
              "</div>"
            ],
            "text/plain": [
              "    ID_Prestamista   Apellido  ... Dias_Prestamos Fecha_Devolucion\n",
              "0                1    Zuluaga  ...            2.0       2020-01-05\n",
              "1                2    Arteaga  ...            2.0       2020-01-05\n",
              "2                2    Arteaga  ...            1.0       2020-01-06\n",
              "3                3    Londoño  ...            2.0       2020-01-05\n",
              "4                3    Londoño  ...            1.0       2020-01-06\n",
              "5                4    Camargo  ...            NaN              NaN\n",
              "6                5      Lopez  ...            NaN              NaN\n",
              "7                6  Sarmiento  ...            NaN              NaN\n",
              "8                7     Pineda  ...            NaN              NaN\n",
              "9                8      Velez  ...            NaN              NaN\n",
              "10               9     Jaimes  ...            NaN              NaN\n",
              "\n",
              "[11 rows x 12 columns]"
            ]
          },
          "metadata": {
            "tags": []
          },
          "execution_count": 69
        }
      ]
    },
    {
      "cell_type": "markdown",
      "metadata": {
        "id": "QEwGUhixixmT",
        "colab_type": "text"
      },
      "source": [
        "**Problema:** Si tenemos las dos siguientes tablas\n",
        "\n",
        "- Posibles usuarios que pueden o no realizar compras de una tienda.\n",
        "- transacciones \n",
        "\n",
        "las cuales se presentan a continuación:"
      ]
    },
    {
      "cell_type": "code",
      "metadata": {
        "id": "ctRnw_L3jzoA",
        "colab_type": "code",
        "cellView": "form",
        "colab": {
          "base_uri": "https://localhost:8080/",
          "height": 173
        },
        "outputId": "aebbf7dd-3b2f-418a-bcd6-66ee8688b9ee"
      },
      "source": [
        "#@title **Entidad usuarios**\n",
        "import numpy as np\n",
        "import pandas as pd\n",
        "\n",
        "# usuarios\n",
        "usuarios = pd.DataFrame({'ID_Usr': [1,2,3,4], \n",
        "                         'Name':['Pablo', 'Maria', 'John', 'Ana'],\n",
        "                     'Phone': ['1111111', '2111111', '3111111', \n",
        "                                        np.NaN]})\n",
        "\n",
        "usuarios"
      ],
      "execution_count": null,
      "outputs": [
        {
          "output_type": "execute_result",
          "data": {
            "text/html": [
              "<div>\n",
              "<style scoped>\n",
              "    .dataframe tbody tr th:only-of-type {\n",
              "        vertical-align: middle;\n",
              "    }\n",
              "\n",
              "    .dataframe tbody tr th {\n",
              "        vertical-align: top;\n",
              "    }\n",
              "\n",
              "    .dataframe thead th {\n",
              "        text-align: right;\n",
              "    }\n",
              "</style>\n",
              "<table border=\"1\" class=\"dataframe\">\n",
              "  <thead>\n",
              "    <tr style=\"text-align: right;\">\n",
              "      <th></th>\n",
              "      <th>ID_Usr</th>\n",
              "      <th>Name</th>\n",
              "      <th>Phone</th>\n",
              "    </tr>\n",
              "  </thead>\n",
              "  <tbody>\n",
              "    <tr>\n",
              "      <th>0</th>\n",
              "      <td>1</td>\n",
              "      <td>Pablo</td>\n",
              "      <td>1111111</td>\n",
              "    </tr>\n",
              "    <tr>\n",
              "      <th>1</th>\n",
              "      <td>2</td>\n",
              "      <td>Maria</td>\n",
              "      <td>2111111</td>\n",
              "    </tr>\n",
              "    <tr>\n",
              "      <th>2</th>\n",
              "      <td>3</td>\n",
              "      <td>John</td>\n",
              "      <td>3111111</td>\n",
              "    </tr>\n",
              "    <tr>\n",
              "      <th>3</th>\n",
              "      <td>4</td>\n",
              "      <td>Ana</td>\n",
              "      <td>NaN</td>\n",
              "    </tr>\n",
              "  </tbody>\n",
              "</table>\n",
              "</div>"
            ],
            "text/plain": [
              "   ID_Usr   Name    Phone\n",
              "0       1  Pablo  1111111\n",
              "1       2  Maria  2111111\n",
              "2       3   John  3111111\n",
              "3       4    Ana      NaN"
            ]
          },
          "metadata": {
            "tags": []
          },
          "execution_count": 104
        }
      ]
    },
    {
      "cell_type": "code",
      "metadata": {
        "id": "xIMRqqQomkBv",
        "colab_type": "code",
        "cellView": "form",
        "colab": {
          "base_uri": "https://localhost:8080/",
          "height": 173
        },
        "outputId": "17d5f6d2-3c2f-4c2b-cc15-a9b41cf55d93"
      },
      "source": [
        "#@title **Entidad transacciones**\n",
        "import numpy as np\n",
        "import pandas as pd\n",
        "\n",
        "# transactions\n",
        "transacciones = pd.DataFrame({'ID_Tr': [1, 2, 3, 4], \n",
        "                    'ID_Usr': [1, 3, 3, 4],\n",
        "                    'Value': np.arange(1000,5000,1000),\n",
        "                   })\n",
        "transacciones"
      ],
      "execution_count": null,
      "outputs": [
        {
          "output_type": "execute_result",
          "data": {
            "text/html": [
              "<div>\n",
              "<style scoped>\n",
              "    .dataframe tbody tr th:only-of-type {\n",
              "        vertical-align: middle;\n",
              "    }\n",
              "\n",
              "    .dataframe tbody tr th {\n",
              "        vertical-align: top;\n",
              "    }\n",
              "\n",
              "    .dataframe thead th {\n",
              "        text-align: right;\n",
              "    }\n",
              "</style>\n",
              "<table border=\"1\" class=\"dataframe\">\n",
              "  <thead>\n",
              "    <tr style=\"text-align: right;\">\n",
              "      <th></th>\n",
              "      <th>ID_Tr</th>\n",
              "      <th>ID_Usr</th>\n",
              "      <th>Value</th>\n",
              "    </tr>\n",
              "  </thead>\n",
              "  <tbody>\n",
              "    <tr>\n",
              "      <th>0</th>\n",
              "      <td>1</td>\n",
              "      <td>1</td>\n",
              "      <td>1000</td>\n",
              "    </tr>\n",
              "    <tr>\n",
              "      <th>1</th>\n",
              "      <td>2</td>\n",
              "      <td>3</td>\n",
              "      <td>2000</td>\n",
              "    </tr>\n",
              "    <tr>\n",
              "      <th>2</th>\n",
              "      <td>3</td>\n",
              "      <td>3</td>\n",
              "      <td>3000</td>\n",
              "    </tr>\n",
              "    <tr>\n",
              "      <th>3</th>\n",
              "      <td>4</td>\n",
              "      <td>4</td>\n",
              "      <td>4000</td>\n",
              "    </tr>\n",
              "  </tbody>\n",
              "</table>\n",
              "</div>"
            ],
            "text/plain": [
              "   ID_Tr  ID_Usr  Value\n",
              "0      1       1   1000\n",
              "1      2       3   2000\n",
              "2      3       3   3000\n",
              "3      4       4   4000"
            ]
          },
          "metadata": {
            "tags": []
          },
          "execution_count": 114
        }
      ]
    },
    {
      "cell_type": "code",
      "metadata": {
        "id": "aOrTtW2ioncf",
        "colab_type": "code",
        "cellView": "form",
        "colab": {}
      },
      "source": [
        "#@title **¿Cómo podría realizar una búsqueda haciendo un LEFT JOIN, para que aparezcan el nombre, los telefonos y el valor de la compra de las personas que comparon en la tienda?**\n",
        "\n",
        "arg = \"SELECT usr.Name, usr.Phone, tr.Value FROM transacciones tr LEFT JOIN usuarios usr ON tr.ID_Usr = usr.ID_Usr\" #@param [\"SELECT * FROM transacciones tr LEFT JOIN usuarios usr ON tr.ID_usr = urs.ID_Usr\", \"No es posible realizar dicha operacion con LEFT JOIN\", \"SELECT usr.Name, usr.Phone, tr.Value FROM usuarios usr LEFT JOIN transacciones tr ON usr.ID_usr = tr.ID_usr\" ,\"SELECT usr.Name, usr.Phone, tr.Value FROM transacciones tr LEFT JOIN usuarios usr ON tr.ID_Usr = usr.ID_Usr\"]\n",
        "\n",
        "if arg == \"SELECT usr.Name, usr.Phone, tr.Value FROM transacciones tr LEFT JOIN usuarios usr ON tr.ID_Usr = usr.ID_Usr\":\n",
        "  \n",
        "  print(\"Respuesta Correcta!\\n\")\n",
        "  print(transacciones.merge(usuarios, on='ID_Usr', how='left')[['Name','Phone','Value']])\n",
        "else:\n",
        "  print(\"Respuesta incorrecta.\")\n"
      ],
      "execution_count": null,
      "outputs": []
    },
    {
      "cell_type": "markdown",
      "metadata": {
        "colab_type": "text",
        "id": "42AwPHd7_sXN"
      },
      "source": [
        "###**3. RIGTH Outer Join**\n",
        "\n",
        "En un diagrama de Benn, un `RIGHT OUTER JOIN` se representa como\n",
        "\n",
        "<center>\n",
        "    <img height=\"150px\" src=\"https://github.com/ssanchezgoe/flask_vscode_tutorial/blob/master/imagenes/right_outer_join.png?raw=true\" />\n",
        "</center>\n",
        "\n",
        "En este sentido, una operación de este tipo toma todas las entradas que de B y las combina con aquellas que concuerdan en A.\n",
        "\n",
        "\n",
        "En `SQL` la sintaxis sería:\n",
        "\n",
        "```\n",
        "SELECT PTA.ID_Prestamista, PTA.Apellido, PTA.Pais, PMO.ID_Prestamista, PMO.Fecha_Prestamo  \n",
        "FROM Prestamista PTA LEFT JOIN Prestamo PMO \n",
        "ON PTA.ID_Prestamista = PMO.Prestamista\n",
        "```\n"
      ]
    },
    {
      "cell_type": "code",
      "metadata": {
        "colab_type": "code",
        "cellView": "form",
        "id": "oZhnB6Mw_sXO",
        "colab": {
          "base_uri": "https://localhost:8080/",
          "height": 328
        },
        "outputId": "a9b9639c-4778-482d-9452-97db7dd1bb4b"
      },
      "source": [
        "#@title **TABLA Prestamista**\n",
        "\n",
        "import pandas as pd\n",
        "import numpy as np\n",
        "\n",
        "PTA_entries = {'ID_Prestamista':np.arange(1,10),\n",
        "               'Apellido':['Zuluaga','Arteaga','Londoño','Camargo','Lopez','Sarmiento','Pineda','Velez','Jaimes'],\n",
        "               'Nombre':['Andres','Sara','Estefania','Daniela','Paola','Esther','Carlos','Esteban','Fernando'],\n",
        "               'Correo':['aa@corre.com','bb@corre.com','cc@corre.com','dd@corre.com','ee@corre.com','ff@corre.com','gg@corre.com','hh@corre.com','ii@corre.com'],\n",
        "               'Telefono':['1111111','2222222','3333333','4444444','5555555','6666666','7777777','8888888','9999999'],\n",
        "               'Dirección':['a1','b2','c3','d4','e5','f6','g7','h8','i9'],\n",
        "               'Ciudad':['Medellín','Cali','Barranquilla','Cali','Cartagena','Medellín','Bogotá','Pereira','Manizalez'],\n",
        "               'Pais':['COL','COL','COL','COL','COL','COL','COL','COL','COL']\n",
        "}\n",
        "\n",
        "df_PTA = pd.DataFrame(PTA_entries)\n",
        "df_PTA"
      ],
      "execution_count": null,
      "outputs": [
        {
          "output_type": "execute_result",
          "data": {
            "text/html": [
              "<div>\n",
              "<style scoped>\n",
              "    .dataframe tbody tr th:only-of-type {\n",
              "        vertical-align: middle;\n",
              "    }\n",
              "\n",
              "    .dataframe tbody tr th {\n",
              "        vertical-align: top;\n",
              "    }\n",
              "\n",
              "    .dataframe thead th {\n",
              "        text-align: right;\n",
              "    }\n",
              "</style>\n",
              "<table border=\"1\" class=\"dataframe\">\n",
              "  <thead>\n",
              "    <tr style=\"text-align: right;\">\n",
              "      <th></th>\n",
              "      <th>ID_Prestamista</th>\n",
              "      <th>Apellido</th>\n",
              "      <th>Nombre</th>\n",
              "      <th>Correo</th>\n",
              "      <th>Telefono</th>\n",
              "      <th>Dirección</th>\n",
              "      <th>Ciudad</th>\n",
              "      <th>Pais</th>\n",
              "    </tr>\n",
              "  </thead>\n",
              "  <tbody>\n",
              "    <tr>\n",
              "      <th>0</th>\n",
              "      <td>1</td>\n",
              "      <td>Zuluaga</td>\n",
              "      <td>Andres</td>\n",
              "      <td>aa@corre.com</td>\n",
              "      <td>1111111</td>\n",
              "      <td>a1</td>\n",
              "      <td>Medellín</td>\n",
              "      <td>COL</td>\n",
              "    </tr>\n",
              "    <tr>\n",
              "      <th>1</th>\n",
              "      <td>2</td>\n",
              "      <td>Arteaga</td>\n",
              "      <td>Sara</td>\n",
              "      <td>bb@corre.com</td>\n",
              "      <td>2222222</td>\n",
              "      <td>b2</td>\n",
              "      <td>Cali</td>\n",
              "      <td>COL</td>\n",
              "    </tr>\n",
              "    <tr>\n",
              "      <th>2</th>\n",
              "      <td>3</td>\n",
              "      <td>Londoño</td>\n",
              "      <td>Estefania</td>\n",
              "      <td>cc@corre.com</td>\n",
              "      <td>3333333</td>\n",
              "      <td>c3</td>\n",
              "      <td>Barranquilla</td>\n",
              "      <td>COL</td>\n",
              "    </tr>\n",
              "    <tr>\n",
              "      <th>3</th>\n",
              "      <td>4</td>\n",
              "      <td>Camargo</td>\n",
              "      <td>Daniela</td>\n",
              "      <td>dd@corre.com</td>\n",
              "      <td>4444444</td>\n",
              "      <td>d4</td>\n",
              "      <td>Cali</td>\n",
              "      <td>COL</td>\n",
              "    </tr>\n",
              "    <tr>\n",
              "      <th>4</th>\n",
              "      <td>5</td>\n",
              "      <td>Lopez</td>\n",
              "      <td>Paola</td>\n",
              "      <td>ee@corre.com</td>\n",
              "      <td>5555555</td>\n",
              "      <td>e5</td>\n",
              "      <td>Cartagena</td>\n",
              "      <td>COL</td>\n",
              "    </tr>\n",
              "    <tr>\n",
              "      <th>5</th>\n",
              "      <td>6</td>\n",
              "      <td>Sarmiento</td>\n",
              "      <td>Esther</td>\n",
              "      <td>ff@corre.com</td>\n",
              "      <td>6666666</td>\n",
              "      <td>f6</td>\n",
              "      <td>Medellín</td>\n",
              "      <td>COL</td>\n",
              "    </tr>\n",
              "    <tr>\n",
              "      <th>6</th>\n",
              "      <td>7</td>\n",
              "      <td>Pineda</td>\n",
              "      <td>Carlos</td>\n",
              "      <td>gg@corre.com</td>\n",
              "      <td>7777777</td>\n",
              "      <td>g7</td>\n",
              "      <td>Bogotá</td>\n",
              "      <td>COL</td>\n",
              "    </tr>\n",
              "    <tr>\n",
              "      <th>7</th>\n",
              "      <td>8</td>\n",
              "      <td>Velez</td>\n",
              "      <td>Esteban</td>\n",
              "      <td>hh@corre.com</td>\n",
              "      <td>8888888</td>\n",
              "      <td>h8</td>\n",
              "      <td>Pereira</td>\n",
              "      <td>COL</td>\n",
              "    </tr>\n",
              "    <tr>\n",
              "      <th>8</th>\n",
              "      <td>9</td>\n",
              "      <td>Jaimes</td>\n",
              "      <td>Fernando</td>\n",
              "      <td>ii@corre.com</td>\n",
              "      <td>9999999</td>\n",
              "      <td>i9</td>\n",
              "      <td>Manizalez</td>\n",
              "      <td>COL</td>\n",
              "    </tr>\n",
              "  </tbody>\n",
              "</table>\n",
              "</div>"
            ],
            "text/plain": [
              "   ID_Prestamista   Apellido     Nombre  ... Dirección        Ciudad Pais\n",
              "0               1    Zuluaga     Andres  ...        a1      Medellín  COL\n",
              "1               2    Arteaga       Sara  ...        b2          Cali  COL\n",
              "2               3    Londoño  Estefania  ...        c3  Barranquilla  COL\n",
              "3               4    Camargo    Daniela  ...        d4          Cali  COL\n",
              "4               5      Lopez      Paola  ...        e5     Cartagena  COL\n",
              "5               6  Sarmiento     Esther  ...        f6      Medellín  COL\n",
              "6               7     Pineda     Carlos  ...        g7        Bogotá  COL\n",
              "7               8      Velez    Esteban  ...        h8       Pereira  COL\n",
              "8               9     Jaimes   Fernando  ...        i9     Manizalez  COL\n",
              "\n",
              "[9 rows x 8 columns]"
            ]
          },
          "metadata": {
            "tags": []
          },
          "execution_count": 118
        }
      ]
    },
    {
      "cell_type": "code",
      "metadata": {
        "colab_type": "code",
        "cellView": "form",
        "id": "TVEoR_Iu_sXU",
        "colab": {
          "base_uri": "https://localhost:8080/",
          "height": 204
        },
        "outputId": "a76fc36c-273d-4909-9647-0a25b10a45e5"
      },
      "source": [
        "#@title **TABLA Prestamo**\n",
        "\n",
        "import pandas as pd\n",
        "import numpy as np\n",
        "\n",
        "PMO_entries = {'ID_Prestamista':np.arange(1,5),\n",
        "               'ID_Copia':[1,2,3,4,5],\n",
        "               'ID_Prestamista':[1,1,1,2,3],\n",
        "               'Fecha_Prestamo':['2020-01-01','2020-01-01','2020-01-01','2020-01-02','2020-01-02'],\n",
        "               'Dias_Prestamos':[2,2,2,1,1],\n",
        "               'Fecha_Devolucion':['2020-01-05','2020-01-05','2020-01-05','2020-01-06','2020-01-06']\n",
        "}\n",
        "\n",
        "df_PMO = pd.DataFrame(PMO_entries)\n",
        "df_PMO"
      ],
      "execution_count": null,
      "outputs": [
        {
          "output_type": "execute_result",
          "data": {
            "text/html": [
              "<div>\n",
              "<style scoped>\n",
              "    .dataframe tbody tr th:only-of-type {\n",
              "        vertical-align: middle;\n",
              "    }\n",
              "\n",
              "    .dataframe tbody tr th {\n",
              "        vertical-align: top;\n",
              "    }\n",
              "\n",
              "    .dataframe thead th {\n",
              "        text-align: right;\n",
              "    }\n",
              "</style>\n",
              "<table border=\"1\" class=\"dataframe\">\n",
              "  <thead>\n",
              "    <tr style=\"text-align: right;\">\n",
              "      <th></th>\n",
              "      <th>ID_Prestamista</th>\n",
              "      <th>ID_Copia</th>\n",
              "      <th>Fecha_Prestamo</th>\n",
              "      <th>Dias_Prestamos</th>\n",
              "      <th>Fecha_Devolucion</th>\n",
              "    </tr>\n",
              "  </thead>\n",
              "  <tbody>\n",
              "    <tr>\n",
              "      <th>0</th>\n",
              "      <td>1</td>\n",
              "      <td>1</td>\n",
              "      <td>2020-01-01</td>\n",
              "      <td>2</td>\n",
              "      <td>2020-01-05</td>\n",
              "    </tr>\n",
              "    <tr>\n",
              "      <th>1</th>\n",
              "      <td>1</td>\n",
              "      <td>2</td>\n",
              "      <td>2020-01-01</td>\n",
              "      <td>2</td>\n",
              "      <td>2020-01-05</td>\n",
              "    </tr>\n",
              "    <tr>\n",
              "      <th>2</th>\n",
              "      <td>1</td>\n",
              "      <td>3</td>\n",
              "      <td>2020-01-01</td>\n",
              "      <td>2</td>\n",
              "      <td>2020-01-05</td>\n",
              "    </tr>\n",
              "    <tr>\n",
              "      <th>3</th>\n",
              "      <td>2</td>\n",
              "      <td>4</td>\n",
              "      <td>2020-01-02</td>\n",
              "      <td>1</td>\n",
              "      <td>2020-01-06</td>\n",
              "    </tr>\n",
              "    <tr>\n",
              "      <th>4</th>\n",
              "      <td>3</td>\n",
              "      <td>5</td>\n",
              "      <td>2020-01-02</td>\n",
              "      <td>1</td>\n",
              "      <td>2020-01-06</td>\n",
              "    </tr>\n",
              "  </tbody>\n",
              "</table>\n",
              "</div>"
            ],
            "text/plain": [
              "   ID_Prestamista  ID_Copia Fecha_Prestamo  Dias_Prestamos Fecha_Devolucion\n",
              "0               1         1     2020-01-01               2       2020-01-05\n",
              "1               1         2     2020-01-01               2       2020-01-05\n",
              "2               1         3     2020-01-01               2       2020-01-05\n",
              "3               2         4     2020-01-02               1       2020-01-06\n",
              "4               3         5     2020-01-02               1       2020-01-06"
            ]
          },
          "metadata": {
            "tags": []
          },
          "execution_count": 119
        }
      ]
    },
    {
      "cell_type": "code",
      "metadata": {
        "colab_type": "code",
        "cellView": "form",
        "id": "mvqipELg_sXa",
        "colab": {
          "base_uri": "https://localhost:8080/",
          "height": 224
        },
        "outputId": "4546d0e8-5fe5-4aa6-fcb5-3a6ac7b36724"
      },
      "source": [
        "#@title **RIGTH OUTER JOIN: Prestamo (Derecha)**\n",
        "\n",
        "df_PTA.merge(df_PMO, on='ID_Prestamista', how='right')\n",
        "\n",
        "\n",
        "\n"
      ],
      "execution_count": null,
      "outputs": [
        {
          "output_type": "execute_result",
          "data": {
            "text/html": [
              "<div>\n",
              "<style scoped>\n",
              "    .dataframe tbody tr th:only-of-type {\n",
              "        vertical-align: middle;\n",
              "    }\n",
              "\n",
              "    .dataframe tbody tr th {\n",
              "        vertical-align: top;\n",
              "    }\n",
              "\n",
              "    .dataframe thead th {\n",
              "        text-align: right;\n",
              "    }\n",
              "</style>\n",
              "<table border=\"1\" class=\"dataframe\">\n",
              "  <thead>\n",
              "    <tr style=\"text-align: right;\">\n",
              "      <th></th>\n",
              "      <th>ID_Prestamista</th>\n",
              "      <th>Apellido</th>\n",
              "      <th>Nombre</th>\n",
              "      <th>Correo</th>\n",
              "      <th>Telefono</th>\n",
              "      <th>Dirección</th>\n",
              "      <th>Ciudad</th>\n",
              "      <th>Pais</th>\n",
              "      <th>ID_Copia</th>\n",
              "      <th>Fecha_Prestamo</th>\n",
              "      <th>Dias_Prestamos</th>\n",
              "      <th>Fecha_Devolucion</th>\n",
              "    </tr>\n",
              "  </thead>\n",
              "  <tbody>\n",
              "    <tr>\n",
              "      <th>0</th>\n",
              "      <td>1</td>\n",
              "      <td>Zuluaga</td>\n",
              "      <td>Andres</td>\n",
              "      <td>aa@corre.com</td>\n",
              "      <td>1111111</td>\n",
              "      <td>a1</td>\n",
              "      <td>Medellín</td>\n",
              "      <td>COL</td>\n",
              "      <td>1</td>\n",
              "      <td>2020-01-01</td>\n",
              "      <td>2</td>\n",
              "      <td>2020-01-05</td>\n",
              "    </tr>\n",
              "    <tr>\n",
              "      <th>1</th>\n",
              "      <td>1</td>\n",
              "      <td>Zuluaga</td>\n",
              "      <td>Andres</td>\n",
              "      <td>aa@corre.com</td>\n",
              "      <td>1111111</td>\n",
              "      <td>a1</td>\n",
              "      <td>Medellín</td>\n",
              "      <td>COL</td>\n",
              "      <td>2</td>\n",
              "      <td>2020-01-01</td>\n",
              "      <td>2</td>\n",
              "      <td>2020-01-05</td>\n",
              "    </tr>\n",
              "    <tr>\n",
              "      <th>2</th>\n",
              "      <td>1</td>\n",
              "      <td>Zuluaga</td>\n",
              "      <td>Andres</td>\n",
              "      <td>aa@corre.com</td>\n",
              "      <td>1111111</td>\n",
              "      <td>a1</td>\n",
              "      <td>Medellín</td>\n",
              "      <td>COL</td>\n",
              "      <td>3</td>\n",
              "      <td>2020-01-01</td>\n",
              "      <td>2</td>\n",
              "      <td>2020-01-05</td>\n",
              "    </tr>\n",
              "    <tr>\n",
              "      <th>3</th>\n",
              "      <td>2</td>\n",
              "      <td>Arteaga</td>\n",
              "      <td>Sara</td>\n",
              "      <td>bb@corre.com</td>\n",
              "      <td>2222222</td>\n",
              "      <td>b2</td>\n",
              "      <td>Cali</td>\n",
              "      <td>COL</td>\n",
              "      <td>4</td>\n",
              "      <td>2020-01-02</td>\n",
              "      <td>1</td>\n",
              "      <td>2020-01-06</td>\n",
              "    </tr>\n",
              "    <tr>\n",
              "      <th>4</th>\n",
              "      <td>3</td>\n",
              "      <td>Londoño</td>\n",
              "      <td>Estefania</td>\n",
              "      <td>cc@corre.com</td>\n",
              "      <td>3333333</td>\n",
              "      <td>c3</td>\n",
              "      <td>Barranquilla</td>\n",
              "      <td>COL</td>\n",
              "      <td>5</td>\n",
              "      <td>2020-01-02</td>\n",
              "      <td>1</td>\n",
              "      <td>2020-01-06</td>\n",
              "    </tr>\n",
              "  </tbody>\n",
              "</table>\n",
              "</div>"
            ],
            "text/plain": [
              "   ID_Prestamista Apellido  ... Dias_Prestamos Fecha_Devolucion\n",
              "0               1  Zuluaga  ...              2       2020-01-05\n",
              "1               1  Zuluaga  ...              2       2020-01-05\n",
              "2               1  Zuluaga  ...              2       2020-01-05\n",
              "3               2  Arteaga  ...              1       2020-01-06\n",
              "4               3  Londoño  ...              1       2020-01-06\n",
              "\n",
              "[5 rows x 12 columns]"
            ]
          },
          "metadata": {
            "tags": []
          },
          "execution_count": 120
        }
      ]
    },
    {
      "cell_type": "markdown",
      "metadata": {
        "colab_type": "text",
        "id": "XEcXdoinxjrg"
      },
      "source": [
        "**Problema:** Si tenemos las dos siguientes tablas\n",
        "\n",
        "- Posibles usuarios que pueden o no realizar compras de una tienda.\n",
        "- transacciones \n",
        "\n",
        "las cuales se presentan a continuación:"
      ]
    },
    {
      "cell_type": "code",
      "metadata": {
        "colab_type": "code",
        "cellView": "form",
        "id": "-YjUic9-xjri",
        "colab": {
          "base_uri": "https://localhost:8080/",
          "height": 173
        },
        "outputId": "05c426c2-3842-40d8-f81f-a64a475268d9"
      },
      "source": [
        "#@title **Entidad usuarios**\n",
        "import numpy as np\n",
        "import pandas as pd\n",
        "\n",
        "# usuarios\n",
        "usuarios = pd.DataFrame({'ID_Usr': [1,2,3,4], \n",
        "                         'Name':['Pablo', 'Maria', 'John', 'Ana'],\n",
        "                     'Phone': ['1111111', '2111111', '3111111', \n",
        "                                        np.NaN]})\n",
        "\n",
        "usuarios"
      ],
      "execution_count": null,
      "outputs": [
        {
          "output_type": "execute_result",
          "data": {
            "text/html": [
              "<div>\n",
              "<style scoped>\n",
              "    .dataframe tbody tr th:only-of-type {\n",
              "        vertical-align: middle;\n",
              "    }\n",
              "\n",
              "    .dataframe tbody tr th {\n",
              "        vertical-align: top;\n",
              "    }\n",
              "\n",
              "    .dataframe thead th {\n",
              "        text-align: right;\n",
              "    }\n",
              "</style>\n",
              "<table border=\"1\" class=\"dataframe\">\n",
              "  <thead>\n",
              "    <tr style=\"text-align: right;\">\n",
              "      <th></th>\n",
              "      <th>ID_Usr</th>\n",
              "      <th>Name</th>\n",
              "      <th>Phone</th>\n",
              "    </tr>\n",
              "  </thead>\n",
              "  <tbody>\n",
              "    <tr>\n",
              "      <th>0</th>\n",
              "      <td>1</td>\n",
              "      <td>Pablo</td>\n",
              "      <td>1111111</td>\n",
              "    </tr>\n",
              "    <tr>\n",
              "      <th>1</th>\n",
              "      <td>2</td>\n",
              "      <td>Maria</td>\n",
              "      <td>2111111</td>\n",
              "    </tr>\n",
              "    <tr>\n",
              "      <th>2</th>\n",
              "      <td>3</td>\n",
              "      <td>John</td>\n",
              "      <td>3111111</td>\n",
              "    </tr>\n",
              "    <tr>\n",
              "      <th>3</th>\n",
              "      <td>4</td>\n",
              "      <td>Ana</td>\n",
              "      <td>NaN</td>\n",
              "    </tr>\n",
              "  </tbody>\n",
              "</table>\n",
              "</div>"
            ],
            "text/plain": [
              "   ID_Usr   Name    Phone\n",
              "0       1  Pablo  1111111\n",
              "1       2  Maria  2111111\n",
              "2       3   John  3111111\n",
              "3       4    Ana      NaN"
            ]
          },
          "metadata": {
            "tags": []
          },
          "execution_count": 121
        }
      ]
    },
    {
      "cell_type": "code",
      "metadata": {
        "colab_type": "code",
        "cellView": "form",
        "id": "CYVstj20xjrr",
        "colab": {
          "base_uri": "https://localhost:8080/",
          "height": 173
        },
        "outputId": "63c8ae84-319d-42e5-f82c-32a6e0e510b9"
      },
      "source": [
        "#@title **Entidad transacciones**\n",
        "import numpy as np\n",
        "import pandas as pd\n",
        "\n",
        "# transactions\n",
        "transacciones = pd.DataFrame({'Tr_ID': [1, 2, 3, 4], \n",
        "                    'ID_Usr': [1, 3, 3, 4],\n",
        "                    'Value': np.arange(1000,5000,1000),\n",
        "                   })\n",
        "transacciones"
      ],
      "execution_count": null,
      "outputs": [
        {
          "output_type": "execute_result",
          "data": {
            "text/html": [
              "<div>\n",
              "<style scoped>\n",
              "    .dataframe tbody tr th:only-of-type {\n",
              "        vertical-align: middle;\n",
              "    }\n",
              "\n",
              "    .dataframe tbody tr th {\n",
              "        vertical-align: top;\n",
              "    }\n",
              "\n",
              "    .dataframe thead th {\n",
              "        text-align: right;\n",
              "    }\n",
              "</style>\n",
              "<table border=\"1\" class=\"dataframe\">\n",
              "  <thead>\n",
              "    <tr style=\"text-align: right;\">\n",
              "      <th></th>\n",
              "      <th>Tr_ID</th>\n",
              "      <th>ID_Usr</th>\n",
              "      <th>Value</th>\n",
              "    </tr>\n",
              "  </thead>\n",
              "  <tbody>\n",
              "    <tr>\n",
              "      <th>0</th>\n",
              "      <td>1</td>\n",
              "      <td>1</td>\n",
              "      <td>1000</td>\n",
              "    </tr>\n",
              "    <tr>\n",
              "      <th>1</th>\n",
              "      <td>2</td>\n",
              "      <td>3</td>\n",
              "      <td>2000</td>\n",
              "    </tr>\n",
              "    <tr>\n",
              "      <th>2</th>\n",
              "      <td>3</td>\n",
              "      <td>3</td>\n",
              "      <td>3000</td>\n",
              "    </tr>\n",
              "    <tr>\n",
              "      <th>3</th>\n",
              "      <td>4</td>\n",
              "      <td>4</td>\n",
              "      <td>4000</td>\n",
              "    </tr>\n",
              "  </tbody>\n",
              "</table>\n",
              "</div>"
            ],
            "text/plain": [
              "   Tr_ID  ID_Usr  Value\n",
              "0      1       1   1000\n",
              "1      2       3   2000\n",
              "2      3       3   3000\n",
              "3      4       4   4000"
            ]
          },
          "metadata": {
            "tags": []
          },
          "execution_count": 122
        }
      ]
    },
    {
      "cell_type": "code",
      "metadata": {
        "colab_type": "code",
        "cellView": "form",
        "id": "ysPVX9EYxqG_",
        "colab": {
          "base_uri": "https://localhost:8080/",
          "height": 136
        },
        "outputId": "94db926c-9626-4523-d4b2-44e2f3e7011b"
      },
      "source": [
        "#@title **¿Cómo podría realizar una búsqueda haciendo un RIGHT JOIN, para que aparezcan el nombre, los telefonos y el valor de la compra de las personas que comparon en la tienda?**\n",
        "\n",
        "arg = \"SELECT usr.Name, usr.Phone, tr.Value FROM usuarios usr RIGHT JOIN transacciones tr ON usr.ID_Usr = tr.ID_Usr\" #@param [\"SELECT * FROM transacciones tr RIGHT JOIN usuarios usr ON tr.ID_Usr = urs.ID_Usr\", \"No es posible realizar dicha operacion con RIGHT JOIN\", \"SELECT usr.Name, usr.Phone, tr.Value FROM usuarios usr RIGHT JOIN transacciones tr ON usr.ID_Usr = tr.ID_Usr\" ,\"SELECT usr.Name, usr.Phone, tr.Value FROM transacciones tr RIGHT JOIN usuarios usr ON tr.ID_Usr = usr.ID_Usr\"]\n",
        "\n",
        "if arg == \"SELECT usr.Name, usr.Phone, tr.Value FROM usuarios usr RIGHT JOIN transacciones tr ON usr.ID_Usr = tr.ID_Usr\":\n",
        "  print(\"Respuesta Correcta!\\n\")\n",
        "  print(usuarios.merge(transacciones, on='ID_Usr', how='right')[['Name','Phone','Value']])\n",
        "else:\n",
        "  print(\"Respuesta incorrecta.\")\n"
      ],
      "execution_count": null,
      "outputs": [
        {
          "output_type": "stream",
          "text": [
            "Respuesta Correcta!\n",
            "\n",
            "    Name    Phone  Value\n",
            "0  Pablo  1111111   1000\n",
            "1   John  3111111   2000\n",
            "2   John  3111111   3000\n",
            "3    Ana      NaN   4000\n"
          ],
          "name": "stdout"
        }
      ]
    },
    {
      "cell_type": "markdown",
      "metadata": {
        "colab_type": "text",
        "id": "WtgsPgniB26E"
      },
      "source": [
        "###**4. FULL Outer Join**"
      ]
    },
    {
      "cell_type": "code",
      "metadata": {
        "colab_type": "code",
        "cellView": "form",
        "id": "W66Pe1q_B26J",
        "colab": {
          "base_uri": "https://localhost:8080/",
          "height": 318
        },
        "outputId": "755fe771-4c5e-4cd6-df08-caf52ee3fbc1"
      },
      "source": [
        "#@title **TABLA Prestamista**\n",
        "\n",
        "import pandas as pd\n",
        "import numpy as np\n",
        "\n",
        "PTA_entries = {'ID_Prestamista':np.arange(1,10),\n",
        "               'Apellido':['Zuluaga','Arteaga','Londoño','Camargo','Lopez','Sarmiento','Pineda','Velez','Jaimes'],\n",
        "               'Nombre':['Andres','Sara','Estefania','Daniela','Paola','Esther','Carlos','Esteban','Fernando'],\n",
        "               'Correo':['aa@corre.com','bb@corre.com','cc@corre.com','dd@corre.com','ee@corre.com','ff@corre.com','gg@corre.com','hh@corre.com','ii@corre.com'],\n",
        "               'Telefono':['1111111','2222222','3333333','4444444','5555555','6666666','7777777','8888888','9999999'],\n",
        "               'Dirección':['a1','b2','c3','d4','e5','f6','g7','h8','i9'],\n",
        "               'Ciudad':['Medellín','Cali','Barranquilla','Cali','Cartagena','Medellín','Bogotá','Pereira','Manizalez'],\n",
        "               'Pais':['COL','COL','COL','COL','COL','COL','COL','COL','COL']\n",
        "}\n",
        "\n",
        "df_PTA = pd.DataFrame(lib_entries)\n",
        "df_PTA"
      ],
      "execution_count": null,
      "outputs": [
        {
          "output_type": "execute_result",
          "data": {
            "text/html": [
              "<div>\n",
              "<style scoped>\n",
              "    .dataframe tbody tr th:only-of-type {\n",
              "        vertical-align: middle;\n",
              "    }\n",
              "\n",
              "    .dataframe tbody tr th {\n",
              "        vertical-align: top;\n",
              "    }\n",
              "\n",
              "    .dataframe thead th {\n",
              "        text-align: right;\n",
              "    }\n",
              "</style>\n",
              "<table border=\"1\" class=\"dataframe\">\n",
              "  <thead>\n",
              "    <tr style=\"text-align: right;\">\n",
              "      <th></th>\n",
              "      <th>ID_Prestamista</th>\n",
              "      <th>Apellido</th>\n",
              "      <th>Nombre</th>\n",
              "      <th>Correo</th>\n",
              "      <th>Telefono</th>\n",
              "      <th>Dirección</th>\n",
              "      <th>Ciudad</th>\n",
              "      <th>Pais</th>\n",
              "    </tr>\n",
              "  </thead>\n",
              "  <tbody>\n",
              "    <tr>\n",
              "      <th>0</th>\n",
              "      <td>1</td>\n",
              "      <td>Zuluaga</td>\n",
              "      <td>Andres</td>\n",
              "      <td>aa@corre.com</td>\n",
              "      <td>1111111</td>\n",
              "      <td>a1</td>\n",
              "      <td>Medellín</td>\n",
              "      <td>COL</td>\n",
              "    </tr>\n",
              "    <tr>\n",
              "      <th>1</th>\n",
              "      <td>2</td>\n",
              "      <td>Arteaga</td>\n",
              "      <td>Sara</td>\n",
              "      <td>bb@corre.com</td>\n",
              "      <td>2222222</td>\n",
              "      <td>b2</td>\n",
              "      <td>Cali</td>\n",
              "      <td>COL</td>\n",
              "    </tr>\n",
              "    <tr>\n",
              "      <th>2</th>\n",
              "      <td>3</td>\n",
              "      <td>Londoño</td>\n",
              "      <td>Estefania</td>\n",
              "      <td>cc@corre.com</td>\n",
              "      <td>3333333</td>\n",
              "      <td>c3</td>\n",
              "      <td>Barranquilla</td>\n",
              "      <td>COL</td>\n",
              "    </tr>\n",
              "    <tr>\n",
              "      <th>3</th>\n",
              "      <td>4</td>\n",
              "      <td>Camargo</td>\n",
              "      <td>Daniela</td>\n",
              "      <td>dd@corre.com</td>\n",
              "      <td>4444444</td>\n",
              "      <td>d4</td>\n",
              "      <td>Cali</td>\n",
              "      <td>COL</td>\n",
              "    </tr>\n",
              "    <tr>\n",
              "      <th>4</th>\n",
              "      <td>5</td>\n",
              "      <td>Lopez</td>\n",
              "      <td>Paola</td>\n",
              "      <td>ee@corre.com</td>\n",
              "      <td>5555555</td>\n",
              "      <td>e5</td>\n",
              "      <td>Cartagena</td>\n",
              "      <td>COL</td>\n",
              "    </tr>\n",
              "    <tr>\n",
              "      <th>5</th>\n",
              "      <td>6</td>\n",
              "      <td>Sarmiento</td>\n",
              "      <td>Esther</td>\n",
              "      <td>ff@corre.com</td>\n",
              "      <td>6666666</td>\n",
              "      <td>f6</td>\n",
              "      <td>Medellín</td>\n",
              "      <td>COL</td>\n",
              "    </tr>\n",
              "    <tr>\n",
              "      <th>6</th>\n",
              "      <td>7</td>\n",
              "      <td>Pineda</td>\n",
              "      <td>Carlos</td>\n",
              "      <td>gg@corre.com</td>\n",
              "      <td>7777777</td>\n",
              "      <td>g7</td>\n",
              "      <td>Bogotá</td>\n",
              "      <td>COL</td>\n",
              "    </tr>\n",
              "    <tr>\n",
              "      <th>7</th>\n",
              "      <td>8</td>\n",
              "      <td>Velez</td>\n",
              "      <td>Esteban</td>\n",
              "      <td>hh@corre.com</td>\n",
              "      <td>8888888</td>\n",
              "      <td>h8</td>\n",
              "      <td>Pereira</td>\n",
              "      <td>COL</td>\n",
              "    </tr>\n",
              "    <tr>\n",
              "      <th>8</th>\n",
              "      <td>9</td>\n",
              "      <td>Jaimes</td>\n",
              "      <td>Fernando</td>\n",
              "      <td>ii@corre.com</td>\n",
              "      <td>9999999</td>\n",
              "      <td>i9</td>\n",
              "      <td>Manizalez</td>\n",
              "      <td>COL</td>\n",
              "    </tr>\n",
              "  </tbody>\n",
              "</table>\n",
              "</div>"
            ],
            "text/plain": [
              "   ID_Prestamista   Apellido     Nombre  ... Dirección        Ciudad Pais\n",
              "0               1    Zuluaga     Andres  ...        a1      Medellín  COL\n",
              "1               2    Arteaga       Sara  ...        b2          Cali  COL\n",
              "2               3    Londoño  Estefania  ...        c3  Barranquilla  COL\n",
              "3               4    Camargo    Daniela  ...        d4          Cali  COL\n",
              "4               5      Lopez      Paola  ...        e5     Cartagena  COL\n",
              "5               6  Sarmiento     Esther  ...        f6      Medellín  COL\n",
              "6               7     Pineda     Carlos  ...        g7        Bogotá  COL\n",
              "7               8      Velez    Esteban  ...        h8       Pereira  COL\n",
              "8               9     Jaimes   Fernando  ...        i9     Manizalez  COL\n",
              "\n",
              "[9 rows x 8 columns]"
            ]
          },
          "metadata": {
            "tags": []
          },
          "execution_count": 29
        }
      ]
    },
    {
      "cell_type": "code",
      "metadata": {
        "colab_type": "code",
        "cellView": "form",
        "id": "kbxoVhmSB26U",
        "colab": {
          "base_uri": "https://localhost:8080/",
          "height": 198
        },
        "outputId": "1c7c8f41-f6c0-451c-e41e-c601bd70d47d"
      },
      "source": [
        "#@title **TABLA Prestamo**\n",
        "\n",
        "import pandas as pd\n",
        "import numpy as np\n",
        "\n",
        "PMO_entries = {'ID_Prestamista':np.arange(1,5),\n",
        "               'ID_Copia':[1,2,3,4,5],\n",
        "               'ID_Prestamista':[1,1,1,2,3],\n",
        "               'Fecha_Prestamo':['2020-01-01','2020-01-01','2020-01-01','2020-01-02','2020-01-02'],\n",
        "               'Dias_Prestamos':[2,2,2,1,1],\n",
        "               'Fecha_Devolucion':['2020-01-05','2020-01-05','2020-01-05','2020-01-06','2020-01-06']\n",
        "}\n",
        "\n",
        "df_PMO = pd.DataFrame(PMO_entries)\n",
        "df_PMO"
      ],
      "execution_count": null,
      "outputs": [
        {
          "output_type": "execute_result",
          "data": {
            "text/html": [
              "<div>\n",
              "<style scoped>\n",
              "    .dataframe tbody tr th:only-of-type {\n",
              "        vertical-align: middle;\n",
              "    }\n",
              "\n",
              "    .dataframe tbody tr th {\n",
              "        vertical-align: top;\n",
              "    }\n",
              "\n",
              "    .dataframe thead th {\n",
              "        text-align: right;\n",
              "    }\n",
              "</style>\n",
              "<table border=\"1\" class=\"dataframe\">\n",
              "  <thead>\n",
              "    <tr style=\"text-align: right;\">\n",
              "      <th></th>\n",
              "      <th>ID_Prestamista</th>\n",
              "      <th>ID_Copia</th>\n",
              "      <th>Fecha_Prestamo</th>\n",
              "      <th>Dias_Prestamos</th>\n",
              "      <th>Fecha_Devolucion</th>\n",
              "    </tr>\n",
              "  </thead>\n",
              "  <tbody>\n",
              "    <tr>\n",
              "      <th>0</th>\n",
              "      <td>1</td>\n",
              "      <td>1</td>\n",
              "      <td>2020-01-01</td>\n",
              "      <td>2</td>\n",
              "      <td>2020-01-05</td>\n",
              "    </tr>\n",
              "    <tr>\n",
              "      <th>1</th>\n",
              "      <td>1</td>\n",
              "      <td>2</td>\n",
              "      <td>2020-01-01</td>\n",
              "      <td>2</td>\n",
              "      <td>2020-01-05</td>\n",
              "    </tr>\n",
              "    <tr>\n",
              "      <th>2</th>\n",
              "      <td>1</td>\n",
              "      <td>3</td>\n",
              "      <td>2020-01-01</td>\n",
              "      <td>2</td>\n",
              "      <td>2020-01-05</td>\n",
              "    </tr>\n",
              "    <tr>\n",
              "      <th>3</th>\n",
              "      <td>2</td>\n",
              "      <td>4</td>\n",
              "      <td>2020-01-02</td>\n",
              "      <td>1</td>\n",
              "      <td>2020-01-06</td>\n",
              "    </tr>\n",
              "    <tr>\n",
              "      <th>4</th>\n",
              "      <td>3</td>\n",
              "      <td>5</td>\n",
              "      <td>2020-01-02</td>\n",
              "      <td>1</td>\n",
              "      <td>2020-01-06</td>\n",
              "    </tr>\n",
              "  </tbody>\n",
              "</table>\n",
              "</div>"
            ],
            "text/plain": [
              "   ID_Prestamista  ID_Copia Fecha_Prestamo  Dias_Prestamos Fecha_Devolucion\n",
              "0               1         1     2020-01-01               2       2020-01-05\n",
              "1               1         2     2020-01-01               2       2020-01-05\n",
              "2               1         3     2020-01-01               2       2020-01-05\n",
              "3               2         4     2020-01-02               1       2020-01-06\n",
              "4               3         5     2020-01-02               1       2020-01-06"
            ]
          },
          "metadata": {
            "tags": []
          },
          "execution_count": 30
        }
      ]
    },
    {
      "cell_type": "code",
      "metadata": {
        "colab_type": "code",
        "cellView": "both",
        "id": "3cR12tMkB26X",
        "colab": {
          "base_uri": "https://localhost:8080/",
          "height": 398
        },
        "outputId": "665a731e-61ed-491e-9c8a-e6af13cbf2b2"
      },
      "source": [
        "#@title **LEFT OUTER JOIN: Prestamista (Izquiera)**\n",
        "\n",
        "df_PTA.merge(df_PMO, on='ID_Prestamista', how='outer')\n",
        "\n",
        "\n",
        "\n"
      ],
      "execution_count": null,
      "outputs": [
        {
          "output_type": "execute_result",
          "data": {
            "text/html": [
              "<div>\n",
              "<style scoped>\n",
              "    .dataframe tbody tr th:only-of-type {\n",
              "        vertical-align: middle;\n",
              "    }\n",
              "\n",
              "    .dataframe tbody tr th {\n",
              "        vertical-align: top;\n",
              "    }\n",
              "\n",
              "    .dataframe thead th {\n",
              "        text-align: right;\n",
              "    }\n",
              "</style>\n",
              "<table border=\"1\" class=\"dataframe\">\n",
              "  <thead>\n",
              "    <tr style=\"text-align: right;\">\n",
              "      <th></th>\n",
              "      <th>ID_Prestamista</th>\n",
              "      <th>Apellido</th>\n",
              "      <th>Nombre</th>\n",
              "      <th>Correo</th>\n",
              "      <th>Telefono</th>\n",
              "      <th>Dirección</th>\n",
              "      <th>Ciudad</th>\n",
              "      <th>Pais</th>\n",
              "      <th>ID_Copia</th>\n",
              "      <th>Fecha_Prestamo</th>\n",
              "      <th>Dias_Prestamos</th>\n",
              "      <th>Fecha_Devolucion</th>\n",
              "    </tr>\n",
              "  </thead>\n",
              "  <tbody>\n",
              "    <tr>\n",
              "      <th>0</th>\n",
              "      <td>1</td>\n",
              "      <td>Zuluaga</td>\n",
              "      <td>Andres</td>\n",
              "      <td>aa@corre.com</td>\n",
              "      <td>1111111</td>\n",
              "      <td>a1</td>\n",
              "      <td>Medellín</td>\n",
              "      <td>COL</td>\n",
              "      <td>1.0</td>\n",
              "      <td>2020-01-01</td>\n",
              "      <td>2.0</td>\n",
              "      <td>2020-01-05</td>\n",
              "    </tr>\n",
              "    <tr>\n",
              "      <th>1</th>\n",
              "      <td>1</td>\n",
              "      <td>Zuluaga</td>\n",
              "      <td>Andres</td>\n",
              "      <td>aa@corre.com</td>\n",
              "      <td>1111111</td>\n",
              "      <td>a1</td>\n",
              "      <td>Medellín</td>\n",
              "      <td>COL</td>\n",
              "      <td>2.0</td>\n",
              "      <td>2020-01-01</td>\n",
              "      <td>2.0</td>\n",
              "      <td>2020-01-05</td>\n",
              "    </tr>\n",
              "    <tr>\n",
              "      <th>2</th>\n",
              "      <td>1</td>\n",
              "      <td>Zuluaga</td>\n",
              "      <td>Andres</td>\n",
              "      <td>aa@corre.com</td>\n",
              "      <td>1111111</td>\n",
              "      <td>a1</td>\n",
              "      <td>Medellín</td>\n",
              "      <td>COL</td>\n",
              "      <td>3.0</td>\n",
              "      <td>2020-01-01</td>\n",
              "      <td>2.0</td>\n",
              "      <td>2020-01-05</td>\n",
              "    </tr>\n",
              "    <tr>\n",
              "      <th>3</th>\n",
              "      <td>2</td>\n",
              "      <td>Arteaga</td>\n",
              "      <td>Sara</td>\n",
              "      <td>bb@corre.com</td>\n",
              "      <td>2222222</td>\n",
              "      <td>b2</td>\n",
              "      <td>Cali</td>\n",
              "      <td>COL</td>\n",
              "      <td>4.0</td>\n",
              "      <td>2020-01-02</td>\n",
              "      <td>1.0</td>\n",
              "      <td>2020-01-06</td>\n",
              "    </tr>\n",
              "    <tr>\n",
              "      <th>4</th>\n",
              "      <td>3</td>\n",
              "      <td>Londoño</td>\n",
              "      <td>Estefania</td>\n",
              "      <td>cc@corre.com</td>\n",
              "      <td>3333333</td>\n",
              "      <td>c3</td>\n",
              "      <td>Barranquilla</td>\n",
              "      <td>COL</td>\n",
              "      <td>5.0</td>\n",
              "      <td>2020-01-02</td>\n",
              "      <td>1.0</td>\n",
              "      <td>2020-01-06</td>\n",
              "    </tr>\n",
              "    <tr>\n",
              "      <th>5</th>\n",
              "      <td>4</td>\n",
              "      <td>Camargo</td>\n",
              "      <td>Daniela</td>\n",
              "      <td>dd@corre.com</td>\n",
              "      <td>4444444</td>\n",
              "      <td>d4</td>\n",
              "      <td>Cali</td>\n",
              "      <td>COL</td>\n",
              "      <td>NaN</td>\n",
              "      <td>NaN</td>\n",
              "      <td>NaN</td>\n",
              "      <td>NaN</td>\n",
              "    </tr>\n",
              "    <tr>\n",
              "      <th>6</th>\n",
              "      <td>5</td>\n",
              "      <td>Lopez</td>\n",
              "      <td>Paola</td>\n",
              "      <td>ee@corre.com</td>\n",
              "      <td>5555555</td>\n",
              "      <td>e5</td>\n",
              "      <td>Cartagena</td>\n",
              "      <td>COL</td>\n",
              "      <td>NaN</td>\n",
              "      <td>NaN</td>\n",
              "      <td>NaN</td>\n",
              "      <td>NaN</td>\n",
              "    </tr>\n",
              "    <tr>\n",
              "      <th>7</th>\n",
              "      <td>6</td>\n",
              "      <td>Sarmiento</td>\n",
              "      <td>Esther</td>\n",
              "      <td>ff@corre.com</td>\n",
              "      <td>6666666</td>\n",
              "      <td>f6</td>\n",
              "      <td>Medellín</td>\n",
              "      <td>COL</td>\n",
              "      <td>NaN</td>\n",
              "      <td>NaN</td>\n",
              "      <td>NaN</td>\n",
              "      <td>NaN</td>\n",
              "    </tr>\n",
              "    <tr>\n",
              "      <th>8</th>\n",
              "      <td>7</td>\n",
              "      <td>Pineda</td>\n",
              "      <td>Carlos</td>\n",
              "      <td>gg@corre.com</td>\n",
              "      <td>7777777</td>\n",
              "      <td>g7</td>\n",
              "      <td>Bogotá</td>\n",
              "      <td>COL</td>\n",
              "      <td>NaN</td>\n",
              "      <td>NaN</td>\n",
              "      <td>NaN</td>\n",
              "      <td>NaN</td>\n",
              "    </tr>\n",
              "    <tr>\n",
              "      <th>9</th>\n",
              "      <td>8</td>\n",
              "      <td>Velez</td>\n",
              "      <td>Esteban</td>\n",
              "      <td>hh@corre.com</td>\n",
              "      <td>8888888</td>\n",
              "      <td>h8</td>\n",
              "      <td>Pereira</td>\n",
              "      <td>COL</td>\n",
              "      <td>NaN</td>\n",
              "      <td>NaN</td>\n",
              "      <td>NaN</td>\n",
              "      <td>NaN</td>\n",
              "    </tr>\n",
              "    <tr>\n",
              "      <th>10</th>\n",
              "      <td>9</td>\n",
              "      <td>Jaimes</td>\n",
              "      <td>Fernando</td>\n",
              "      <td>ii@corre.com</td>\n",
              "      <td>9999999</td>\n",
              "      <td>i9</td>\n",
              "      <td>Manizalez</td>\n",
              "      <td>COL</td>\n",
              "      <td>NaN</td>\n",
              "      <td>NaN</td>\n",
              "      <td>NaN</td>\n",
              "      <td>NaN</td>\n",
              "    </tr>\n",
              "  </tbody>\n",
              "</table>\n",
              "</div>"
            ],
            "text/plain": [
              "    ID_Prestamista   Apellido  ... Dias_Prestamos Fecha_Devolucion\n",
              "0                1    Zuluaga  ...            2.0       2020-01-05\n",
              "1                1    Zuluaga  ...            2.0       2020-01-05\n",
              "2                1    Zuluaga  ...            2.0       2020-01-05\n",
              "3                2    Arteaga  ...            1.0       2020-01-06\n",
              "4                3    Londoño  ...            1.0       2020-01-06\n",
              "5                4    Camargo  ...            NaN              NaN\n",
              "6                5      Lopez  ...            NaN              NaN\n",
              "7                6  Sarmiento  ...            NaN              NaN\n",
              "8                7     Pineda  ...            NaN              NaN\n",
              "9                8      Velez  ...            NaN              NaN\n",
              "10               9     Jaimes  ...            NaN              NaN\n",
              "\n",
              "[11 rows x 12 columns]"
            ]
          },
          "metadata": {
            "tags": []
          },
          "execution_count": 33
        }
      ]
    },
    {
      "cell_type": "markdown",
      "metadata": {
        "id": "vsokb5F4wH9W",
        "colab_type": "text"
      },
      "source": [
        "#**G. SQL en `python`**\n",
        "\n",
        "Existen varias formas de usar SQL en `python` a través de los diferentes sistemas de gestión de bases de datos relacionales existentes (RDBMS - Relational Database Managment Systems). En este sentido la siguiente tabla muestra el sistema de gestión de bases de datos y su respectivo paquete en `python`\n",
        "\n",
        "RDBMS | Paquete python\n",
        "--|--\n",
        "postgresql | `py-postgresql`\n",
        "MySQL | `MySQL-python`\n",
        "Oracle | `cx-Oracle`\n",
        "SQLite | `sqlite3`\n",
        "\n",
        "\n",
        "\n",
        "Un paquete sumamente útil para el desarrollo de apps que integra estos RDBMS es `SQLAlchemy`, el cual es bastante flexible al proporcionarnos dos modos principales de uso:\n",
        "\n",
        "- Expresiones de lenguaje SQL (conmunmente conocido como Core)\n",
        "- Mapeo objeto-relación (ORM- Object Relation Mapping).\n",
        "\n",
        "Estos modos pueden ser usados de forma separada o junta, dependiendo de las preferencias y necesidad de la app a desarrollar."
      ]
    },
    {
      "cell_type": "markdown",
      "metadata": {
        "id": "VexobnQYG-aZ",
        "colab_type": "text"
      },
      "source": [
        "##**Introducción a `SQLAlchemy`**\n",
        "\n",
        "\n",
        "Dentro de los DDLs/DMLs soportados por `SQLAlchemy` se encuentran:\n",
        "\n",
        "- Firebird\n",
        "- Microsoft SQL Server\n",
        "- MySQL\n",
        "- Oracle\n",
        "- PostgreSQL\n",
        "- SQLite\n",
        "- Sybase\n",
        "\n",
        "Pudiéndose operar con instrucciones parecidas a `SQL` desde `python`.\n",
        "\n",
        "**NOTA:** A lo largo del presente móulo trabajaremos con el RDBMS de `SQLite` incluido en `SQLAlchemy`.\n",
        "\n",
        "---\n",
        "\n",
        "**SQLite:** La mayoria de motores de bases de datos SQL se implementan como un proceso de servidor independiente, en donde los programas, par acceder a la base de datos, se comunican con el servidor mediante un tipo de comunicación entre procesos (TCP/IP), para enviar solicitudes al servidor y recibir resultados. SQLite no funciona de esta forma. En SQLitel, el proceso que quiere acceder a la base de datos lee y escribe directamente desde los archivos de la base de datos en el disco, es decirm no hay un proceso de servidor intermediario.\n",
        "\n",
        "No tener servidor tiene ciertas ventajas, la principal es que no hay un proceso de servidor separado para instalar, configurar, inicializar, administrar y solucionar problemas. Esta es una de las razones por las que SQLite es un motor de base de datos de \"configuración cero\". Los programas que usan SQLite no requieren soporte administrativo para configurar el motor de la base de datos antes de ejecutarse. Cualquier programa que pueda acceder al disco puede utilizar una base de datos SQLite.\n",
        "\n",
        "Por otro lado, un motor de base de datos que usa un servidor puede brindar una mejor protección contra errores en la aplicación cliente; los punteros perdidos en un cliente no pueden dañar la memoria del servidor. Y debido a que un servidor es un proceso único y persistente, puede controlar el acceso a la base de datos con más precisión, lo que permite un bloqueo más detallado y una mejor concurrencia.\n",
        "\n",
        "La mayoría de los motores de bases de datos SQL están basados ​​en cliente/servidor. De los que no tienen servidor, SQLite es el único conocido por este autor que permite que múltiples aplicaciones accedan a la misma base de datos al mismo tiempo.\n",
        "\n",
        "---\n",
        "\n"
      ]
    },
    {
      "cell_type": "markdown",
      "metadata": {
        "id": "_LqEd5F1QhjJ",
        "colab_type": "text"
      },
      "source": [
        "##**`SQLALchemy` core y Expresiones del lenguaje SQL**\n",
        "\n",
        "Las expresiones de lenguaje SQL es una forma pythonica de representar instrucciones y expresiones comunes de SQL, que en últimas representa una abastracción simple del lenguaje SQL. Se encfoca en el esquema real de una base de datos; no obstante, está estandarizado de tal forma que proporciona un lenguaje consistente en varios backends de bases de datos. Las expresiones del lenguaje `SQL` tambien actuan como los fundamentos del ORM de SQLAlchemy.\n",
        "\n",
        "El ORM se centra en el modelo de dominio de la aplicación y aprovecha el patrón de unidad de trabajo para mantener el estado del objeto. "
      ]
    },
    {
      "cell_type": "markdown",
      "metadata": {
        "id": "Bv_XHaSZSoRM",
        "colab_type": "text"
      },
      "source": [
        "##**ORM de `SQLAlchemy`**\n",
        "\n",
        "Por lo general, el sistema de tipos utilizado en un lenguaje orientado a objetos (OO) como Python contiene tipos no escalares. Estos no se pueden expresar como tipos primitivos, es decir, como enteros y cadenas. Por lo tanto, el programador tiene que convertir estos objetos en datos escalares para interactuar con la base de datos backend. Sin embargo, los tipos de datos en la mayoría de los productos de bases de datos, como Oracle, MySQL, etc., son primitivos.\n",
        "\n",
        "En un sistema ORM, cada clase se asigna a una tabla en la base de datos subyacente. En lugar de escribir usted mismo el código de interfaz de la base de datos, un ORM se encarga de esto.\n",
        "\n",
        "Un ORM se centra en el dominio del modelo de la aplicación y aprovecha el patrón de unidad de trabajo (la base de datos, en nuestro caso) para mantener el estado del objeto. Un ORM, proporciona tambien una abstración de alto nivel sobre el lenguaje de expresiones de `SQL` que le permite al usuario trabajar con el lenguaje de programación que esté más familiarizado; de hecho, podemos mezclar y combinar el uso de ORM con el lenguaje de expresiones `SQL` para la creación de apps.\n",
        "\n",
        "Debemos tener en cuenta que **existe una diferencia entre la forma en que se pueden relacionar las clases y como operan las relaciones de la base de datos subyacente**."
      ]
    },
    {
      "cell_type": "markdown",
      "metadata": {
        "id": "pRMomFQ1uzSy",
        "colab_type": "text"
      },
      "source": [
        "##**Determinación del modo SQLAlchemy**\n",
        "\n",
        "Al crear una app con SQLAlchemy, se tendrá que deterinar antes si se utilizará principalmente como ORM o Core. La decisión entre elegir usar SQLAlchemy Core o ORM como la capa dominante de acceso a datos para una aplicación a menudo se reduce a algunos factores y preferencias personales. Los dos modos utilizan una sintaxis ligeramente diferente, pero la mayor diferencia entre Core y ORM es la vista de los datos como esquemas u objetos comerciales. SQLAlchemy Core tiene una vista centrada en el esquema, que al igual que el SQL tradicional se centra en tablas, claves y estructuras de índices. SQLAlchemy Core realmente brilla en el almacenamiento de datos, informes, análisis y otros puntos en los que es útil poder controlar estrictamente la consulta u operar con datos no modelados. Tener un grupo de conexiones de base de datos sólido y las optimizaciones de ResultSet son ideales para manejar grandes cantidades de datos incluso en múltiples bases de datos. Sin embargo, si desea centrarse más en un diseño impulsado por dominios, el ORM encapsulará gran parte del esquema y la estructura subyacentes en metadatos y objetos comerciales. Esta encapsulación puede facilitar que las interacciones con la base de datos se sientan más como un código Python normal. La mayoría de las aplicaciones comunes se prestan a ser modeladas en de esta manera. También puede ser una forma muy eficaz de inyectar diseño basado en dominios en una aplicación heredada o en una con sentencias SQL sin procesar esparcidas por todas partes. Los microservicios también se benefician de su abstracción de la base de datos subyacente que permite al desarrollador\n",
        "céntrese solo en el proceso que se está implementando.\n",
        "Sin embargo, dado que el ORM está construido sobre SQLAlchemy Core, puede usar su capacidad para trabajar con servicios como Oracle Data Warehousing y Amazon Redshift de la misma manera que interopera con MySQL. Esto lo convierte en un complemento maravilloso para el ORM cuando necesita combinar objetos comerciales y datos almacenados.\n",
        "\n",
        "- Si está trabajando con un marco que ya tiene un ORM integrado, pero desea agregar informes más potentes, use Core.\n",
        "\n",
        "- Si no desea tener una vista de sus datos en una vista más centrada en el esquema como se usa en SQL, use Core.\n",
        "\n",
        "- ¿Tiene datos para los que no se necesitan objetos comerciales? Utilice Core.\n",
        "\n",
        "- ¿Ve sus datos como objetos comerciales, utiliza ORM?\n",
        "\n",
        "- ¿Está construyendo un prototipo rápido, use ORM?\n",
        "\n",
        "- ¿Tiene una combinación de necesidades que realmente puedan aprovechar tanto los objetos de negocio como otros datos no relacionados con el dominio del problema, utilice ambos?\n",
        "\n",
        "Ahora que sabe cómo está estructurado SQLAlchemy y la diferencia entre Core y ORM, estamos listos para instalar y comenzar a usar SQLAlchemy para conectarnos a una base de datos."
      ]
    },
    {
      "cell_type": "markdown",
      "metadata": {
        "id": "slyI6NgZeuRi",
        "colab_type": "text"
      },
      "source": [
        "##**`SQLAlchemy` core: Tabla única**\n",
        "\n"
      ]
    },
    {
      "cell_type": "markdown",
      "metadata": {
        "id": "KXT5xogufJn4",
        "colab_type": "text"
      },
      "source": [
        "###**Conexión a una base de datos**\n",
        "\n",
        "La clase `engine` conecta un grupo y un dialecto para proporcionar una medio de conectividad y comportamiento de la base de datos. Se crea una instancia de un objeto de la clase `Engine` mediante el la función `create_engine()`. La sintaxis es la siguiente:\n",
        "\n",
        "```\n",
        "from sqlalchemy import create_engine\n",
        "engine = create_engine(URL)\n",
        "```\n",
        "\n",
        "Dicha función recibe un argumento correspondiente a la base de datos, la cual no es necesaria que esté definida en alguna parte. Usualmente, el string al que corresponde el `URL` esta compuesto por el dialecto de la base de datos, además de este argumento, se pueden indicar más argumentos de conexión. Por ejemplo, podemos indicar mediante el flag `echo` la vonfiguración del registro de SQLAlchemy, el cual se logra a través del módulo de registro estándar de `Python`.\n",
        "\n",
        "```\n",
        "from sqlalchemy import create_engine\n",
        "engine = create_engine('sqlite:///college.db', echo = True)\n",
        "```\n",
        "\n",
        "La función `create_engine()` nos devuelve un **objeto engine**. Algunos métodos importantes de cla clase `Engine` se resumen en la siguiente tabla:\n",
        "\n",
        "Método | Descripción\n",
        "---|---\n",
        "`connect()`| Ejecuta el objeto conexión.\n",
        "`execute()`| Ejecuta una construcción de declaración `SQL`.\n",
        "`begin()`| Devuele un administrador de contexto que entre <br> una conexión con una transacción establecida. Si <br> la operación es exitosa, se confirma la transacción,<br> sino, se revierte.\n",
        "`dispose()`| Elimina el grupo de conexiones usados por `Engine`.\n",
        "`driver()`| Nombre del driver del dialecto en uso por `Engine`.\n",
        "`tables_names()`| Devuelve una lista de todas los nombres de las tablas <br> en la base de datos.\n",
        "`transaction()`| Ejecuta la función dada dentro de una límite de transacción."
      ]
    },
    {
      "cell_type": "markdown",
      "metadata": {
        "id": "84eJY55ks0Eo",
        "colab_type": "text"
      },
      "source": [
        "###**Creación de tablas**\n",
        "\n",
        "La creación de tablas en `SQLAlchemy` está compueta por varias partes:\n",
        "\n",
        "- Una base de datos está representada por un `Tableobject`\n",
        "- Un objeto columna representa una columna en una tabla de una base de datos de un `Tableobject`.\n",
        "- Los metadatos contienen definiciones de tablas y objetos asociados tales como, índices, vistas, triggers, etc. Este tipo de objetos de metadatos se definen mediante la clase `MetaData`, que es una collección de objetos `Table` y del esquema asociado; contiene además, una colección de objetos de tabla, así como un enlace opcional a un `Engine` o `Connection`. `MetaData` se encarga entonces de unir mantener unida la estructura de la base de datos, para accedes rapidamente a ella en `SQLAlchemy`. `MetaData` puede ser pensado como una especie de catalogo de objetos de tablas.\n",
        "\n"
      ]
    },
    {
      "cell_type": "markdown",
      "metadata": {
        "id": "PWGlF3IPv0vG",
        "colab_type": "text"
      },
      "source": [
        "Para crear un objeto de `MetaData` hacemos lo siguiente:"
      ]
    },
    {
      "cell_type": "code",
      "metadata": {
        "id": "-zxV2AqowOo6",
        "colab_type": "code",
        "colab": {
          "base_uri": "https://localhost:8080/",
          "height": 34
        },
        "outputId": "0152901c-619e-4305-f4e6-1d645db991a7"
      },
      "source": [
        "from sqlalchemy import MetaData\n",
        "meta = MetaData()\n",
        "meta"
      ],
      "execution_count": null,
      "outputs": [
        {
          "output_type": "execute_result",
          "data": {
            "text/plain": [
              "MetaData(bind=None)"
            ]
          },
          "metadata": {
            "tags": []
          },
          "execution_count": 67
        }
      ]
    },
    {
      "cell_type": "markdown",
      "metadata": {
        "id": "BrFCwtvZwaE2",
        "colab_type": "text"
      },
      "source": [
        "Nótese que hasta ahora no está ligado a ninguna base de datos, por lo que no tendrá ningun esquema  asociado. \n",
        "\n",
        "El siguiente paso consiste en crear las tablas que comprondrán la base de datos ligadas a metadata, para lo que usamos el constructor `Table`, parecido a la instrcción de `SQL`: `CREATE TABLE`. \n",
        "\n",
        "Un objeto de la clase `Table` representa a la tabla un una base de datos. Dicho constructor toma los siguientes parámetros\n",
        "\n",
        "Nombre | Nombre de la tabla\n",
        "--|--\n",
        "`MetaData`| Objeto `MetaData` que contendra la tabla\n",
        "Columna(s)| Uno o más objetos de la clase `Column`, que <br> representa una columna de la tabla de la base <br> de datos.\n",
        "\n",
        "El constructor `Table` toma el nombre, el tipo y otros parámetros como `primary_key`, autoincremento y otras restricciones. \n",
        "\n",
        "Alguno de los typos genéricos de `SQLAlchemy` usados en los datos de las **columnas** son:\n",
        "\n",
        "- BigInteger\n",
        "- Boolean\n",
        "- Date\n",
        "- DateTime\n",
        "- Float\n",
        "- Integer\n",
        "- Numeric\n",
        "- SmallInteger\n",
        "- String\n",
        "- Text\n",
        "- Time\n",
        "\n",
        "Creemos, por ejemplo, una base de datos que llamaremos **ejemplo_estudiantes.db**:"
      ]
    },
    {
      "cell_type": "code",
      "metadata": {
        "id": "7y5RvjpbwThH",
        "colab_type": "code",
        "colab": {}
      },
      "source": [
        "from sqlalchemy import create_engine, MetaData, Table, Column, Integer, String\n",
        "db_name = 'ejemplo_estudiantes.db'\n",
        "engine = create_engine('sqlite:////content/'+db_name, echo = True)\n",
        "meta = MetaData()\n",
        "\n",
        "estudiantes = Table(\n",
        "   'estudiantes', meta, \n",
        "   Column('ID', Integer, primary_key = True), \n",
        "   Column('NOMBRE', String), \n",
        "   Column('APELLIDO', String),\n",
        ")"
      ],
      "execution_count": null,
      "outputs": []
    },
    {
      "cell_type": "code",
      "metadata": {
        "id": "5qiJmNKCMHlE",
        "colab_type": "code",
        "colab": {
          "base_uri": "https://localhost:8080/",
          "height": 34
        },
        "outputId": "3a324019-e1a8-4665-d469-0aa83517a46d"
      },
      "source": [
        "ls"
      ],
      "execution_count": null,
      "outputs": [
        {
          "output_type": "stream",
          "text": [
            "ejemplo_empleados.db  \u001b[0m\u001b[01;34msample_data\u001b[0m/\n"
          ],
          "name": "stdout"
        }
      ]
    },
    {
      "cell_type": "markdown",
      "metadata": {
        "id": "4rRd_l87K3cB",
        "colab_type": "text"
      },
      "source": [
        "Nótese que, hasta el momento, no hemos creado la base de datos. Para realizar la tarea de creación usamos la función `create_all()` del objeto `meta` que recibe como objeto el objeto `engine`para crear todos los objetos de tablas y guardar la información en metadatos."
      ]
    },
    {
      "cell_type": "code",
      "metadata": {
        "id": "Tk2HOa7rLl_5",
        "colab_type": "code",
        "colab": {
          "base_uri": "https://localhost:8080/",
          "height": 683
        },
        "outputId": "337a17cb-1438-407c-9a7e-4eef3689090e"
      },
      "source": [
        "meta.create_all(engine)"
      ],
      "execution_count": null,
      "outputs": [
        {
          "output_type": "stream",
          "text": [
            "2020-09-01 17:20:48,215 INFO sqlalchemy.engine.base.Engine SELECT CAST('test plain returns' AS VARCHAR(60)) AS anon_1\n"
          ],
          "name": "stdout"
        },
        {
          "output_type": "stream",
          "text": [
            "INFO:sqlalchemy.engine.base.Engine:SELECT CAST('test plain returns' AS VARCHAR(60)) AS anon_1\n"
          ],
          "name": "stderr"
        },
        {
          "output_type": "stream",
          "text": [
            "2020-09-01 17:20:48,218 INFO sqlalchemy.engine.base.Engine ()\n"
          ],
          "name": "stdout"
        },
        {
          "output_type": "stream",
          "text": [
            "INFO:sqlalchemy.engine.base.Engine:()\n"
          ],
          "name": "stderr"
        },
        {
          "output_type": "stream",
          "text": [
            "2020-09-01 17:20:48,221 INFO sqlalchemy.engine.base.Engine SELECT CAST('test unicode returns' AS VARCHAR(60)) AS anon_1\n"
          ],
          "name": "stdout"
        },
        {
          "output_type": "stream",
          "text": [
            "INFO:sqlalchemy.engine.base.Engine:SELECT CAST('test unicode returns' AS VARCHAR(60)) AS anon_1\n"
          ],
          "name": "stderr"
        },
        {
          "output_type": "stream",
          "text": [
            "2020-09-01 17:20:48,224 INFO sqlalchemy.engine.base.Engine ()\n"
          ],
          "name": "stdout"
        },
        {
          "output_type": "stream",
          "text": [
            "INFO:sqlalchemy.engine.base.Engine:()\n"
          ],
          "name": "stderr"
        },
        {
          "output_type": "stream",
          "text": [
            "2020-09-01 17:20:48,227 INFO sqlalchemy.engine.base.Engine PRAGMA main.table_info(\"estudiantes\")\n"
          ],
          "name": "stdout"
        },
        {
          "output_type": "stream",
          "text": [
            "INFO:sqlalchemy.engine.base.Engine:PRAGMA main.table_info(\"estudiantes\")\n"
          ],
          "name": "stderr"
        },
        {
          "output_type": "stream",
          "text": [
            "2020-09-01 17:20:48,233 INFO sqlalchemy.engine.base.Engine ()\n"
          ],
          "name": "stdout"
        },
        {
          "output_type": "stream",
          "text": [
            "INFO:sqlalchemy.engine.base.Engine:()\n"
          ],
          "name": "stderr"
        },
        {
          "output_type": "stream",
          "text": [
            "2020-09-01 17:20:48,235 INFO sqlalchemy.engine.base.Engine PRAGMA temp.table_info(\"estudiantes\")\n"
          ],
          "name": "stdout"
        },
        {
          "output_type": "stream",
          "text": [
            "INFO:sqlalchemy.engine.base.Engine:PRAGMA temp.table_info(\"estudiantes\")\n"
          ],
          "name": "stderr"
        },
        {
          "output_type": "stream",
          "text": [
            "2020-09-01 17:20:48,238 INFO sqlalchemy.engine.base.Engine ()\n"
          ],
          "name": "stdout"
        },
        {
          "output_type": "stream",
          "text": [
            "INFO:sqlalchemy.engine.base.Engine:()\n"
          ],
          "name": "stderr"
        },
        {
          "output_type": "stream",
          "text": [
            "2020-09-01 17:20:48,241 INFO sqlalchemy.engine.base.Engine \n",
            "CREATE TABLE estudiantes (\n",
            "\t\"ID\" INTEGER NOT NULL, \n",
            "\t\"NOMBRE\" VARCHAR, \n",
            "\t\"APELLIDO\" VARCHAR, \n",
            "\tPRIMARY KEY (\"ID\")\n",
            ")\n",
            "\n",
            "\n"
          ],
          "name": "stdout"
        },
        {
          "output_type": "stream",
          "text": [
            "INFO:sqlalchemy.engine.base.Engine:\n",
            "CREATE TABLE estudiantes (\n",
            "\t\"ID\" INTEGER NOT NULL, \n",
            "\t\"NOMBRE\" VARCHAR, \n",
            "\t\"APELLIDO\" VARCHAR, \n",
            "\tPRIMARY KEY (\"ID\")\n",
            ")\n",
            "\n",
            "\n"
          ],
          "name": "stderr"
        },
        {
          "output_type": "stream",
          "text": [
            "2020-09-01 17:20:48,243 INFO sqlalchemy.engine.base.Engine ()\n"
          ],
          "name": "stdout"
        },
        {
          "output_type": "stream",
          "text": [
            "INFO:sqlalchemy.engine.base.Engine:()\n"
          ],
          "name": "stderr"
        },
        {
          "output_type": "stream",
          "text": [
            "2020-09-01 17:20:48,260 INFO sqlalchemy.engine.base.Engine COMMIT\n"
          ],
          "name": "stdout"
        },
        {
          "output_type": "stream",
          "text": [
            "INFO:sqlalchemy.engine.base.Engine:COMMIT\n"
          ],
          "name": "stderr"
        }
      ]
    },
    {
      "cell_type": "markdown",
      "metadata": {
        "id": "MYcqkUuoNVds",
        "colab_type": "text"
      },
      "source": [
        "Dado que tenemos activo el atríbuto `echo` al crear el motor, cuando creamos la base de datos, nos muestra la solicitud SQL realizada para la creación de la tabla:\n",
        "\n",
        "```\n",
        "CREATE TABLE estudiante (\n",
        "\tid INTEGER NOT NULL, \n",
        "\tnombre VARCHAR, \n",
        "\tapellido VARCHAR, \n",
        "\tPRIMARY KEY (id)\n",
        ")\n",
        "```"
      ]
    },
    {
      "cell_type": "markdown",
      "metadata": {
        "id": "Q1aExbo-jc5h",
        "colab_type": "text"
      },
      "source": [
        "Verifiquémos que la base de datos halla sido creada:"
      ]
    },
    {
      "cell_type": "code",
      "metadata": {
        "id": "5tWg9bOEjg7l",
        "colab_type": "code",
        "colab": {
          "base_uri": "https://localhost:8080/",
          "height": 34
        },
        "outputId": "129c2dad-96ba-4ddd-d205-6e86f1ac41ef"
      },
      "source": [
        "ls"
      ],
      "execution_count": null,
      "outputs": [
        {
          "output_type": "stream",
          "text": [
            "ejemplo_empleados.db  ejemplo_estudiantes.db  \u001b[0m\u001b[01;34msample_data\u001b[0m/\n"
          ],
          "name": "stdout"
        }
      ]
    },
    {
      "cell_type": "markdown",
      "metadata": {
        "id": "MSPNtLLJNBUz",
        "colab_type": "text"
      },
      "source": [
        "Dentro del objeto `meta`, encontraremos la función `tables`, donde podemos visualizar la tabla creada:"
      ]
    },
    {
      "cell_type": "code",
      "metadata": {
        "id": "KlFA-PmhMafF",
        "colab_type": "code",
        "colab": {
          "base_uri": "https://localhost:8080/",
          "height": 54
        },
        "outputId": "99310222-15e2-4727-d52c-6f81923999df"
      },
      "source": [
        "meta.tables"
      ],
      "execution_count": null,
      "outputs": [
        {
          "output_type": "execute_result",
          "data": {
            "text/plain": [
              "immutabledict({'estudiantes': Table('estudiantes', MetaData(bind=None), Column('ID', Integer(), table=<estudiantes>, primary_key=True, nullable=False), Column('NOMBRE', String(), table=<estudiantes>), Column('APELLIDO', String(), table=<estudiantes>), schema=None)})"
            ]
          },
          "metadata": {
            "tags": []
          },
          "execution_count": 139
        }
      ]
    },
    {
      "cell_type": "markdown",
      "metadata": {
        "id": "jCtmsyVuN0g5",
        "colab_type": "text"
      },
      "source": [
        "La base de datos creada no contendrá ninguna entrada, como es de esperarse hasta ahora."
      ]
    },
    {
      "cell_type": "markdown",
      "metadata": {
        "id": "_z2Gtay3OYRW",
        "colab_type": "text"
      },
      "source": [
        "###**Inserción de datos**\n",
        "\n",
        "Dentro de las operaciones las expresiones de `SQL`, tenemos la operación de insersión de datos `INSERT`. En el caso de `SQLAlchemy`, las expresiones de `SQL` se construyen a través de un metodo perteneciente al objeto `Table` creado. En el caso de la tabla `estudiantes`, la instrucción `INSERT` se crea al ejecutar el método `insert()` de dicha tabla.\n",
        "\n",
        "Mediante la función predefinida en python `str()`, podemos consultar la instrucción:"
      ]
    },
    {
      "cell_type": "code",
      "metadata": {
        "id": "_fCQ6C3aVgYO",
        "colab_type": "code",
        "colab": {
          "base_uri": "https://localhost:8080/",
          "height": 35
        },
        "outputId": "cd5ca0af-f432-4c22-f587-6038edbbd3e1"
      },
      "source": [
        "ins = estudiantes.insert().values(NOMBRE='Sebastian',APELLIDO='Sanchez')\n",
        "str(ins)"
      ],
      "execution_count": null,
      "outputs": [
        {
          "output_type": "execute_result",
          "data": {
            "application/vnd.google.colaboratory.intrinsic+json": {
              "type": "string"
            },
            "text/plain": [
              "'INSERT INTO estudiantes (\"NOMBRE\", \"APELLIDO\") VALUES (:NOMBRE, :APELLIDO)'"
            ]
          },
          "metadata": {
            "tags": []
          },
          "execution_count": 141
        }
      ]
    },
    {
      "cell_type": "markdown",
      "metadata": {
        "id": "qa5PxVtYYDGq",
        "colab_type": "text"
      },
      "source": [
        "###**Ejecución de expresiones**\n",
        "\n",
        "Veamos ahora como ejecutamos la instrucción/expresión de inserción para que tenga lugar el cambio en tabla de la base de datos `estudiantes.db`.\n",
        "\n",
        "\n",
        "Para ejecutar las expresiones de `SQL`, debemos obtener primero un objeto de conexón que corresponda a un recurso de conexión DBAPI verificado activamente y luego alimentar dicho objeto de expresión."
      ]
    },
    {
      "cell_type": "code",
      "metadata": {
        "id": "TyRi9TkJZlOn",
        "colab_type": "code",
        "colab": {}
      },
      "source": [
        "conn = engine.connect()"
      ],
      "execution_count": null,
      "outputs": []
    },
    {
      "cell_type": "markdown",
      "metadata": {
        "id": "w_w0iGfxaMGL",
        "colab_type": "text"
      },
      "source": [
        "Una vez establecido el objeto de conexión, le pasamos como argumento el objeto `ins` creado, mediante el método `execute()` del objeto de conexión:"
      ]
    },
    {
      "cell_type": "code",
      "metadata": {
        "id": "gMkBP9sqaxJC",
        "colab_type": "code",
        "colab": {
          "base_uri": "https://localhost:8080/",
          "height": 139
        },
        "outputId": "87d295fb-af37-49b4-f6a0-9cb2a96b8106"
      },
      "source": [
        "resultado = conn.execute(ins)"
      ],
      "execution_count": null,
      "outputs": [
        {
          "output_type": "stream",
          "text": [
            "2020-09-01 17:21:23,528 INFO sqlalchemy.engine.base.Engine INSERT INTO estudiantes (\"NOMBRE\", \"APELLIDO\") VALUES (?, ?)\n"
          ],
          "name": "stdout"
        },
        {
          "output_type": "stream",
          "text": [
            "INFO:sqlalchemy.engine.base.Engine:INSERT INTO estudiantes (\"NOMBRE\", \"APELLIDO\") VALUES (?, ?)\n"
          ],
          "name": "stderr"
        },
        {
          "output_type": "stream",
          "text": [
            "2020-09-01 17:21:23,531 INFO sqlalchemy.engine.base.Engine ('Sebastian', 'Sanchez')\n"
          ],
          "name": "stdout"
        },
        {
          "output_type": "stream",
          "text": [
            "INFO:sqlalchemy.engine.base.Engine:('Sebastian', 'Sanchez')\n"
          ],
          "name": "stderr"
        },
        {
          "output_type": "stream",
          "text": [
            "2020-09-01 17:21:23,535 INFO sqlalchemy.engine.base.Engine COMMIT\n"
          ],
          "name": "stdout"
        },
        {
          "output_type": "stream",
          "text": [
            "INFO:sqlalchemy.engine.base.Engine:COMMIT\n"
          ],
          "name": "stderr"
        }
      ]
    },
    {
      "cell_type": "markdown",
      "metadata": {
        "id": "rrcIwLUSbS5z",
        "colab_type": "text"
      },
      "source": [
        "En este punto, tenedremos almacenado nuestro promer dato de la base de datos de estudiantes:\n",
        "\n",
        "<center>\n",
        "    <img height=\"500px\" src=\"https://github.com/ssanchezgoe/flask_vscode_tutorial/blob/master/imagenes/primeta_entrada_sqlachemy.png?raw=true\" />\n",
        "</center>\n",
        "\n"
      ]
    },
    {
      "cell_type": "markdown",
      "metadata": {
        "id": "nnrmsqfpdJrC",
        "colab_type": "text"
      },
      "source": [
        "La variable `resultado` es conocida como un objeto `ResultProxy`. Es análogo al objeto cursor DBAPI.  Con el objeto `resultado` podemos obtener información de la `primary_key` que se generó:"
      ]
    },
    {
      "cell_type": "code",
      "metadata": {
        "id": "bdzglS05dlqc",
        "colab_type": "code",
        "colab": {
          "base_uri": "https://localhost:8080/",
          "height": 34
        },
        "outputId": "737a8fcc-a88d-4f46-fb06-4408edd2c7f6"
      },
      "source": [
        "resultado.inserted_primary_key"
      ],
      "execution_count": null,
      "outputs": [
        {
          "output_type": "execute_result",
          "data": {
            "text/plain": [
              "[1]"
            ]
          },
          "metadata": {
            "tags": []
          },
          "execution_count": 144
        }
      ]
    },
    {
      "cell_type": "markdown",
      "metadata": {
        "id": "KtpvyfpYeLUS",
        "colab_type": "text"
      },
      "source": [
        "Agregar instancia por instancia en una base de datos es una tarea infernal. Pordemos hacerlo en una sola instrucción, y hacendo uso de una lista de diccionarios de `python`, mediante el objeto DBAPI de conexión"
      ]
    },
    {
      "cell_type": "code",
      "metadata": {
        "id": "J-3mFqjJegmC",
        "colab_type": "code",
        "colab": {
          "base_uri": "https://localhost:8080/",
          "height": 139
        },
        "outputId": "e014e6f1-8ddc-4d50-f5f4-8f7298e6724a"
      },
      "source": [
        "resultado = conn.execute(estudiantes.insert(),[\n",
        "  {'NOMBRE':'Paula','APELLIDO':'Mur'},\n",
        "  {'NOMBRE':'Pablo','APELLIDO':'Bellido'},\n",
        "  {'NOMBRE':'Paola','APELLIDO':'Larco'},\n",
        "  {'NOMBRE':'Daniela','APELLIDO':'Diaz'},\n",
        "])"
      ],
      "execution_count": null,
      "outputs": [
        {
          "output_type": "stream",
          "text": [
            "2020-09-01 17:21:38,259 INFO sqlalchemy.engine.base.Engine INSERT INTO estudiantes (\"NOMBRE\", \"APELLIDO\") VALUES (?, ?)\n"
          ],
          "name": "stdout"
        },
        {
          "output_type": "stream",
          "text": [
            "INFO:sqlalchemy.engine.base.Engine:INSERT INTO estudiantes (\"NOMBRE\", \"APELLIDO\") VALUES (?, ?)\n"
          ],
          "name": "stderr"
        },
        {
          "output_type": "stream",
          "text": [
            "2020-09-01 17:21:38,263 INFO sqlalchemy.engine.base.Engine (('Paula', 'Mur'), ('Pablo', 'Bellido'), ('Paola', 'Larco'), ('Daniela', 'Diaz'))\n"
          ],
          "name": "stdout"
        },
        {
          "output_type": "stream",
          "text": [
            "INFO:sqlalchemy.engine.base.Engine:(('Paula', 'Mur'), ('Pablo', 'Bellido'), ('Paola', 'Larco'), ('Daniela', 'Diaz'))\n"
          ],
          "name": "stderr"
        },
        {
          "output_type": "stream",
          "text": [
            "2020-09-01 17:21:38,266 INFO sqlalchemy.engine.base.Engine COMMIT\n"
          ],
          "name": "stdout"
        },
        {
          "output_type": "stream",
          "text": [
            "INFO:sqlalchemy.engine.base.Engine:COMMIT\n"
          ],
          "name": "stderr"
        }
      ]
    },
    {
      "cell_type": "markdown",
      "metadata": {
        "id": "kb8We1AcpeFL",
        "colab_type": "text"
      },
      "source": [
        "Cerramos la conexión:"
      ]
    },
    {
      "cell_type": "code",
      "metadata": {
        "id": "7Cr6yFPlpayY",
        "colab_type": "code",
        "colab": {}
      },
      "source": [
        "conn.close()"
      ],
      "execution_count": null,
      "outputs": []
    },
    {
      "cell_type": "markdown",
      "metadata": {
        "id": "JOl47oyqhZB5",
        "colab_type": "text"
      },
      "source": [
        "###**Selección de Filas**\n",
        "\n",
        "Recordemos que el metodo `SELECT` de `SQL` nos permite construir una expresión de seleción para analizar algún dato de una tabla de bases de datos. En `SQLAlchemy`, la selección la construirmos a partir del objeto `estudiante`:"
      ]
    },
    {
      "cell_type": "code",
      "metadata": {
        "id": "9zZp3mzdiMLZ",
        "colab_type": "code",
        "colab": {
          "base_uri": "https://localhost:8080/",
          "height": 35
        },
        "outputId": "efa18457-6da2-4907-f6b0-715e7513f369"
      },
      "source": [
        "sel = estudiantes.select() \n",
        "str(sel)"
      ],
      "execution_count": null,
      "outputs": [
        {
          "output_type": "execute_result",
          "data": {
            "application/vnd.google.colaboratory.intrinsic+json": {
              "type": "string"
            },
            "text/plain": [
              "'SELECT estudiantes.\"ID\", estudiantes.\"NOMBRE\", estudiantes.\"APELLIDO\" \\nFROM estudiantes'"
            ]
          },
          "metadata": {
            "tags": []
          },
          "execution_count": 152
        }
      ]
    },
    {
      "cell_type": "markdown",
      "metadata": {
        "id": "zMvT_mLYi25O",
        "colab_type": "text"
      },
      "source": [
        "Usamos ahora el objeto de conexión `DBAPI` para seleccionar los elementos de la tabla de la base de datos; para este objetivo, en el argumento del método `execute()` el objeto creado `sel`"
      ]
    },
    {
      "cell_type": "code",
      "metadata": {
        "id": "9ZeCGtU5qBxA",
        "colab_type": "code",
        "colab": {
          "base_uri": "https://localhost:8080/",
          "height": 139
        },
        "outputId": "ac7393da-0309-435b-f648-a67cd863248a"
      },
      "source": [
        "conn = engine.connect()\n",
        "resultado = conn.execute(sel)"
      ],
      "execution_count": null,
      "outputs": [
        {
          "output_type": "stream",
          "text": [
            "2020-09-01 17:23:43,415 INFO sqlalchemy.engine.base.Engine SELECT estudiantes.\"ID\", estudiantes.\"NOMBRE\", estudiantes.\"APELLIDO\" \n",
            "FROM estudiantes\n"
          ],
          "name": "stdout"
        },
        {
          "output_type": "stream",
          "text": [
            "INFO:sqlalchemy.engine.base.Engine:SELECT estudiantes.\"ID\", estudiantes.\"NOMBRE\", estudiantes.\"APELLIDO\" \n",
            "FROM estudiantes\n"
          ],
          "name": "stderr"
        },
        {
          "output_type": "stream",
          "text": [
            "2020-09-01 17:23:43,417 INFO sqlalchemy.engine.base.Engine ()\n"
          ],
          "name": "stdout"
        },
        {
          "output_type": "stream",
          "text": [
            "INFO:sqlalchemy.engine.base.Engine:()\n"
          ],
          "name": "stderr"
        }
      ]
    },
    {
      "cell_type": "markdown",
      "metadata": {
        "id": "FgAA8IkJqZUd",
        "colab_type": "text"
      },
      "source": [
        "Que como vemos, ejecuta la expresión `SQL`:\n",
        "\n",
        "```\n",
        "SELECT estudiante.id, estudiante.nombre, estudiante.apellido \n",
        "FROM estudiante\n",
        "```\n",
        "\n",
        "La variable `resultado` es equivalente a un cursor en el objeto `DBAPI`. En este punto, podremos acceder a los registros usando el método `fetchall()`:\n"
      ]
    },
    {
      "cell_type": "code",
      "metadata": {
        "id": "6jIhWxIorXTV",
        "colab_type": "code",
        "colab": {
          "base_uri": "https://localhost:8080/",
          "height": 102
        },
        "outputId": "c2a6b6f5-d71d-49f3-d05e-d26f69eabcb2"
      },
      "source": [
        "filas = resultado.fetchall()\n",
        "filas"
      ],
      "execution_count": null,
      "outputs": [
        {
          "output_type": "execute_result",
          "data": {
            "text/plain": [
              "[(1, 'Sebastian', 'Sanchez'),\n",
              " (2, 'Paula', 'Mur'),\n",
              " (3, 'Pablo', 'Bellido'),\n",
              " (4, 'Paola', 'Larco'),\n",
              " (5, 'Daniela', 'Diaz')]"
            ]
          },
          "metadata": {
            "tags": []
          },
          "execution_count": 154
        }
      ]
    },
    {
      "cell_type": "markdown",
      "metadata": {
        "id": "r6s8Zu3OsqEQ",
        "colab_type": "text"
      },
      "source": [
        "cerramos conexión:"
      ]
    },
    {
      "cell_type": "code",
      "metadata": {
        "id": "llc8baqBspqq",
        "colab_type": "code",
        "colab": {}
      },
      "source": [
        "conn.close()"
      ],
      "execution_count": null,
      "outputs": []
    },
    {
      "cell_type": "markdown",
      "metadata": {
        "id": "3g3krCDHtdMf",
        "colab_type": "text"
      },
      "source": [
        "De forma más expedita, podemos realizar lo siguiente:\n",
        "\n"
      ]
    },
    {
      "cell_type": "code",
      "metadata": {
        "id": "adOEDFjms2Jy",
        "colab_type": "code",
        "colab": {
          "base_uri": "https://localhost:8080/",
          "height": 224
        },
        "outputId": "d53f13e2-6259-4df4-976d-32c0b91fcf0a"
      },
      "source": [
        "conn = engine.connect()\n",
        "sel = estudiantes.select()\n",
        "resultado = conn.execute(sel)\n",
        "\n",
        "for filas in resultado:\n",
        "  print(filas)\n"
      ],
      "execution_count": null,
      "outputs": [
        {
          "output_type": "stream",
          "text": [
            "2020-09-01 17:25:02,361 INFO sqlalchemy.engine.base.Engine SELECT estudiantes.\"ID\", estudiantes.\"NOMBRE\", estudiantes.\"APELLIDO\" \n",
            "FROM estudiantes\n"
          ],
          "name": "stdout"
        },
        {
          "output_type": "stream",
          "text": [
            "INFO:sqlalchemy.engine.base.Engine:SELECT estudiantes.\"ID\", estudiantes.\"NOMBRE\", estudiantes.\"APELLIDO\" \n",
            "FROM estudiantes\n"
          ],
          "name": "stderr"
        },
        {
          "output_type": "stream",
          "text": [
            "2020-09-01 17:25:02,363 INFO sqlalchemy.engine.base.Engine ()\n"
          ],
          "name": "stdout"
        },
        {
          "output_type": "stream",
          "text": [
            "INFO:sqlalchemy.engine.base.Engine:()\n"
          ],
          "name": "stderr"
        },
        {
          "output_type": "stream",
          "text": [
            "(1, 'Sebastian', 'Sanchez')\n",
            "(2, 'Paula', 'Mur')\n",
            "(3, 'Pablo', 'Bellido')\n",
            "(4, 'Paola', 'Larco')\n",
            "(5, 'Daniela', 'Diaz')\n"
          ],
          "name": "stdout"
        }
      ]
    },
    {
      "cell_type": "markdown",
      "metadata": {
        "id": "S_Y51rcZtmLd",
        "colab_type": "text"
      },
      "source": [
        "Si queremos seleccionar unas cuantas filas, construyamos primero la expresión SQL. Para ello, importamos el metodo `select():`"
      ]
    },
    {
      "cell_type": "code",
      "metadata": {
        "id": "3rody6tptp6B",
        "colab_type": "code",
        "colab": {
          "base_uri": "https://localhost:8080/",
          "height": 35
        },
        "outputId": "4232151b-2e32-41b3-91a6-54a72bc58c93"
      },
      "source": [
        "from sqlalchemy.sql import select\n",
        "\n",
        "sel = select([estudiantes.c.NOMBRE, estudiantes.c.APELLIDO])\n",
        "str(sel)"
      ],
      "execution_count": null,
      "outputs": [
        {
          "output_type": "execute_result",
          "data": {
            "application/vnd.google.colaboratory.intrinsic+json": {
              "type": "string"
            },
            "text/plain": [
              "'SELECT estudiantes.\"NOMBRE\", estudiantes.\"APELLIDO\" \\nFROM estudiantes'"
            ]
          },
          "metadata": {
            "tags": []
          },
          "execution_count": 173
        }
      ]
    },
    {
      "cell_type": "markdown",
      "metadata": {
        "id": "sYdMLj5BwsR3",
        "colab_type": "text"
      },
      "source": [
        "Una vez construido, nos conectamos a la base de datos y hacemos la selección"
      ]
    },
    {
      "cell_type": "code",
      "metadata": {
        "id": "fb6eVCQzxkEK",
        "colab_type": "code",
        "colab": {
          "base_uri": "https://localhost:8080/",
          "height": 156
        },
        "outputId": "d663d63e-512c-424f-b9c4-3f5a40b473ce"
      },
      "source": [
        "conn = engine.connect()\n",
        "resultado = conn.execute(sel)\n",
        "print(resultado.fetchall())\n",
        "\n",
        "conn.close()"
      ],
      "execution_count": null,
      "outputs": [
        {
          "output_type": "stream",
          "text": [
            "2020-09-01 17:47:42,919 INFO sqlalchemy.engine.base.Engine SELECT estudiantes.\"NOMBRE\", estudiantes.\"APELLIDO\" \n",
            "FROM estudiantes\n"
          ],
          "name": "stdout"
        },
        {
          "output_type": "stream",
          "text": [
            "INFO:sqlalchemy.engine.base.Engine:SELECT estudiantes.\"NOMBRE\", estudiantes.\"APELLIDO\" \n",
            "FROM estudiantes\n"
          ],
          "name": "stderr"
        },
        {
          "output_type": "stream",
          "text": [
            "2020-09-01 17:47:42,927 INFO sqlalchemy.engine.base.Engine ()\n"
          ],
          "name": "stdout"
        },
        {
          "output_type": "stream",
          "text": [
            "INFO:sqlalchemy.engine.base.Engine:()\n"
          ],
          "name": "stderr"
        },
        {
          "output_type": "stream",
          "text": [
            "[('Sebastian', 'Sanchez'), ('Paula', 'Mur'), ('Pablo', 'Bellido'), ('Paola', 'Larco'), ('Daniela', 'Diaz')]\n"
          ],
          "name": "stdout"
        }
      ]
    },
    {
      "cell_type": "markdown",
      "metadata": {
        "id": "UAcj4SnBuXzV",
        "colab_type": "text"
      },
      "source": [
        "####**Clausula `WHERE`**\n",
        "\n",
        "La clausula `WHERE` de la consulta `SELECT` ser introducida usando `select().where()`. De la sección [SQL-WHERE](#WHERE), recordemos que esta clausula recibe un predicado que corresponde a un booleano. Por ejemplo, si queremos consultar todos los `ids` menores o iguales a 3:"
      ]
    },
    {
      "cell_type": "code",
      "metadata": {
        "id": "bQG89255z4K1",
        "colab_type": "code",
        "colab": {
          "base_uri": "https://localhost:8080/",
          "height": 224
        },
        "outputId": "4a668b1c-bc7d-4d11-a6a0-b32ce70e23cf"
      },
      "source": [
        "#conexión\n",
        "conn = engine.connect()\n",
        "sel = estudiantes.select().where(estudiantes.c.ID<=3)\n",
        "resultado = conn.execute(sel)\n",
        "\n",
        "for filas in resultado:\n",
        "  print(filas)\n",
        "\n",
        "conn.close()\n"
      ],
      "execution_count": null,
      "outputs": [
        {
          "output_type": "stream",
          "text": [
            "2020-09-01 17:50:44,386 INFO sqlalchemy.engine.base.Engine SELECT estudiantes.\"ID\", estudiantes.\"NOMBRE\", estudiantes.\"APELLIDO\" \n",
            "FROM estudiantes \n",
            "WHERE estudiantes.\"ID\" <= ?\n"
          ],
          "name": "stdout"
        },
        {
          "output_type": "stream",
          "text": [
            "INFO:sqlalchemy.engine.base.Engine:SELECT estudiantes.\"ID\", estudiantes.\"NOMBRE\", estudiantes.\"APELLIDO\" \n",
            "FROM estudiantes \n",
            "WHERE estudiantes.\"ID\" <= ?\n"
          ],
          "name": "stderr"
        },
        {
          "output_type": "stream",
          "text": [
            "2020-09-01 17:50:44,390 INFO sqlalchemy.engine.base.Engine (3,)\n"
          ],
          "name": "stdout"
        },
        {
          "output_type": "stream",
          "text": [
            "INFO:sqlalchemy.engine.base.Engine:(3,)\n"
          ],
          "name": "stderr"
        },
        {
          "output_type": "stream",
          "text": [
            "(1, 'Sebastian', 'Sanchez')\n",
            "(2, 'Paula', 'Mur')\n",
            "(3, 'Pablo', 'Bellido')\n"
          ],
          "name": "stdout"
        }
      ]
    },
    {
      "cell_type": "markdown",
      "metadata": {
        "id": "_m9wCjG70acK",
        "colab_type": "text"
      },
      "source": [
        "El atributo `c` es un alias para columnas."
      ]
    },
    {
      "cell_type": "markdown",
      "metadata": {
        "id": "H9OHdZjs5Emc",
        "colab_type": "text"
      },
      "source": [
        "###**Uso de texto en `SQLAlchemy`**\n",
        "\n",
        "`SQLAlchemy` nos permite usar cadenas de texto en los casos en que se conoce el `SQL` y no existe mayor necesidad de que la declaración admita caractarísticas dinámicas. La construcción de `text()` se usa para componer una declaración textual que se pasa a la base de datos, casi sin cambios:"
      ]
    },
    {
      "cell_type": "code",
      "metadata": {
        "id": "4PqK_L6Z5t0C",
        "colab_type": "code",
        "colab": {
          "base_uri": "https://localhost:8080/",
          "height": 170
        },
        "outputId": "b0e687b4-701f-4b0e-b90e-2e755c72c772"
      },
      "source": [
        "from sqlalchemy import text \n",
        "conn = engine.connect()\n",
        "my_text = text(\"SELECT * FROM estudiantes\")# Esto es muy cómodo\n",
        "resultado = conn.execute(my_text)\n",
        "\n",
        "for filas in resultado:\n",
        "  print(filas)\n",
        "\n",
        "conn.close()"
      ],
      "execution_count": null,
      "outputs": [
        {
          "output_type": "stream",
          "text": [
            "2020-09-01 17:52:41,655 INFO sqlalchemy.engine.base.Engine SELECT * FROM estudiantes\n"
          ],
          "name": "stdout"
        },
        {
          "output_type": "stream",
          "text": [
            "INFO:sqlalchemy.engine.base.Engine:SELECT * FROM estudiantes\n"
          ],
          "name": "stderr"
        },
        {
          "output_type": "stream",
          "text": [
            "2020-09-01 17:52:41,660 INFO sqlalchemy.engine.base.Engine ()\n"
          ],
          "name": "stdout"
        },
        {
          "output_type": "stream",
          "text": [
            "INFO:sqlalchemy.engine.base.Engine:()\n"
          ],
          "name": "stderr"
        },
        {
          "output_type": "stream",
          "text": [
            "(1, 'Sebastian', 'Sanchez')\n",
            "(2, 'Paula', 'Mur')\n",
            "(3, 'Pablo', 'Bellido')\n",
            "(4, 'Paola', 'Larco')\n",
            "(5, 'Daniela', 'Diaz')\n"
          ],
          "name": "stdout"
        }
      ]
    },
    {
      "cell_type": "markdown",
      "metadata": {
        "id": "pDjS3tKQ-nSD",
        "colab_type": "text"
      },
      "source": [
        "Veamos un ejemplo en donde usamos parametros de límites en SQL:"
      ]
    },
    {
      "cell_type": "code",
      "metadata": {
        "id": "SJONdn1j-1tq",
        "colab_type": "code",
        "colab": {
          "base_uri": "https://localhost:8080/",
          "height": 173
        },
        "outputId": "57bd1142-fe75-4fc1-dcd9-62200e1b2d20"
      },
      "source": [
        "conn = engine.connect()\n",
        "\n",
        "t = text(\"select estudiantes.NOMBRE, estudiantes.APELLIDO from estudiantes where estudiantes.NOMBRE between :x and :y\")\n",
        "resultado = conn.execute(t, x = 'B', y = 'Q')\n",
        "\n",
        "for filas in resultado:\n",
        "  print(filas)\n",
        "\n",
        "conn.close()"
      ],
      "execution_count": null,
      "outputs": [
        {
          "output_type": "stream",
          "text": [
            "2020-09-01 17:54:10,441 INFO sqlalchemy.engine.base.Engine select estudiantes.NOMBRE, estudiantes.APELLIDO from estudiantes where estudiantes.NOMBRE between ? and ?\n"
          ],
          "name": "stdout"
        },
        {
          "output_type": "stream",
          "text": [
            "INFO:sqlalchemy.engine.base.Engine:select estudiantes.NOMBRE, estudiantes.APELLIDO from estudiantes where estudiantes.NOMBRE between ? and ?\n"
          ],
          "name": "stderr"
        },
        {
          "output_type": "stream",
          "text": [
            "2020-09-01 17:54:10,443 INFO sqlalchemy.engine.base.Engine ('B', 'Q')\n"
          ],
          "name": "stdout"
        },
        {
          "output_type": "stream",
          "text": [
            "INFO:sqlalchemy.engine.base.Engine:('B', 'Q')\n"
          ],
          "name": "stderr"
        },
        {
          "output_type": "stream",
          "text": [
            "('Paula', 'Mur')\n",
            "('Pablo', 'Bellido')\n",
            "('Paola', 'Larco')\n",
            "('Daniela', 'Diaz')\n"
          ],
          "name": "stdout"
        }
      ]
    },
    {
      "cell_type": "markdown",
      "metadata": {
        "id": "q-HlfvplBp1G",
        "colab_type": "text"
      },
      "source": [
        "###**Aliases**\n",
        "\n",
        "Los alias en `SQL` corresponden nick o \"renombre\" de una tabla, o una instrucción `SELECT`, que se puede hacer, de forma general, como\n",
        "\n",
        "```\n",
        "SELECT * FROM table1 AS a\"\n",
        "```\n",
        "\n",
        "De esta forma, `AS` crea un nuevo nombre para la tabla. Los alias nos permiten cear un nombre único para cualquier tabla o subconsulta. "
      ]
    },
    {
      "cell_type": "code",
      "metadata": {
        "id": "PkW4txMoEgsX",
        "colab_type": "code",
        "colab": {
          "base_uri": "https://localhost:8080/",
          "height": 221
        },
        "outputId": "89df1059-195a-43f8-c94e-05fbda48257f"
      },
      "source": [
        "from sqlalchemy.sql import alias, select\n",
        "\n",
        "#Conexión\n",
        "conn = engine.connect()\n",
        "\n",
        "#Alias\n",
        "es = estudiantes.alias(\"a\")\n",
        "sel = select([es]).where(es.c.ID>=2)\n",
        "print(\"Apariencia de la selección:\", str(sel))\n",
        "conn = engine.connect()\n",
        "print(conn.execute(sel).fetchall())\n",
        "\n",
        "conn.close()"
      ],
      "execution_count": null,
      "outputs": [
        {
          "output_type": "stream",
          "text": [
            "Apariencia de la selección: SELECT a.\"ID\", a.\"NOMBRE\", a.\"APELLIDO\" \n",
            "FROM estudiantes AS a \n",
            "WHERE a.\"ID\" >= :ID_1\n",
            "2020-09-01 17:57:28,380 INFO sqlalchemy.engine.base.Engine SELECT a.\"ID\", a.\"NOMBRE\", a.\"APELLIDO\" \n",
            "FROM estudiantes AS a \n",
            "WHERE a.\"ID\" >= ?\n"
          ],
          "name": "stdout"
        },
        {
          "output_type": "stream",
          "text": [
            "INFO:sqlalchemy.engine.base.Engine:SELECT a.\"ID\", a.\"NOMBRE\", a.\"APELLIDO\" \n",
            "FROM estudiantes AS a \n",
            "WHERE a.\"ID\" >= ?\n"
          ],
          "name": "stderr"
        },
        {
          "output_type": "stream",
          "text": [
            "2020-09-01 17:57:28,383 INFO sqlalchemy.engine.base.Engine (2,)\n"
          ],
          "name": "stdout"
        },
        {
          "output_type": "stream",
          "text": [
            "INFO:sqlalchemy.engine.base.Engine:(2,)\n"
          ],
          "name": "stderr"
        },
        {
          "output_type": "stream",
          "text": [
            "[(2, 'Paula', 'Mur'), (3, 'Pablo', 'Bellido'), (4, 'Paola', 'Larco'), (5, 'Daniela', 'Diaz')]\n"
          ],
          "name": "stdout"
        }
      ]
    },
    {
      "cell_type": "markdown",
      "metadata": {
        "id": "mX2SriBHLbK2",
        "colab_type": "text"
      },
      "source": [
        "###**Expresión `UPDATE`**\n",
        "\n",
        "El método `update()` sobre un objeto tabla construye una expresión equivalente en SQL:\n",
        "\n",
        "```\n",
        "table.update().where(condiciones).values(SET expresiones)\n",
        "```\n",
        "\n",
        "El método `values()` del objeto resultante `update()` se usa para especificar las condiciones de `SET` del UPDATE (ver sección [Update-Delete](#update_delete)). Si se deja como `None`, las condiciones de `SET` son determinadas de los parámetros que se pasan a la declaración durante la ejecución y/o complilación de la instrucción.\n",
        "\n",
        "\n",
        "La clausula `where` es una expresión opcional que describe la condición `WHERE` de la declaración `UPDATE`.\n",
        "\n",
        "Por ejemplo, supongamos que el apellido `Sanchez` de la primera entrada de la tabla estudiante es incorrecto, y en su lugar, debería ir `Pineda`. Para este fin hacemos lo siguiente:"
      ]
    },
    {
      "cell_type": "code",
      "metadata": {
        "id": "qbjf4RJaPi9L",
        "colab_type": "code",
        "colab": {
          "base_uri": "https://localhost:8080/",
          "height": 258
        },
        "outputId": "cf4ea6f6-41a9-4268-97c8-5ddd3edc61de"
      },
      "source": [
        "from sqlalchemy import update\n",
        "\n",
        "#Conexión\n",
        "conn = engine.connect()\n",
        "\n",
        "#Instrucción\n",
        "stmt = update(estudiantes).where(estudiantes.c.APELLIDO==\"Mur\").values(APELLIDO=\"Lopez\")\n",
        "conn.execute(stmt)\n",
        "\n",
        "#Selección para visualización\n",
        "sel = estudiantes.select()\n",
        "print(conn.execute(sel).fetchall())\n",
        "\n",
        "conn.close()"
      ],
      "execution_count": null,
      "outputs": [
        {
          "output_type": "stream",
          "text": [
            "2020-09-01 17:59:34,899 INFO sqlalchemy.engine.base.Engine UPDATE estudiantes SET \"APELLIDO\"=? WHERE estudiantes.\"APELLIDO\" = ?\n"
          ],
          "name": "stdout"
        },
        {
          "output_type": "stream",
          "text": [
            "INFO:sqlalchemy.engine.base.Engine:UPDATE estudiantes SET \"APELLIDO\"=? WHERE estudiantes.\"APELLIDO\" = ?\n"
          ],
          "name": "stderr"
        },
        {
          "output_type": "stream",
          "text": [
            "2020-09-01 17:59:34,901 INFO sqlalchemy.engine.base.Engine ('Lopez', 'Mur')\n"
          ],
          "name": "stdout"
        },
        {
          "output_type": "stream",
          "text": [
            "INFO:sqlalchemy.engine.base.Engine:('Lopez', 'Mur')\n"
          ],
          "name": "stderr"
        },
        {
          "output_type": "stream",
          "text": [
            "2020-09-01 17:59:34,907 INFO sqlalchemy.engine.base.Engine COMMIT\n"
          ],
          "name": "stdout"
        },
        {
          "output_type": "stream",
          "text": [
            "INFO:sqlalchemy.engine.base.Engine:COMMIT\n"
          ],
          "name": "stderr"
        },
        {
          "output_type": "stream",
          "text": [
            "2020-09-01 17:59:34,917 INFO sqlalchemy.engine.base.Engine SELECT estudiantes.\"ID\", estudiantes.\"NOMBRE\", estudiantes.\"APELLIDO\" \n",
            "FROM estudiantes\n"
          ],
          "name": "stdout"
        },
        {
          "output_type": "stream",
          "text": [
            "INFO:sqlalchemy.engine.base.Engine:SELECT estudiantes.\"ID\", estudiantes.\"NOMBRE\", estudiantes.\"APELLIDO\" \n",
            "FROM estudiantes\n"
          ],
          "name": "stderr"
        },
        {
          "output_type": "stream",
          "text": [
            "2020-09-01 17:59:34,920 INFO sqlalchemy.engine.base.Engine ()\n"
          ],
          "name": "stdout"
        },
        {
          "output_type": "stream",
          "text": [
            "INFO:sqlalchemy.engine.base.Engine:()\n"
          ],
          "name": "stderr"
        },
        {
          "output_type": "stream",
          "text": [
            "[(1, 'Sebastian', 'Sanchez'), (2, 'Paula', 'Lopez'), (3, 'Pablo', 'Bellido'), (4, 'Paola', 'Larco'), (5, 'Daniela', 'Diaz')]\n"
          ],
          "name": "stdout"
        }
      ]
    },
    {
      "cell_type": "markdown",
      "metadata": {
        "id": "srb3WoPkdBZK",
        "colab_type": "text"
      },
      "source": [
        "Otra forma de hacer está operación sería:"
      ]
    },
    {
      "cell_type": "code",
      "metadata": {
        "id": "43i2yZbRTYZR",
        "colab_type": "code",
        "colab": {
          "base_uri": "https://localhost:8080/",
          "height": 258
        },
        "outputId": "48ef1bbd-f895-4f44-8c71-3f69053f8718"
      },
      "source": [
        "#Conexión\n",
        "conn = engine.connect()\n",
        "\n",
        "# Instrucción\n",
        "stmt = estudiantes.update().where(estudiantes.c.APELLIDO==\"Lopez\").values(APELLIDO=\"Giraldo\")\n",
        "conn.execute(stmt)\n",
        "\n",
        "#Selección para visualización\n",
        "sel = estudiantes.select()\n",
        "print(conn.execute(sel).fetchall())\n",
        "\n",
        "#Cerrar\n",
        "conn.close()"
      ],
      "execution_count": null,
      "outputs": [
        {
          "output_type": "stream",
          "text": [
            "2020-09-01 18:01:04,779 INFO sqlalchemy.engine.base.Engine UPDATE estudiantes SET \"APELLIDO\"=? WHERE estudiantes.\"APELLIDO\" = ?\n"
          ],
          "name": "stdout"
        },
        {
          "output_type": "stream",
          "text": [
            "INFO:sqlalchemy.engine.base.Engine:UPDATE estudiantes SET \"APELLIDO\"=? WHERE estudiantes.\"APELLIDO\" = ?\n"
          ],
          "name": "stderr"
        },
        {
          "output_type": "stream",
          "text": [
            "2020-09-01 18:01:04,781 INFO sqlalchemy.engine.base.Engine ('Giraldo', 'Lopez')\n"
          ],
          "name": "stdout"
        },
        {
          "output_type": "stream",
          "text": [
            "INFO:sqlalchemy.engine.base.Engine:('Giraldo', 'Lopez')\n"
          ],
          "name": "stderr"
        },
        {
          "output_type": "stream",
          "text": [
            "2020-09-01 18:01:04,784 INFO sqlalchemy.engine.base.Engine COMMIT\n"
          ],
          "name": "stdout"
        },
        {
          "output_type": "stream",
          "text": [
            "INFO:sqlalchemy.engine.base.Engine:COMMIT\n"
          ],
          "name": "stderr"
        },
        {
          "output_type": "stream",
          "text": [
            "2020-09-01 18:01:04,802 INFO sqlalchemy.engine.base.Engine SELECT estudiantes.\"ID\", estudiantes.\"NOMBRE\", estudiantes.\"APELLIDO\" \n",
            "FROM estudiantes\n"
          ],
          "name": "stdout"
        },
        {
          "output_type": "stream",
          "text": [
            "INFO:sqlalchemy.engine.base.Engine:SELECT estudiantes.\"ID\", estudiantes.\"NOMBRE\", estudiantes.\"APELLIDO\" \n",
            "FROM estudiantes\n"
          ],
          "name": "stderr"
        },
        {
          "output_type": "stream",
          "text": [
            "2020-09-01 18:01:04,803 INFO sqlalchemy.engine.base.Engine ()\n"
          ],
          "name": "stdout"
        },
        {
          "output_type": "stream",
          "text": [
            "INFO:sqlalchemy.engine.base.Engine:()\n"
          ],
          "name": "stderr"
        },
        {
          "output_type": "stream",
          "text": [
            "[(1, 'Sebastian', 'Sanchez'), (2, 'Paula', 'Giraldo'), (3, 'Pablo', 'Bellido'), (4, 'Paola', 'Larco'), (5, 'Daniela', 'Diaz')]\n"
          ],
          "name": "stdout"
        }
      ]
    },
    {
      "cell_type": "markdown",
      "metadata": {
        "id": "peB89NUjgVFL",
        "colab_type": "text"
      },
      "source": [
        "###**Expresión `DELETE`**\n",
        "\n",
        "Similar a la sección anterior, una operación `delete()` puede realizarse mediante el método `delete()` en un objeto tabla mediante la siguiente instrucción:"
      ]
    },
    {
      "cell_type": "code",
      "metadata": {
        "id": "z4CEgF9rhecb",
        "colab_type": "code",
        "colab": {
          "base_uri": "https://localhost:8080/",
          "height": 35
        },
        "outputId": "b0520c31-d5cc-446a-aaf9-6e11c14a7afd"
      },
      "source": [
        "stmt = estudiantes.delete()\n",
        "# Función SQL\n",
        "str(stmt)"
      ],
      "execution_count": null,
      "outputs": [
        {
          "output_type": "execute_result",
          "data": {
            "application/vnd.google.colaboratory.intrinsic+json": {
              "type": "string"
            },
            "text/plain": [
              "'DELETE FROM estudiantes'"
            ]
          },
          "metadata": {
            "tags": []
          },
          "execution_count": 188
        }
      ]
    },
    {
      "cell_type": "markdown",
      "metadata": {
        "id": "COZT5uqBilcm",
        "colab_type": "text"
      },
      "source": [
        "Este comando eliminaría todas las entradas de la tabla. Eliminemos, por ejemplo la entrada con `id==1`. "
      ]
    },
    {
      "cell_type": "code",
      "metadata": {
        "id": "8RwfNJM8judQ",
        "colab_type": "code",
        "colab": {
          "base_uri": "https://localhost:8080/",
          "height": 35
        },
        "outputId": "e7087bb4-1c48-4c5c-f6ad-90e585ef653e"
      },
      "source": [
        "stmt = estudiantes.delete().where(estudiantes.c.ID==1)\n",
        "str(stmt)"
      ],
      "execution_count": null,
      "outputs": [
        {
          "output_type": "execute_result",
          "data": {
            "application/vnd.google.colaboratory.intrinsic+json": {
              "type": "string"
            },
            "text/plain": [
              "'DELETE FROM estudiantes WHERE estudiantes.\"ID\" = :ID_1'"
            ]
          },
          "metadata": {
            "tags": []
          },
          "execution_count": 190
        }
      ]
    },
    {
      "cell_type": "code",
      "metadata": {
        "id": "xBgsByyVj5XA",
        "colab_type": "code",
        "colab": {
          "base_uri": "https://localhost:8080/",
          "height": 258
        },
        "outputId": "5d4bf403-734a-40fb-fc05-c1dc32149694"
      },
      "source": [
        "#Conexión\n",
        "conn = engine.connect()\n",
        "\n",
        "#Instrucción\n",
        "stmt = estudiantes.delete().where(estudiantes.c.ID==1)\n",
        "conn.execute(stmt)\n",
        "\n",
        "#Selección para visualizar cambio\n",
        "sel = estudiantes.select()\n",
        "print(conn.execute(sel).fetchall())\n",
        "\n",
        "#Cierre conexión\n",
        "conn.close()"
      ],
      "execution_count": null,
      "outputs": [
        {
          "output_type": "stream",
          "text": [
            "2020-09-01 18:04:22,345 INFO sqlalchemy.engine.base.Engine DELETE FROM estudiantes WHERE estudiantes.\"ID\" = ?\n"
          ],
          "name": "stdout"
        },
        {
          "output_type": "stream",
          "text": [
            "INFO:sqlalchemy.engine.base.Engine:DELETE FROM estudiantes WHERE estudiantes.\"ID\" = ?\n"
          ],
          "name": "stderr"
        },
        {
          "output_type": "stream",
          "text": [
            "2020-09-01 18:04:22,347 INFO sqlalchemy.engine.base.Engine (1,)\n"
          ],
          "name": "stdout"
        },
        {
          "output_type": "stream",
          "text": [
            "INFO:sqlalchemy.engine.base.Engine:(1,)\n"
          ],
          "name": "stderr"
        },
        {
          "output_type": "stream",
          "text": [
            "2020-09-01 18:04:22,350 INFO sqlalchemy.engine.base.Engine COMMIT\n"
          ],
          "name": "stdout"
        },
        {
          "output_type": "stream",
          "text": [
            "INFO:sqlalchemy.engine.base.Engine:COMMIT\n"
          ],
          "name": "stderr"
        },
        {
          "output_type": "stream",
          "text": [
            "2020-09-01 18:04:22,367 INFO sqlalchemy.engine.base.Engine SELECT estudiantes.\"ID\", estudiantes.\"NOMBRE\", estudiantes.\"APELLIDO\" \n",
            "FROM estudiantes\n"
          ],
          "name": "stdout"
        },
        {
          "output_type": "stream",
          "text": [
            "INFO:sqlalchemy.engine.base.Engine:SELECT estudiantes.\"ID\", estudiantes.\"NOMBRE\", estudiantes.\"APELLIDO\" \n",
            "FROM estudiantes\n"
          ],
          "name": "stderr"
        },
        {
          "output_type": "stream",
          "text": [
            "2020-09-01 18:04:22,371 INFO sqlalchemy.engine.base.Engine ()\n"
          ],
          "name": "stdout"
        },
        {
          "output_type": "stream",
          "text": [
            "INFO:sqlalchemy.engine.base.Engine:()\n"
          ],
          "name": "stderr"
        },
        {
          "output_type": "stream",
          "text": [
            "[(2, 'Paula', 'Giraldo'), (3, 'Pablo', 'Bellido'), (4, 'Paola', 'Larco'), (5, 'Daniela', 'Diaz')]\n"
          ],
          "name": "stdout"
        }
      ]
    },
    {
      "cell_type": "markdown",
      "metadata": {
        "colab_type": "text",
        "id": "Kezfb4z226Rd"
      },
      "source": [
        "##**Taller de creación y manipulación de bases de datos:**\n",
        "\n",
        "En los equipos conformados en clase, cree una base de datos de una sola entidad o tabla usando `sqlalchemy` y motor de base de datos `sqlite`. En el ejercicio se deben tener en cuenta los siguientes pasos\n",
        "\n",
        "1. Creación de la base de datos.\n",
        "2. Inserción de instancias en dicha base de datos.\n",
        "3. Selección de algunos datos para visualizar.\n",
        "4. Selección de de datos mediante la clausula `WHERE`.\n",
        "5. Actualización de datos.\n",
        "6. Inserción de nuevos elementos y establecimiento de un criterio para luego borrarlos. \n",
        "\n",
        "**Nota:** En cada uno de los pasos deberá visualizar los resultados obtenidos."
      ]
    },
    {
      "cell_type": "markdown",
      "metadata": {
        "id": "Fxp8AfiOlOJa",
        "colab_type": "text"
      },
      "source": [
        "##**`SQLAlchemy` Core: Tablas múltiples**"
      ]
    },
    {
      "cell_type": "markdown",
      "metadata": {
        "id": "7oww5L9AEGBj",
        "colab_type": "text"
      },
      "source": [
        "###**Creación de tablas múltiples relacionadas:**"
      ]
    },
    {
      "cell_type": "markdown",
      "metadata": {
        "id": "GxvSPj4-gmSM",
        "colab_type": "text"
      },
      "source": [
        "A continuación se muestra el proceso de creación de tablas múltiples, en donde se permite, por ejemple, el establecimiento de relaciones entre dos o más tablas."
      ]
    },
    {
      "cell_type": "code",
      "metadata": {
        "id": "g9eb6biJbowd",
        "colab_type": "code",
        "colab": {}
      },
      "source": [
        "rm inmuebles_multi_tablas.db"
      ],
      "execution_count": null,
      "outputs": []
    },
    {
      "cell_type": "code",
      "metadata": {
        "id": "1sZ7Ou3RpGfo",
        "colab_type": "code",
        "colab": {
          "base_uri": "https://localhost:8080/",
          "height": 639
        },
        "outputId": "29e671b3-6807-4e3b-c6ab-e6498344c3d4"
      },
      "source": [
        "from sqlalchemy import create_engine, MetaData, Table, Column, Integer, String, ForeignKey\n",
        "engine = create_engine('sqlite:///inmuebles_multi_tablas.db', echo=True)\n",
        "meta = MetaData()\n",
        "\n",
        "propietarios = Table(\n",
        "   'propietarios', meta, \n",
        "   Column('id', Integer, primary_key = True), \n",
        "   Column('nombre', String), \n",
        "   Column('apellido', String), \n",
        ")\n",
        "\n",
        "casas = Table(\n",
        "   'casas', meta, \n",
        "   Column('id', Integer, primary_key = True), \n",
        "   Column('prop_id', Integer, ForeignKey('propietarios.id')), \n",
        "   Column('barrio', String), \n",
        "   Column('estrato', Integer))\n",
        "\n",
        "meta.create_all(engine)"
      ],
      "execution_count": null,
      "outputs": [
        {
          "output_type": "stream",
          "text": [
            "2020-08-27 19:44:04,433 INFO sqlalchemy.engine.base.Engine SELECT CAST('test plain returns' AS VARCHAR(60)) AS anon_1\n",
            "2020-08-27 19:44:04,435 INFO sqlalchemy.engine.base.Engine ()\n",
            "2020-08-27 19:44:04,438 INFO sqlalchemy.engine.base.Engine SELECT CAST('test unicode returns' AS VARCHAR(60)) AS anon_1\n",
            "2020-08-27 19:44:04,439 INFO sqlalchemy.engine.base.Engine ()\n",
            "2020-08-27 19:44:04,441 INFO sqlalchemy.engine.base.Engine PRAGMA main.table_info(\"propietarios\")\n",
            "2020-08-27 19:44:04,442 INFO sqlalchemy.engine.base.Engine ()\n",
            "2020-08-27 19:44:04,444 INFO sqlalchemy.engine.base.Engine PRAGMA temp.table_info(\"propietarios\")\n",
            "2020-08-27 19:44:04,446 INFO sqlalchemy.engine.base.Engine ()\n",
            "2020-08-27 19:44:04,447 INFO sqlalchemy.engine.base.Engine PRAGMA main.table_info(\"casas\")\n",
            "2020-08-27 19:44:04,448 INFO sqlalchemy.engine.base.Engine ()\n",
            "2020-08-27 19:44:04,450 INFO sqlalchemy.engine.base.Engine PRAGMA temp.table_info(\"casas\")\n",
            "2020-08-27 19:44:04,451 INFO sqlalchemy.engine.base.Engine ()\n",
            "2020-08-27 19:44:04,454 INFO sqlalchemy.engine.base.Engine \n",
            "CREATE TABLE propietarios (\n",
            "\tid INTEGER NOT NULL, \n",
            "\tnombre VARCHAR, \n",
            "\tapellido VARCHAR, \n",
            "\tPRIMARY KEY (id)\n",
            ")\n",
            "\n",
            "\n",
            "2020-08-27 19:44:04,455 INFO sqlalchemy.engine.base.Engine ()\n",
            "2020-08-27 19:44:04,471 INFO sqlalchemy.engine.base.Engine COMMIT\n",
            "2020-08-27 19:44:04,476 INFO sqlalchemy.engine.base.Engine \n",
            "CREATE TABLE casas (\n",
            "\tid INTEGER NOT NULL, \n",
            "\tprop_id INTEGER, \n",
            "\tbarrio VARCHAR, \n",
            "\testrato INTEGER, \n",
            "\tPRIMARY KEY (id), \n",
            "\tFOREIGN KEY(prop_id) REFERENCES propietarios (id)\n",
            ")\n",
            "\n",
            "\n",
            "2020-08-27 19:44:04,478 INFO sqlalchemy.engine.base.Engine ()\n",
            "2020-08-27 19:44:04,494 INFO sqlalchemy.engine.base.Engine COMMIT\n"
          ],
          "name": "stdout"
        }
      ]
    },
    {
      "cell_type": "code",
      "metadata": {
        "id": "asJIPK7zrjbs",
        "colab_type": "code",
        "colab": {
          "base_uri": "https://localhost:8080/",
          "height": 121
        },
        "outputId": "e6de737d-021a-490c-8268-7b2582d4dba6"
      },
      "source": [
        "ls -la"
      ],
      "execution_count": null,
      "outputs": [
        {
          "output_type": "stream",
          "text": [
            "total 28\n",
            "drwxr-xr-x 1 root root  4096 Aug 27 19:44 \u001b[0m\u001b[01;34m.\u001b[0m/\n",
            "drwxr-xr-x 1 root root  4096 Aug 27 13:06 \u001b[01;34m..\u001b[0m/\n",
            "drwxr-xr-x 1 root root  4096 Aug 24 16:35 \u001b[01;34m.config\u001b[0m/\n",
            "-rw-r--r-- 1 root root 12288 Aug 27 19:44 inmuebles_multi_tablas.db\n",
            "drwxr-xr-x 1 root root  4096 Aug 24 16:35 \u001b[01;34msample_data\u001b[0m/\n"
          ],
          "name": "stdout"
        }
      ]
    },
    {
      "cell_type": "code",
      "metadata": {
        "id": "LO9-EURArZ9r",
        "colab_type": "code",
        "colab": {
          "base_uri": "https://localhost:8080/",
          "height": 55
        },
        "outputId": "61130c8f-9bd3-48d4-92e9-f7ad365af4cc"
      },
      "source": [
        "meta.tables"
      ],
      "execution_count": null,
      "outputs": [
        {
          "output_type": "execute_result",
          "data": {
            "text/plain": [
              "immutabledict({'propietarios': Table('propietarios', MetaData(bind=None), Column('id', Integer(), table=<propietarios>, primary_key=True, nullable=False), Column('nombre', String(), table=<propietarios>), Column('apellido', String(), table=<propietarios>), schema=None), 'casas': Table('casas', MetaData(bind=None), Column('id', Integer(), table=<casas>, primary_key=True, nullable=False), Column('prop_id', Integer(), ForeignKey('propietarios.id'), table=<casas>), Column('barrio', String(), table=<casas>), Column('estrato', Integer(), table=<casas>), schema=None)})"
            ]
          },
          "metadata": {
            "tags": []
          },
          "execution_count": 100
        }
      ]
    },
    {
      "cell_type": "markdown",
      "metadata": {
        "id": "QDzqMZhIs6V3",
        "colab_type": "text"
      },
      "source": [
        "Rellenemos ahora, las tablas con algunos datos:"
      ]
    },
    {
      "cell_type": "code",
      "metadata": {
        "id": "fV9-xLIas_ix",
        "colab_type": "code",
        "colab": {
          "base_uri": "https://localhost:8080/",
          "height": 158
        },
        "outputId": "524d8918-3bfd-4776-c743-e844d0173643"
      },
      "source": [
        "# Objeto conexión DBAPI\n",
        "conn = engine.connect()\n",
        "\n",
        "# Inserción datos tabla estudiantes\n",
        "conn.execute(propietarios.insert(), [\n",
        "   {'nombre':'Sebastian', 'apellido':'Sanchez'},\n",
        "   {'nombre':'Pablo', 'apellido' : 'Bellido'},\n",
        "   {'nombre':'Paula','apellido' : 'Mur'},\n",
        "   {'nombre':'Paola','apellido' : 'Larco'},\n",
        "   {'nombre':'Daniela','apellido' : 'Diaz'},\n",
        "])\n",
        "\n",
        "#Inserción datos tabla direcciones\n",
        "conn.execute(casas.insert(), [\n",
        "   {'prop_id':1, 'barrio':'Laureles', 'estrato':4},\n",
        "   {'prop_id':1, 'barrio':'Manila', 'estrato':5},\n",
        "   {'prop_id':3, 'barrio':'Aranjuez', 'estrato':3},\n",
        "   {'prop_id':5, 'barrio':'San Javier', 'estrato':2},\n",
        "   {'prop_id':2, 'barrio':'Belen', 'estrato':4},\n",
        "])"
      ],
      "execution_count": null,
      "outputs": [
        {
          "output_type": "stream",
          "text": [
            "2020-08-27 19:44:32,250 INFO sqlalchemy.engine.base.Engine INSERT INTO propietarios (nombre, apellido) VALUES (?, ?)\n",
            "2020-08-27 19:44:32,252 INFO sqlalchemy.engine.base.Engine (('Sebastian', 'Sanchez'), ('Pablo', 'Bellido'), ('Paula', 'Mur'), ('Paola', 'Larco'), ('Daniela', 'Diaz'))\n",
            "2020-08-27 19:44:32,254 INFO sqlalchemy.engine.base.Engine COMMIT\n",
            "2020-08-27 19:44:32,270 INFO sqlalchemy.engine.base.Engine INSERT INTO casas (prop_id, barrio, estrato) VALUES (?, ?, ?)\n",
            "2020-08-27 19:44:32,271 INFO sqlalchemy.engine.base.Engine ((1, 'Laureles', 4), (1, 'Manila', 5), (3, 'Aranjuez', 3), (5, 'San Javier', 2), (2, 'Belen', 4))\n",
            "2020-08-27 19:44:32,273 INFO sqlalchemy.engine.base.Engine COMMIT\n"
          ],
          "name": "stdout"
        },
        {
          "output_type": "execute_result",
          "data": {
            "text/plain": [
              "<sqlalchemy.engine.result.ResultProxy at 0x7f4d8c353d68>"
            ]
          },
          "metadata": {
            "tags": []
          },
          "execution_count": 101
        }
      ]
    },
    {
      "cell_type": "markdown",
      "metadata": {
        "id": "eXI6AM2_wjpx",
        "colab_type": "text"
      },
      "source": [
        "Tengamos en cuenta que la columna `prop_id` en la tabla `casas` se refiere al `id` de la columna en la tabla `estudiantes`. Podemos usar esta relación para obtener datos de ambas tablas.\n",
        "\n",
        "Supongamos, por emplo, que deseamos obtener el nombre y el apellido de la tabla de estudiantes correspondientes al `est_id` de la tabla de direcciones:"
      ]
    },
    {
      "cell_type": "code",
      "metadata": {
        "id": "7DE5C-p9xJhp",
        "colab_type": "code",
        "colab": {
          "base_uri": "https://localhost:8080/",
          "height": 193
        },
        "outputId": "bc6cc145-6d60-4fa9-f3f7-c0e0877a8880"
      },
      "source": [
        "from sqlalchemy.sql import select\n",
        "\n",
        "sel = select([propietarios]).where(propietarios.c.id==casas.c.prop_id)\n",
        "resultado = conn.execute(sel)\n",
        "\n",
        "for filas in resultado:\n",
        "  print(filas)"
      ],
      "execution_count": null,
      "outputs": [
        {
          "output_type": "stream",
          "text": [
            "2020-08-27 19:50:53,196 INFO sqlalchemy.engine.base.Engine SELECT propietarios.id, propietarios.nombre, propietarios.apellido \n",
            "FROM propietarios, casas \n",
            "WHERE propietarios.id = casas.prop_id\n",
            "2020-08-27 19:50:53,197 INFO sqlalchemy.engine.base.Engine ()\n",
            "(1, 'Sebastian', 'Sanchez')\n",
            "(1, 'Sebastian', 'Sanchez')\n",
            "(3, 'Paula', 'Mur')\n",
            "(5, 'Daniela', 'Diaz')\n",
            "(2, 'Pablo', 'Bellido')\n"
          ],
          "name": "stdout"
        }
      ]
    },
    {
      "cell_type": "markdown",
      "metadata": {
        "id": "veZgaj7QyMTs",
        "colab_type": "text"
      },
      "source": [
        "En donde la instrucción en `SQL` es:"
      ]
    },
    {
      "cell_type": "code",
      "metadata": {
        "id": "mhu7jByEyLSj",
        "colab_type": "code",
        "colab": {
          "base_uri": "https://localhost:8080/",
          "height": 53
        },
        "outputId": "bfda4bac-1685-44e2-a31e-b3976261f7fe"
      },
      "source": [
        "str(sel)"
      ],
      "execution_count": null,
      "outputs": [
        {
          "output_type": "execute_result",
          "data": {
            "application/vnd.google.colaboratory.intrinsic+json": {
              "type": "string"
            },
            "text/plain": [
              "'SELECT estudiantes.id, estudiantes.nombre, estudiantes.apellido, direcciones.id, direcciones.est_id, direcciones.barrio, direcciones.correo \\nFROM estudiantes, direcciones \\nWHERE estudiantes.id = direcciones.est_id'"
            ]
          },
          "metadata": {
            "tags": []
          },
          "execution_count": 7
        }
      ]
    },
    {
      "cell_type": "markdown",
      "metadata": {
        "id": "uN-HO4jL85PM",
        "colab_type": "text"
      },
      "source": [
        "O de forma más organizada:\n",
        "\n",
        "```\n",
        "SELECT estudiantes.id, \n",
        "  estudiantes.nombre, \n",
        "  estudiantes.apellido, \n",
        "  direcciones.id, \n",
        "  direcciones.est_id, \n",
        "  direcciones.barrio, \n",
        "  direcciones.correo \n",
        "FROM estudiantes, direcciones \n",
        "WHERE estudiantes.id = direcciones.est_id\n",
        "```"
      ]
    },
    {
      "cell_type": "markdown",
      "metadata": {
        "id": "WF7mybN-t4iV",
        "colab_type": "text"
      },
      "source": [
        "# **H. `sqlalchemy` y `flask`:**\n",
        "\n",
        "Para trabajar con bases de datos en `Python` tenemos varias opciones:\n",
        "\n",
        "1. Uso de sistemas de manejo de bases de datos relacionales (RDBMS) embebidos como `sqlite3`, `mysql-connector-python` o `psycopg2` de PostgreSQL. Por ejemplo, el uso de `sqlite3` se asemejaría mucho a `SQL`.\n",
        "\n",
        "2. El uso de \"Mapeadores de Objetos Relacionales\" (ORM - Object-Relational Mappres) que corresponden a capas abstractas de bases de datos donde **se usan objetos  regulares de `Python` en lugar de entidades de bases de datos como tablas**. En el caso de `SQL` en `python` tenemos en `SQLAlchemy`. Para realizar alguna de este consulta de este toolkit podemos acceder a este [link](https://www.sqlalchemy.org/). Por otra parte, dado que trabajaremos con aplicaciones web, nos remitiremos a la extensión `flask_sqlalchemy` que soporta `SQLAlchemy` en apps ([ver link](https://flask-sqlalchemy.palletsprojects.com/en/2.x/))."
      ]
    },
    {
      "cell_type": "markdown",
      "metadata": {
        "id": "wlbtFaLlsCU1",
        "colab_type": "text"
      },
      "source": [
        "##**Instalación de los paquetes necesarios**\n",
        "\n",
        "El primer paso consistiría en instalar los paquenes necesarios para trabajar con bases de datos SQL:"
      ]
    },
    {
      "cell_type": "code",
      "metadata": {
        "id": "iVxLZIbn9sjP",
        "colab_type": "code",
        "colab": {
          "base_uri": "https://localhost:8080/",
          "height": 400
        },
        "outputId": "5d3bd40b-9680-4279-90f7-a469210e8532"
      },
      "source": [
        "!pip install SQLAlchemy\n",
        "!pip install flask_sqlalchemy\n",
        "!pip install flask_ngrok"
      ],
      "execution_count": null,
      "outputs": [
        {
          "output_type": "stream",
          "text": [
            "Requirement already satisfied: SQLAlchemy in /usr/local/lib/python3.6/dist-packages (1.3.19)\n",
            "Requirement already satisfied: flask_sqlalchemy in /usr/local/lib/python3.6/dist-packages (2.4.4)\n",
            "Requirement already satisfied: SQLAlchemy>=0.8.0 in /usr/local/lib/python3.6/dist-packages (from flask_sqlalchemy) (1.3.19)\n",
            "Requirement already satisfied: Flask>=0.10 in /usr/local/lib/python3.6/dist-packages (from flask_sqlalchemy) (1.1.2)\n",
            "Requirement already satisfied: click>=5.1 in /usr/local/lib/python3.6/dist-packages (from Flask>=0.10->flask_sqlalchemy) (7.1.2)\n",
            "Requirement already satisfied: Werkzeug>=0.15 in /usr/local/lib/python3.6/dist-packages (from Flask>=0.10->flask_sqlalchemy) (1.0.1)\n",
            "Requirement already satisfied: Jinja2>=2.10.1 in /usr/local/lib/python3.6/dist-packages (from Flask>=0.10->flask_sqlalchemy) (2.11.2)\n",
            "Requirement already satisfied: itsdangerous>=0.24 in /usr/local/lib/python3.6/dist-packages (from Flask>=0.10->flask_sqlalchemy) (1.1.0)\n",
            "Requirement already satisfied: MarkupSafe>=0.23 in /usr/local/lib/python3.6/dist-packages (from Jinja2>=2.10.1->Flask>=0.10->flask_sqlalchemy) (1.1.1)\n",
            "Requirement already satisfied: flask_ngrok in /usr/local/lib/python3.6/dist-packages (0.0.25)\n",
            "Requirement already satisfied: requests in /usr/local/lib/python3.6/dist-packages (from flask_ngrok) (2.23.0)\n",
            "Requirement already satisfied: Flask>=0.8 in /usr/local/lib/python3.6/dist-packages (from flask_ngrok) (1.1.2)\n",
            "Requirement already satisfied: urllib3!=1.25.0,!=1.25.1,<1.26,>=1.21.1 in /usr/local/lib/python3.6/dist-packages (from requests->flask_ngrok) (1.24.3)\n",
            "Requirement already satisfied: idna<3,>=2.5 in /usr/local/lib/python3.6/dist-packages (from requests->flask_ngrok) (2.10)\n",
            "Requirement already satisfied: chardet<4,>=3.0.2 in /usr/local/lib/python3.6/dist-packages (from requests->flask_ngrok) (3.0.4)\n",
            "Requirement already satisfied: certifi>=2017.4.17 in /usr/local/lib/python3.6/dist-packages (from requests->flask_ngrok) (2020.6.20)\n",
            "Requirement already satisfied: Werkzeug>=0.15 in /usr/local/lib/python3.6/dist-packages (from Flask>=0.8->flask_ngrok) (1.0.1)\n",
            "Requirement already satisfied: Jinja2>=2.10.1 in /usr/local/lib/python3.6/dist-packages (from Flask>=0.8->flask_ngrok) (2.11.2)\n",
            "Requirement already satisfied: itsdangerous>=0.24 in /usr/local/lib/python3.6/dist-packages (from Flask>=0.8->flask_ngrok) (1.1.0)\n",
            "Requirement already satisfied: click>=5.1 in /usr/local/lib/python3.6/dist-packages (from Flask>=0.8->flask_ngrok) (7.1.2)\n",
            "Requirement already satisfied: MarkupSafe>=0.23 in /usr/local/lib/python3.6/dist-packages (from Jinja2>=2.10.1->Flask>=0.8->flask_ngrok) (1.1.1)\n"
          ],
          "name": "stdout"
        }
      ]
    },
    {
      "cell_type": "code",
      "metadata": {
        "id": "12DElpRxQY9e",
        "colab_type": "code",
        "colab": {}
      },
      "source": [
        "!rm app_db.py db_test.db "
      ],
      "execution_count": null,
      "outputs": []
    },
    {
      "cell_type": "code",
      "metadata": {
        "id": "tm8vv5UZIvUF",
        "colab_type": "code",
        "colab": {}
      },
      "source": [
        "file = open(\"app_db.py\",\"w\")\n",
        "file.write('''from flask import Flask\n",
        "from flask_sqlalchemy import SQLAlchemy\n",
        "\n",
        "app = Flask(__name__)\n",
        "app.config[\"SQLALCHEMY_DATABASE_URI\"]=\"sqlite:////content/db_test.db\"\n",
        "app.config[\"SQLALCHEMY_TRACK_MODIFICATIONS\"] = False\n",
        "db = SQLAlchemy(app)\n",
        "\n",
        "class User(db.Model):\n",
        "    id = db.Column(db.Integer, primary_key=True)\n",
        "    username = db.Column(db.String(80), unique=True, nullable=False)\n",
        "    email = db.Column(db.String(120), unique=True, nullable=False)\n",
        "\n",
        "    def __repr__(self):\n",
        "        return '<User %r>' % self.username\n",
        "\n",
        "#app.run()\n",
        "#db.init_app(app)\n",
        "''')\n",
        "\n",
        "file.close()"
      ],
      "execution_count": null,
      "outputs": []
    },
    {
      "cell_type": "code",
      "metadata": {
        "id": "3Aq4K4c4jOsX",
        "colab_type": "code",
        "colab": {
          "base_uri": "https://localhost:8080/",
          "height": 35
        },
        "outputId": "04c2602b-cb79-4ebe-f2d6-3b16f6cc4434"
      },
      "source": [
        "ls"
      ],
      "execution_count": null,
      "outputs": [
        {
          "output_type": "stream",
          "text": [
            "app_db.py  \u001b[0m\u001b[01;34m__pycache__\u001b[0m/  \u001b[01;34msample_data\u001b[0m/\n"
          ],
          "name": "stdout"
        }
      ]
    },
    {
      "cell_type": "code",
      "metadata": {
        "id": "lbkpg9_C8Kvp",
        "colab_type": "code",
        "colab": {}
      },
      "source": [
        "from app_db import db\n",
        "db.create_all()"
      ],
      "execution_count": null,
      "outputs": []
    },
    {
      "cell_type": "code",
      "metadata": {
        "id": "bhAhPf1W8avj",
        "colab_type": "code",
        "colab": {
          "base_uri": "https://localhost:8080/",
          "height": 35
        },
        "outputId": "53c593fb-006b-4622-9b47-d320a6ebf7d7"
      },
      "source": [
        "ls"
      ],
      "execution_count": null,
      "outputs": [
        {
          "output_type": "stream",
          "text": [
            "app_db.py  db_test.db  \u001b[0m\u001b[01;34m__pycache__\u001b[0m/  \u001b[01;34msample_data\u001b[0m/\n"
          ],
          "name": "stdout"
        }
      ]
    },
    {
      "cell_type": "code",
      "metadata": {
        "id": "_FqDvvUILdRS",
        "colab_type": "code",
        "colab": {}
      },
      "source": [
        "# Insert element\n",
        "from app import User\n",
        "usuarioA = User(username=\"Sebastian\", email = \"ssanchez2@eafit.edu.co\")\n",
        "db.session.add(usuarioA)\n",
        "db.session.commit()"
      ],
      "execution_count": null,
      "outputs": []
    },
    {
      "cell_type": "code",
      "metadata": {
        "id": "q_fit2A2QKA-",
        "colab_type": "code",
        "colab": {}
      },
      "source": [
        "import sqlalchemy"
      ],
      "execution_count": null,
      "outputs": []
    },
    {
      "cell_type": "code",
      "metadata": {
        "id": "OzWqaSjTv5pL",
        "colab_type": "code",
        "colab": {
          "base_uri": "https://localhost:8080/",
          "height": 35
        },
        "outputId": "5ac14c86-f846-498e-89da-863d40e714d5"
      },
      "source": [
        "ls"
      ],
      "execution_count": null,
      "outputs": [
        {
          "output_type": "stream",
          "text": [
            "\u001b[0m\u001b[01;34m__pycache__\u001b[0m/  \u001b[01;34msample_data\u001b[0m/\n"
          ],
          "name": "stdout"
        }
      ]
    },
    {
      "cell_type": "code",
      "metadata": {
        "id": "_6-eZEi0v6C-",
        "colab_type": "code",
        "colab": {}
      },
      "source": [
        ""
      ],
      "execution_count": null,
      "outputs": []
    }
  ]
}